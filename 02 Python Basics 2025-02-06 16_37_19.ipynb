{
 "cells": [
  {
   "cell_type": "code",
   "execution_count": 5,
   "id": "39df26af-2ee4-4a83-b0c8-96eb9823e355",
   "metadata": {},
   "outputs": [
    {
     "data": {
      "text/plain": [
       "123"
      ]
     },
     "execution_count": 5,
     "metadata": {},
     "output_type": "execute_result"
    }
   ],
   "source": [
    "int('123')"
   ]
  },
  {
   "cell_type": "code",
   "execution_count": 6,
   "id": "ae6eb5cf-6dd5-4098-8c55-a50857c81b0e",
   "metadata": {},
   "outputs": [
    {
     "data": {
      "text/plain": [
       "123.0"
      ]
     },
     "execution_count": 6,
     "metadata": {},
     "output_type": "execute_result"
    }
   ],
   "source": [
    "float(123)"
   ]
  },
  {
   "cell_type": "code",
   "execution_count": 10,
   "id": "8d312fda-a16e-4b1f-af2d-43da0bc8b0ef",
   "metadata": {},
   "outputs": [
    {
     "data": {
      "text/plain": [
       "'123.0'"
      ]
     },
     "execution_count": 10,
     "metadata": {},
     "output_type": "execute_result"
    }
   ],
   "source": [
    "str(123.0)"
   ]
  },
  {
   "cell_type": "code",
   "execution_count": 11,
   "id": "764e8b77-18bc-48a3-962f-536fb55a6a0b",
   "metadata": {},
   "outputs": [
    {
     "data": {
      "text/plain": [
       "'123'"
      ]
     },
     "execution_count": 11,
     "metadata": {},
     "output_type": "execute_result"
    }
   ],
   "source": [
    "str(123)"
   ]
  },
  {
   "cell_type": "code",
   "execution_count": 18,
   "id": "09e0e251-af36-4708-b94a-09a25b5437d0",
   "metadata": {},
   "outputs": [
    {
     "data": {
      "text/plain": [
       "'hello'"
      ]
     },
     "execution_count": 18,
     "metadata": {},
     "output_type": "execute_result"
    }
   ],
   "source": [
    "str(\"hello\")"
   ]
  },
  {
   "cell_type": "code",
   "execution_count": 9,
   "id": "3c794612-8357-46f9-abb2-87455926829a",
   "metadata": {},
   "outputs": [
    {
     "name": "stdout",
     "output_type": "stream",
     "text": [
      "3\n"
     ]
    }
   ],
   "source": [
    "var=1        +2\n",
    "-4\n",
    "print(var)"
   ]
  },
  {
   "cell_type": "code",
   "execution_count": 1,
   "id": "53320aba",
   "metadata": {},
   "outputs": [
    {
     "name": "stdout",
     "output_type": "stream",
     "text": [
      "-1\n"
     ]
    }
   ],
   "source": [
    "var=1        + 2\\\n",
    "-4\n",
    "print(var)"
   ]
  },
  {
   "cell_type": "code",
   "execution_count": 2,
   "id": "3970cada",
   "metadata": {},
   "outputs": [
    {
     "name": "stdout",
     "output_type": "stream",
     "text": [
      "18.84 28.26\n"
     ]
    }
   ],
   "source": [
    "print(2*3.14*3, 3*3*3.14)"
   ]
  },
  {
   "cell_type": "code",
   "execution_count": 3,
   "id": "713ecef7",
   "metadata": {},
   "outputs": [
    {
     "name": "stdout",
     "output_type": "stream",
     "text": [
      "18.84\n",
      "28.259999999999998\n"
     ]
    }
   ],
   "source": [
    "radius = 3                        #set the radius of a circle\n",
    "circumference = 2*3.14*radius     #c=2*pi*D\n",
    "area = 3.14*radius*radius         #area = pi*radius^2\n",
    "\n",
    "print(circumference)\n",
    "print(area)"
   ]
  },
  {
   "cell_type": "code",
   "execution_count": 4,
   "id": "f938f93b",
   "metadata": {},
   "outputs": [
    {
     "data": {
      "text/plain": [
       "123.0"
      ]
     },
     "execution_count": 4,
     "metadata": {},
     "output_type": "execute_result"
    }
   ],
   "source": [
    "float(str(int(\"123\")))"
   ]
  },
  {
   "cell_type": "code",
   "execution_count": 4,
   "id": "ba77e03b",
   "metadata": {},
   "outputs": [
    {
     "name": "stdout",
     "output_type": "stream",
     "text": [
      "5\n",
      "foo\n"
     ]
    }
   ],
   "source": [
    "a = 5\n",
    "print(a)\n",
    "a = 'foo'\n",
    "print(a)"
   ]
  },
  {
   "cell_type": "code",
   "execution_count": 10,
   "id": "b25c806b",
   "metadata": {},
   "outputs": [
    {
     "name": "stdout",
     "output_type": "stream",
     "text": [
      "10.5\n"
     ]
    }
   ],
   "source": [
    "b = 5.5\n",
    "a= 5\n",
    "print (a + b)"
   ]
  },
  {
   "cell_type": "code",
   "execution_count": 7,
   "id": "40e19d6c",
   "metadata": {},
   "outputs": [
    {
     "data": {
      "text/plain": [
       "126"
      ]
     },
     "execution_count": 7,
     "metadata": {},
     "output_type": "execute_result"
    }
   ],
   "source": [
    "42*3"
   ]
  },
  {
   "cell_type": "code",
   "execution_count": 8,
   "id": "aab23be8",
   "metadata": {},
   "outputs": [
    {
     "data": {
      "text/plain": [
       "126.0"
      ]
     },
     "execution_count": 8,
     "metadata": {},
     "output_type": "execute_result"
    }
   ],
   "source": [
    "42*3.0"
   ]
  },
  {
   "cell_type": "code",
   "execution_count": 9,
   "id": "02c9ba28",
   "metadata": {},
   "outputs": [
    {
     "data": {
      "text/plain": [
       "126.0"
      ]
     },
     "execution_count": 9,
     "metadata": {},
     "output_type": "execute_result"
    }
   ],
   "source": [
    "42.0*3.0"
   ]
  },
  {
   "cell_type": "code",
   "execution_count": 12,
   "id": "1f8f78fa",
   "metadata": {},
   "outputs": [
    {
     "data": {
      "text/plain": [
       "1.0"
      ]
     },
     "execution_count": 12,
     "metadata": {},
     "output_type": "execute_result"
    }
   ],
   "source": [
    "3.0//2.0"
   ]
  },
  {
   "cell_type": "code",
   "execution_count": 13,
   "id": "9c46942f",
   "metadata": {},
   "outputs": [
    {
     "data": {
      "text/plain": [
       "0.6666666666666666"
      ]
     },
     "execution_count": 13,
     "metadata": {},
     "output_type": "execute_result"
    }
   ],
   "source": [
    "2/3"
   ]
  },
  {
   "cell_type": "code",
   "execution_count": 14,
   "id": "8f999c02",
   "metadata": {},
   "outputs": [
    {
     "data": {
      "text/plain": [
       "16"
      ]
     },
     "execution_count": 14,
     "metadata": {},
     "output_type": "execute_result"
    }
   ],
   "source": [
    "2*2**3"
   ]
  },
  {
   "cell_type": "code",
   "execution_count": 15,
   "id": "0f9c0477",
   "metadata": {},
   "outputs": [
    {
     "data": {
      "text/plain": [
       "12"
      ]
     },
     "execution_count": 15,
     "metadata": {},
     "output_type": "execute_result"
    }
   ],
   "source": [
    "2**2*3"
   ]
  },
  {
   "cell_type": "code",
   "execution_count": 18,
   "id": "f3cea1ce",
   "metadata": {},
   "outputs": [
    {
     "data": {
      "text/plain": [
       "True"
      ]
     },
     "execution_count": 18,
     "metadata": {},
     "output_type": "execute_result"
    }
   ],
   "source": [
    "a = 256\n",
    "b = 256\n",
    "a is b"
   ]
  },
  {
   "cell_type": "code",
   "execution_count": 20,
   "id": "6ed9136b",
   "metadata": {},
   "outputs": [
    {
     "data": {
      "text/plain": [
       "True"
      ]
     },
     "execution_count": 20,
     "metadata": {},
     "output_type": "execute_result"
    }
   ],
   "source": [
    "a = 999\n",
    "b = a\n",
    "a is b"
   ]
  },
  {
   "cell_type": "code",
   "execution_count": 21,
   "id": "daea5ef2",
   "metadata": {},
   "outputs": [
    {
     "data": {
      "text/plain": [
       "True"
      ]
     },
     "execution_count": 21,
     "metadata": {},
     "output_type": "execute_result"
    }
   ],
   "source": [
    "b = a + 0\n",
    "a == b"
   ]
  },
  {
   "cell_type": "code",
   "execution_count": 22,
   "id": "32f38def",
   "metadata": {},
   "outputs": [
    {
     "data": {
      "text/plain": [
       "False"
      ]
     },
     "execution_count": 22,
     "metadata": {},
     "output_type": "execute_result"
    }
   ],
   "source": [
    "a is b"
   ]
  },
  {
   "cell_type": "code",
   "execution_count": 2,
   "id": "ed069ad3",
   "metadata": {},
   "outputs": [
    {
     "name": "stdin",
     "output_type": "stream",
     "text": [
      "What is the radius of your circle: 5\n"
     ]
    },
    {
     "name": "stdout",
     "output_type": "stream",
     "text": [
      "31.400000000000002\n",
      "78.5\n"
     ]
    }
   ],
   "source": [
    "radius = float(input(\"What is the radius of your circle:\"))             #get the radius of a circle from users\n",
    "circumference = 2*3.14*radius     #c=2*pi*D\n",
    "area = 3.14*radius*radius         #area = pi*radius^2\n",
    "\n",
    "print(circumference)\n",
    "print(area)"
   ]
  },
  {
   "cell_type": "code",
   "execution_count": 7,
   "id": "ed1f571b",
   "metadata": {},
   "outputs": [
    {
     "name": "stdout",
     "output_type": "stream",
     "text": [
      "Help on built-in function sin in module math:\n",
      "\n",
      "sin(x, /)\n",
      "    Return the sine of x (measured in radians).\n",
      "\n"
     ]
    }
   ],
   "source": [
    "import math\n",
    "math.pi\n",
    "math.sin(1.0)\n",
    "help(math.sin)"
   ]
  },
  {
   "cell_type": "code",
   "execution_count": 12,
   "id": "97898375",
   "metadata": {},
   "outputs": [
    {
     "data": {
      "text/plain": [
       "['C:\\\\OnlineData\\\\OneDrive\\\\OneDrive - University of Massachusetts Boston\\\\Teaching\\\\MSIS615\\\\MSIS615 F2022\\\\Jupyter',\n",
       " 'C:\\\\Users\\\\TLP\\\\Anaconda\\\\python39.zip',\n",
       " 'C:\\\\Users\\\\TLP\\\\Anaconda\\\\DLLs',\n",
       " 'C:\\\\Users\\\\TLP\\\\Anaconda\\\\lib',\n",
       " 'C:\\\\Users\\\\TLP\\\\Anaconda',\n",
       " '',\n",
       " 'C:\\\\Users\\\\TLP\\\\Anaconda\\\\lib\\\\site-packages',\n",
       " 'C:\\\\Users\\\\TLP\\\\Anaconda\\\\lib\\\\site-packages\\\\win32',\n",
       " 'C:\\\\Users\\\\TLP\\\\Anaconda\\\\lib\\\\site-packages\\\\win32\\\\lib',\n",
       " 'C:\\\\Users\\\\TLP\\\\Anaconda\\\\lib\\\\site-packages\\\\Pythonwin']"
      ]
     },
     "execution_count": 12,
     "metadata": {},
     "output_type": "execute_result"
    }
   ],
   "source": [
    "import sys\n",
    "sys.path"
   ]
  },
  {
   "cell_type": "code",
   "execution_count": 14,
   "id": "d926fe97",
   "metadata": {},
   "outputs": [
    {
     "data": {
      "text/plain": [
       "'C:\\\\OnlineData\\\\OneDrive\\\\OneDrive - University of Massachusetts Boston\\\\Teaching\\\\MSIS615\\\\MSIS615 F2022\\\\Jupyter'"
      ]
     },
     "execution_count": 14,
     "metadata": {},
     "output_type": "execute_result"
    }
   ],
   "source": [
    "import os\n",
    "os.getcwd()"
   ]
  },
  {
   "cell_type": "code",
   "execution_count": 4,
   "id": "8052bcbc",
   "metadata": {},
   "outputs": [
    {
     "name": "stdin",
     "output_type": "stream",
     "text": [
      "Enter the radius of your circle: 5\n"
     ]
    },
    {
     "name": "stdout",
     "output_type": "stream",
     "text": [
      "31.41592653589793\n",
      "78.53981633974483\n"
     ]
    }
   ],
   "source": [
    "import math\n",
    "\n",
    "radius = float(input(\"Enter the radius of your circle:\"))\n",
    "circumference = 2* math.pi *radius     #c=2*pi*D\n",
    "area = math.pi*radius**2       #area = pi*radius^2\n",
    "\n",
    "print(circumference)\n",
    "print(area)"
   ]
  },
  {
   "cell_type": "code",
   "execution_count": 20,
   "id": "0e4ca3f0",
   "metadata": {},
   "outputs": [
    {
     "name": "stdin",
     "output_type": "stream",
     "text": [
      "Enter the radius of your circle: 5.5\n"
     ]
    },
    {
     "name": "stdout",
     "output_type": "stream",
     "text": [
      "34.55751918948772\n",
      "94.985\n"
     ]
    }
   ],
   "source": [
    "radius_str = float(input(\"Enter the radius of your circle:\"))\n",
    "radius = float(radius_str)\n",
    "circumference = 2*math.pi*radius     #c=2*pi*D\n",
    "area = 3.14*radius**2       #area = pi*radius^2\n",
    "\n",
    "print(circumference)\n",
    "print(area)"
   ]
  },
  {
   "cell_type": "code",
   "execution_count": 28,
   "id": "04ac20f5",
   "metadata": {},
   "outputs": [
    {
     "name": "stdin",
     "output_type": "stream",
     "text": [
      "Enter the radius of your circle: 5\n"
     ]
    },
    {
     "name": "stdout",
     "output_type": "stream",
     "text": [
      "31.41592653589793\n",
      "78.5\n"
     ]
    }
   ],
   "source": [
    "radius_str = input(\"Enter the radius of your circle:\")\n",
    "if not (float(radius_str)):\n",
    "    print(\"You need to enter a number\")\n",
    "else:\n",
    "    radius = float(radius_str)\n",
    "    circumference = 2*math.pi*radius     #c=2*pi*D\n",
    "    area = 3.14*radius**2       #area = pi*radius^2\n",
    "    print(circumference)\n",
    "    print(area)"
   ]
  },
  {
   "cell_type": "code",
   "execution_count": 45,
   "id": "7ad12631",
   "metadata": {},
   "outputs": [
    {
     "name": "stdin",
     "output_type": "stream",
     "text": [
      "Do you want to continue (yes/no)? NO\n"
     ]
    },
    {
     "name": "stdout",
     "output_type": "stream",
     "text": [
      "user doesn't want to continue\n",
      "looks like user doesn't want to continue\n",
      "Now you know whether the user want to continue or not!\n"
     ]
    }
   ],
   "source": [
    "again = input(\"Do you want to continue (yes/no)?\")\n",
    "if again.lower()!='no':\n",
    "    print(\"user wants to continue!\")\n",
    "    print(\"I told you user wants to continue!\")\n",
    "else:\n",
    "    print(\"user doesn't want to continue\")\n",
    "    print(\"looks like user doesn't want to continue\")\n",
    "print(\"Now you know whether the user want to continue or not!\")"
   ]
  },
  {
   "cell_type": "code",
   "execution_count": 4,
   "id": "d013b5af",
   "metadata": {},
   "outputs": [
    {
     "data": {
      "text/plain": [
       "True"
      ]
     },
     "execution_count": 4,
     "metadata": {},
     "output_type": "execute_result"
    }
   ],
   "source": [
    "' ' < 'a'"
   ]
  },
  {
   "cell_type": "code",
   "execution_count": 10,
   "id": "bbdfbdd0",
   "metadata": {},
   "outputs": [
    {
     "data": {
      "text/plain": [
       "True"
      ]
     },
     "execution_count": 10,
     "metadata": {},
     "output_type": "execute_result"
    }
   ],
   "source": [
    "'a' < 'abcd'"
   ]
  },
  {
   "cell_type": "code",
   "execution_count": 6,
   "id": "fbabfe18",
   "metadata": {},
   "outputs": [
    {
     "data": {
      "text/plain": [
       "True"
      ]
     },
     "execution_count": 6,
     "metadata": {},
     "output_type": "execute_result"
    }
   ],
   "source": [
    "'A' < 'a'"
   ]
  },
  {
   "cell_type": "code",
   "execution_count": 7,
   "id": "e5572690",
   "metadata": {},
   "outputs": [
    {
     "data": {
      "text/plain": [
       "False"
      ]
     },
     "execution_count": 7,
     "metadata": {},
     "output_type": "execute_result"
    }
   ],
   "source": [
    "'A' < ' '"
   ]
  },
  {
   "cell_type": "code",
   "execution_count": 8,
   "id": "8d4f5781",
   "metadata": {},
   "outputs": [
    {
     "data": {
      "text/plain": [
       "True"
      ]
     },
     "execution_count": 8,
     "metadata": {},
     "output_type": "execute_result"
    }
   ],
   "source": [
    "' ' < 'a'"
   ]
  },
  {
   "cell_type": "code",
   "execution_count": 9,
   "id": "76208806",
   "metadata": {},
   "outputs": [
    {
     "data": {
      "text/plain": [
       "True"
      ]
     },
     "execution_count": 9,
     "metadata": {},
     "output_type": "execute_result"
    }
   ],
   "source": [
    "' ' < 'A'"
   ]
  },
  {
   "cell_type": "code",
   "execution_count": 1,
   "id": "42dc6392",
   "metadata": {},
   "outputs": [
    {
     "name": "stdout",
     "output_type": "stream",
     "text": [
      "Select an option from 1-3:\n",
      "1. New Game\n",
      "2. Load Game\n",
      "3. Exit\n",
      "3\n",
      "user wants to stop playing\n"
     ]
    }
   ],
   "source": [
    "selection=input(\"Select an option from 1-3:\\n\\\n",
    "1. New Game\\n\\\n",
    "2. Load Game\\n\\\n",
    "3. Exit\\n\")\n",
    "if selection=='1':\n",
    "    print(\"user wants a new game\")\n",
    "elif selection=='2':\n",
    "    print(\"user wants to load a previous game\")\n",
    "elif selection=='3':\n",
    "    print(\"user wants to stop playing\")\n",
    "else:\n",
    "    print(\"Enter only 1, 2, or 3!\")"
   ]
  },
  {
   "cell_type": "code",
   "execution_count": 24,
   "id": "5cfd33b8",
   "metadata": {},
   "outputs": [
    {
     "name": "stdout",
     "output_type": "stream",
     "text": [
      "True\n"
     ]
    }
   ],
   "source": [
    "a = 0\n",
    "b = 0.0\n",
    "print (a == b)"
   ]
  },
  {
   "cell_type": "code",
   "execution_count": null,
   "id": "e9eb97a4",
   "metadata": {},
   "outputs": [],
   "source": [
    "selection=input(\"Select an option from 1-3:\\n\\\n",
    "1. New Game\\n\\\n",
    "2. Load Game\\n\\\n",
    "3. Exit\\n\")\n",
    "if selection=='1':\n",
    "    print(\"user wants a new game\")\n",
    "elif selection=='2':\n",
    "    print(\"user wants to load a previous game\")\n",
    "elif selection=='3':\n",
    "    print(\"user wants to stop playing\")\n",
    "else:\n",
    "    print(\"Enter only 1, 2, or 3!\")"
   ]
  },
  {
   "cell_type": "code",
   "execution_count": 30,
   "id": "4a71a148",
   "metadata": {},
   "outputs": [
    {
     "name": "stdout",
     "output_type": "stream",
     "text": [
      "Select an option from 1-3:\n",
      "        1. New Game\n",
      "        2. Load Game\n",
      "        3. Exit\n",
      "1\n",
      "user wants a new game\n",
      "Select an option from 1-3:\n",
      "        1. New Game\n",
      "        2. Load Game\n",
      "        3. Exit\n",
      "2\n",
      "user wants to load a previous game\n",
      "Select an option from 1-3:\n",
      "        1. New Game\n",
      "        2. Load Game\n",
      "        3. Exit\n",
      "3\n",
      "user wants to stop playing\n",
      "Thanks for playing, bye!\n"
     ]
    }
   ],
   "source": [
    "#keep playing until user enters 3\n",
    "selection='0'\n",
    "while selection!='3':\n",
    "    selection=input(\"Select an option from 1-3:\\n\\\n",
    "        1. New Game\\n\\\n",
    "        2. Load Game\\n\\\n",
    "        3. Exit\\n\")\n",
    "    if selection=='1':\n",
    "        print(\"user wants a new game\")\n",
    "    elif selection=='2':\n",
    "        print(\"user wants to load a previous game\")\n",
    "    elif selection=='3':\n",
    "        print(\"user wants to stop playing\")\n",
    "        break\n",
    "    else:\n",
    "        print(\"Enter only 1, 2, or 3!\")\n",
    "print(\"Thanks for playing, bye!\")"
   ]
  },
  {
   "cell_type": "code",
   "execution_count": 31,
   "id": "31ab275e",
   "metadata": {},
   "outputs": [
    {
     "name": "stdout",
     "output_type": "stream",
     "text": [
      "apple\n",
      "banana\n",
      "cherry\n",
      "pear\n",
      "pineapple\n",
      "orange\n"
     ]
    }
   ],
   "source": [
    "fruits = [\"apple\", \"banana\", \"cherry\", \"pear\", \"pineapple\", \"orange\"]\n",
    "for x in fruits:\n",
    "  print(x)"
   ]
  },
  {
   "cell_type": "code",
   "execution_count": 47,
   "id": "e04e87b4",
   "metadata": {},
   "outputs": [
    {
     "name": "stdout",
     "output_type": "stream",
     "text": [
      "p\n",
      "e\n",
      "a\n",
      "r\n"
     ]
    }
   ],
   "source": [
    "for x in \"pear\":\n",
    "  print(x)"
   ]
  },
  {
   "cell_type": "code",
   "execution_count": 35,
   "id": "50656ec9",
   "metadata": {},
   "outputs": [
    {
     "name": "stdout",
     "output_type": "stream",
     "text": [
      "1\n",
      "4\n",
      "7\n"
     ]
    }
   ],
   "source": [
    "for x in range(1,8,3):\n",
    "  print(x)"
   ]
  },
  {
   "cell_type": "code",
   "execution_count": 39,
   "id": "d90e0e6b",
   "metadata": {},
   "outputs": [
    {
     "name": "stdout",
     "output_type": "stream",
     "text": [
      "Enter the radius of your circle:3\n",
      "The circumference is: 18.84955592153876 and the area is: 28.26\n",
      "The circumference is: 18.84955592153876 and the area is:28.26\n"
     ]
    }
   ],
   "source": [
    "import math\n",
    "\n",
    "radius = float(input(\"Enter the radius of your circle:\"))\n",
    "circumference = 2*math.pi*radius     #c=2*pi*D\n",
    "area = 3.14*radius**2       #area = pi*radius^2\n",
    "\n",
    "print(\"The circumference is:\", circumference, \"and the area is:\", area)\n",
    "print(\"The circumference is: \" + str(circumference) + \" and the area is:\" + str(area))"
   ]
  },
  {
   "cell_type": "code",
   "execution_count": 4,
   "id": "13cdc55e",
   "metadata": {},
   "outputs": [
    {
     "name": "stdout",
     "output_type": "stream",
     "text": [
      "1 1\n",
      "2 3\n",
      "3 6\n",
      "4 10\n",
      "5 15\n",
      "6 21\n",
      "7 28\n",
      "8 36\n",
      "9 45\n",
      "10 55\n",
      "11 66\n",
      "12 78\n",
      "13 91\n",
      "14 105\n",
      "15 120\n",
      "16 136\n",
      "17 153\n",
      "18 171\n",
      "19 190\n",
      "20 210\n",
      "21 231\n",
      "22 253\n",
      "23 276\n",
      "24 300\n",
      "25 325\n",
      "26 351\n",
      "27 378\n",
      "28 406\n",
      "29 435\n",
      "30 465\n",
      "31 496\n",
      "32 528\n",
      "33 561\n",
      "34 595\n",
      "35 630\n",
      "36 666\n",
      "37 703\n",
      "38 741\n",
      "39 780\n",
      "40 820\n",
      "41 861\n",
      "42 903\n",
      "43 946\n",
      "44 990\n",
      "45 1035\n",
      "46 1081\n",
      "47 1128\n",
      "48 1176\n",
      "49 1225\n",
      "50 1275\n",
      "51 1326\n",
      "52 1378\n",
      "53 1431\n",
      "54 1485\n",
      "55 1540\n",
      "56 1596\n",
      "57 1653\n",
      "58 1711\n",
      "59 1770\n",
      "60 1830\n",
      "61 1891\n",
      "62 1953\n",
      "63 2016\n",
      "64 2080\n",
      "65 2145\n",
      "66 2211\n",
      "67 2278\n",
      "68 2346\n",
      "69 2415\n",
      "70 2485\n",
      "71 2556\n",
      "72 2628\n",
      "73 2701\n",
      "74 2775\n",
      "75 2850\n",
      "76 2926\n",
      "77 3003\n",
      "78 3081\n",
      "79 3160\n",
      "80 3240\n",
      "81 3321\n",
      "82 3403\n",
      "83 3486\n",
      "84 3570\n",
      "85 3655\n",
      "86 3741\n",
      "87 3828\n",
      "88 3916\n",
      "89 4005\n",
      "90 4095\n",
      "91 4186\n",
      "92 4278\n",
      "93 4371\n",
      "94 4465\n",
      "95 4560\n",
      "96 4656\n",
      "97 4753\n",
      "98 4851\n",
      "99 4950\n",
      "100 5050\n"
     ]
    }
   ],
   "source": [
    "sum = 0\n",
    "for x in range(1,101):\n",
    "    sum += x\n",
    "    print(x, sum)"
   ]
  },
  {
   "cell_type": "code",
   "execution_count": 5,
   "id": "3aa068bc",
   "metadata": {},
   "outputs": [
    {
     "name": "stdout",
     "output_type": "stream",
     "text": [
      "This is a string.\n"
     ]
    }
   ],
   "source": [
    "print(\"This is a string.\")"
   ]
  },
  {
   "cell_type": "code",
   "execution_count": 6,
   "id": "b9b023fe",
   "metadata": {},
   "outputs": [
    {
     "name": "stdout",
     "output_type": "stream",
     "text": [
      "This is a string.\n"
     ]
    }
   ],
   "source": [
    "myStr = \"This is a string.\"\n",
    "print(myStr)"
   ]
  },
  {
   "cell_type": "code",
   "execution_count": 7,
   "id": "34fd102a",
   "metadata": {},
   "outputs": [
    {
     "name": "stdout",
     "output_type": "stream",
     "text": [
      "This is a string.\n"
     ]
    }
   ],
   "source": [
    "myWord = \"This\"\n",
    "print(myWord + \" is \" + \"a string.\")"
   ]
  },
  {
   "cell_type": "code",
   "execution_count": null,
   "id": "0e4b6657",
   "metadata": {},
   "outputs": [],
   "source": []
  }
 ],
 "metadata": {
  "kernelspec": {
   "display_name": "Python [conda env:base] *",
   "language": "python",
   "name": "conda-base-py"
  },
  "language_info": {
   "codemirror_mode": {
    "name": "ipython",
    "version": 3
   },
   "file_extension": ".py",
   "mimetype": "text/x-python",
   "name": "python",
   "nbconvert_exporter": "python",
   "pygments_lexer": "ipython3",
   "version": "3.12.7"
  }
 },
 "nbformat": 4,
 "nbformat_minor": 5
}
