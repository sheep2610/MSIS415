{
 "cells": [
  {
   "cell_type": "code",
   "execution_count": 4,
   "id": "b6572744",
   "metadata": {},
   "outputs": [
    {
     "name": "stdout",
     "output_type": "stream",
     "text": [
      "Please enter your username: Wei\n",
      "Please enter your password: 123456\n",
      "Wei's account is successfully created!\n"
     ]
    }
   ],
   "source": [
    "def create_account():\n",
    "    user = input(\"Please enter your username: \")\n",
    "    password = input(\"Please enter your password: \")\n",
    "    print(user+\"'s account is successfully created!\")\n",
    "\n",
    "create_account()"
   ]
  },
  {
   "cell_type": "code",
   "execution_count": 6,
   "id": "144f2782",
   "metadata": {},
   "outputs": [
    {
     "name": "stdout",
     "output_type": "stream",
     "text": [
      "Mike, please enter your password: 1234\n",
      "Mike's account is successfully created!\n"
     ]
    }
   ],
   "source": [
    "def create_account(username):\n",
    "    password=input(username+\", please enter your password: \")\n",
    "    print(username+\"'s account is successfully created!\")\n",
    "\n",
    "create_account(\"Mike\")"
   ]
  },
  {
   "cell_type": "code",
   "execution_count": 16,
   "id": "cc2e4a3a",
   "metadata": {},
   "outputs": [
    {
     "name": "stdin",
     "output_type": "stream",
     "text": [
      "Mike, please enter your password:  123\n"
     ]
    },
    {
     "name": "stdout",
     "output_type": "stream",
     "text": [
      "Mike's account is successfully created!\n"
     ]
    },
    {
     "name": "stdin",
     "output_type": "stream",
     "text": [
      "Kate, please enter your password:  12\n",
      "Kate, please enter your password again:  123\n"
     ]
    },
    {
     "name": "stdout",
     "output_type": "stream",
     "text": [
      "The two passwords are not the same. Please try again.\n",
      "\n"
     ]
    },
    {
     "name": "stdin",
     "output_type": "stream",
     "text": [
      "Kate, please enter your password:  123\n",
      "Kate, please enter your password again:  123\n"
     ]
    },
    {
     "name": "stdout",
     "output_type": "stream",
     "text": [
      "Kate's account is successfully created!\n"
     ]
    }
   ],
   "source": [
    "def create_account(username,verify):\n",
    "    password = input(username+\", please enter your password: \")\n",
    "    if verify == True:\n",
    "        password2 = input(username+\", please enter your password again: \")\n",
    "        while password != password2 :\n",
    "            print(\"The two passwords are not the same. Please try again.\\n\")\n",
    "            password = input(username + \", please enter your password: \")\n",
    "            password2=input(username+\", please enter your password again: \")                    \n",
    "    print(username+\"'s account is successfully created!\")\n",
    "\n",
    "create_account(\"Mike\",False)\n",
    "create_account(\"Kate\",True)"
   ]
  },
  {
   "cell_type": "code",
   "execution_count": 18,
   "id": "8da4a933",
   "metadata": {},
   "outputs": [
    {
     "name": "stdin",
     "output_type": "stream",
     "text": [
      "Wei, please enter your password:  123\n"
     ]
    },
    {
     "name": "stdout",
     "output_type": "stream",
     "text": [
      "Wei's account is successfully created!\n"
     ]
    }
   ],
   "source": [
    "create_account(username = 'Wei', verify = False)"
   ]
  },
  {
   "cell_type": "code",
   "execution_count": 4,
   "id": "4d6c6784",
   "metadata": {},
   "outputs": [
    {
     "name": "stdout",
     "output_type": "stream",
     "text": [
      "Enter a Celsius temp: 100\n",
      "100.0  converts to  212.0  Fahrenheit\n"
     ]
    }
   ],
   "source": [
    "def celsius_to_fahrenheit(celsius_float):\n",
    "    #Convert Celsius to Fahrenheit\n",
    "    return celsius_float * 1.8 + 32\n",
    "\n",
    "celsius_float = float(input(\"Enter a Celsius temp: \"))\n",
    "fahrenheit_float = celsius_to_fahrenheit(celsius_float)\n",
    "\n",
    "print(celsius_float, \" converts to \", fahrenheit_float, \" Fahrenheit\")\n"
   ]
  },
  {
   "cell_type": "code",
   "execution_count": 6,
   "id": "0d1875c6",
   "metadata": {},
   "outputs": [
    {
     "name": "stdout",
     "output_type": "stream",
     "text": [
      "Mike, please enter your password: 7990\n",
      "Mike's account is successfully created!\n",
      "Kate, please enter your password: 1234\n",
      "Kate, please enter your password again: 1234\n",
      "Kate's account is successfully created!\n"
     ]
    }
   ],
   "source": [
    "def create_account(username,verify = False):\n",
    "    password = input(username+\", please enter your password: \")\n",
    "    if verify == True:\n",
    "        password2 = input(username+\", please enter your password again: \")\n",
    "        while password != password2 :\n",
    "            print(\"The two passwords are not the same. Please try again.\\n\")\n",
    "            password = input(username + \", please enter your password: \")\n",
    "            password2=input(username+\", please enter your password again: \")                    \n",
    "    print(username+\"'s account is successfully created!\")\n",
    "\n",
    "create_account(\"Mike\")\n",
    "create_account(\"Kate\",True)\n",
    "\n"
   ]
  },
  {
   "cell_type": "code",
   "execution_count": 24,
   "id": "acd3ca1e",
   "metadata": {},
   "outputs": [
    {
     "name": "stdin",
     "output_type": "stream",
     "text": [
      "Kate, please enter your password:  123\n",
      "Kate, please enter your password again:  123\n"
     ]
    },
    {
     "name": "stdout",
     "output_type": "stream",
     "text": [
      "Kate's account is successfully created!\n"
     ]
    },
    {
     "ename": "NameError",
     "evalue": "name 'password2' is not defined",
     "output_type": "error",
     "traceback": [
      "\u001b[0;31m---------------------------------------------------------------------------\u001b[0m",
      "\u001b[0;31mNameError\u001b[0m                                 Traceback (most recent call last)",
      "Cell \u001b[0;32mIn[24], line 13\u001b[0m\n\u001b[1;32m      9\u001b[0m     \u001b[38;5;28mprint\u001b[39m(username\u001b[38;5;241m+\u001b[39m\u001b[38;5;124m\"\u001b[39m\u001b[38;5;124m'\u001b[39m\u001b[38;5;124ms account is successfully created!\u001b[39m\u001b[38;5;124m\"\u001b[39m)\n\u001b[1;32m     12\u001b[0m create_account(\u001b[38;5;124m\"\u001b[39m\u001b[38;5;124mKate\u001b[39m\u001b[38;5;124m\"\u001b[39m, \u001b[38;5;28;01mTrue\u001b[39;00m)\n\u001b[0;32m---> 13\u001b[0m \u001b[38;5;28mprint\u001b[39m(password2, password_outside )\n",
      "\u001b[0;31mNameError\u001b[0m: name 'password2' is not defined"
     ]
    }
   ],
   "source": [
    "def create_account(username,verify = False):\n",
    "    password = input(username+\", please enter your password: \")\n",
    "    if verify == True:\n",
    "        password2 = input(username+\", please enter your password again: \")\n",
    "        while password != password2 :\n",
    "            print(\"The two passwords are not the same. Please try again.\\n\")\n",
    "            password = input(username + \", please enter your password: \")\n",
    "            password2 = input(username+\", please enter your password again: \")                    \n",
    "    print(username+\"'s account is successfully created!\")\n",
    "    \n",
    "    \n",
    "create_account(\"Kate\", True)\n",
    "print(password2, password_outside )"
   ]
  },
  {
   "cell_type": "code",
   "execution_count": 26,
   "id": "cff2705f",
   "metadata": {},
   "outputs": [
    {
     "name": "stdin",
     "output_type": "stream",
     "text": [
      "Kate, please enter your password:  12\n",
      "Kate, please enter your password again:  12\n"
     ]
    },
    {
     "name": "stdout",
     "output_type": "stream",
     "text": [
      "Kate's account is successfully created!\n"
     ]
    },
    {
     "ename": "NameError",
     "evalue": "name 'password2' is not defined",
     "output_type": "error",
     "traceback": [
      "\u001b[0;31m---------------------------------------------------------------------------\u001b[0m",
      "\u001b[0;31mNameError\u001b[0m                                 Traceback (most recent call last)",
      "Cell \u001b[0;32mIn[26], line 12\u001b[0m\n\u001b[1;32m      9\u001b[0m     \u001b[38;5;28mprint\u001b[39m(username\u001b[38;5;241m+\u001b[39m\u001b[38;5;124m\"\u001b[39m\u001b[38;5;124m'\u001b[39m\u001b[38;5;124ms account is successfully created!\u001b[39m\u001b[38;5;124m\"\u001b[39m)\n\u001b[1;32m     11\u001b[0m create_account(\u001b[38;5;124m\"\u001b[39m\u001b[38;5;124mKate\u001b[39m\u001b[38;5;124m\"\u001b[39m, \u001b[38;5;28;01mTrue\u001b[39;00m)\n\u001b[0;32m---> 12\u001b[0m \u001b[38;5;28mprint\u001b[39m(password2)\n",
      "\u001b[0;31mNameError\u001b[0m: name 'password2' is not defined"
     ]
    }
   ],
   "source": [
    "def create_account(username,verify = False):\n",
    "    password = input(username+\", please enter your password: \")\n",
    "    if verify == True:\n",
    "        password2 = input(username+\", please enter your password again: \")\n",
    "        while password != password2 :\n",
    "            print(\"The two passwords are not the same. Please try again.\\n\")\n",
    "            password = input(username + \", please enter your password: \")\n",
    "            password2 = input(username+\", please enter your password again: \")                    \n",
    "    print(username+\"'s account is successfully created!\")\n",
    "    \n",
    "create_account(\"Kate\", True)\n",
    "print(password2)"
   ]
  },
  {
   "cell_type": "code",
   "execution_count": 30,
   "id": "390cc5ba",
   "metadata": {},
   "outputs": [
    {
     "name": "stdout",
     "output_type": "stream",
     "text": [
      "Kate Smith, please enter your password: 1234\n",
      "Kate Smith's account is successfully created!\n",
      "Kate Smith now has $999.\n",
      "Kate Smith successfully deposited $1000.\n",
      "The balance is now 1999\n",
      "Wrong password, deposit failed!\n",
      "Sorry, you don't have that much money in your account.\n",
      "Wrong password, withdraw failed!\n",
      "Kate Smith successfully withdrew $100.\n",
      "The balance is now 1899\n"
     ]
    }
   ],
   "source": [
    "class bankAccounts:\n",
    "    def __init__(self, name = \"Jason Bourne\", balance = 0):\n",
    "        self.owner = name\n",
    "        self.balance = balance\n",
    "        self.password = input(self.owner + \", please enter your password: \")\n",
    "        print(self.owner + \"'s account is successfully created!\")\n",
    "        print(self.owner + \" now has $\" + str(self.balance) + \".\")\n",
    "    \n",
    "    def deposit(self, money, pwd): \n",
    "        if pwd == self.password:\n",
    "            self.balance += money\n",
    "            print(self.owner + \" successfully deposited $\" + str(money) + \".\")\n",
    "            print(\"The balance is now \" + str(self.balance))\n",
    "        else:\n",
    "            print(\"Wrong password, deposit failed!\")\n",
    "        \n",
    "    def withdraw(self, money, pwd): \n",
    "        if pwd == self.password:\n",
    "            if self.balance < money:\n",
    "                print(\"Sorry, you don't have that much money in your account.\")\n",
    "            else:\n",
    "                self.balance -= money\n",
    "                print(self.owner + \" successfully withdrew $\" + str(money) + \".\")\n",
    "                print(\"The balance is now \" + str(self.balance))\n",
    "        else:\n",
    "            print(\"Wrong password, withdraw failed!\")\n",
    "            \n",
    "kate = bankAccounts(\"Kate Smith\",999)\n",
    "kate.deposit(1000, \"1234\")\n",
    "kate.deposit(1020, \"3656\")\n",
    "kate.withdraw(10000, \"1234\")\n",
    "kate.withdraw(100, \"3656\")\n",
    "kate.withdraw(100, \"1234\")"
   ]
  },
  {
   "cell_type": "code",
   "execution_count": null,
   "id": "2b405c2e",
   "metadata": {},
   "outputs": [],
   "source": []
  }
 ],
 "metadata": {
  "kernelspec": {
   "display_name": "Python [conda env:base] *",
   "language": "python",
   "name": "conda-base-py"
  },
  "language_info": {
   "codemirror_mode": {
    "name": "ipython",
    "version": 3
   },
   "file_extension": ".py",
   "mimetype": "text/x-python",
   "name": "python",
   "nbconvert_exporter": "python",
   "pygments_lexer": "ipython3",
   "version": "3.12.7"
  }
 },
 "nbformat": 4,
 "nbformat_minor": 5
}
