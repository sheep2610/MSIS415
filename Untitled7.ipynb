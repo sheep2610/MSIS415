{
 "cells": [
  {
   "cell_type": "code",
   "execution_count": 16,
   "id": "fa745eb9-af46-4146-96de-4547313ffe1b",
   "metadata": {},
   "outputs": [
    {
     "name": "stdout",
     "output_type": "stream",
     "text": [
      "Mở Chrome thành công!\n"
     ]
    }
   ],
   "source": [
    "from selenium import webdriver\n",
    "\n",
    "# Mở trình duyệt\n",
    "driver = webdriver.Chrome()\n",
    "\n",
    "# Kiểm tra xem trình duyệt có mở lên không\n",
    "print(\"Mở Chrome thành công!\")\n",
    "\n",
    "# Đóng trình duyệt\n",
    "driver.quit()\n"
   ]
  },
  {
   "cell_type": "code",
   "execution_count": 10,
   "id": "a18f83cd-6ca5-4639-b959-73f076703bcc",
   "metadata": {},
   "outputs": [
    {
     "name": "stdout",
     "output_type": "stream",
     "text": [
      "Mở Chrome thành công!\n"
     ]
    }
   ],
   "source": [
    "from selenium import webdriver\n",
    "\n",
    "# Mở trình duyệt\n",
    "driver = webdriver.Chrome()\n",
    "\n",
    "# Kiểm tra xem trình duyệt có mở lên không\n",
    "print(\"Mở Chrome thành công!\")\n",
    "\n",
    "# Đóng trình duyệt\n",
    "driver.quit()\n",
    "\n"
   ]
  },
  {
   "cell_type": "code",
   "execution_count": 4,
   "id": "b42e69db-443d-46fb-9eb8-2c3f4950a5b9",
   "metadata": {},
   "outputs": [],
   "source": [
    "from selenium import webdriver\n",
    "from selenium.webdriver.chrome.service import Service\n",
    "\n",
    "# Định nghĩa đường dẫn đến ChromeDriver\n",
    "chrome_driver_path = \"/opt/homebrew/bin/chromedriver\"\n",
    "\n",
    "# Khởi tạo Selenium với đúng ChromeDriver\n",
    "service = Service(chrome_driver_path)\n",
    "driver = webdriver.Chrome(service=service)\n",
    "\n",
    "# Mở Google\n",
    "driver.get(\"https://www.google.com\")\n",
    "\n",
    "# Đợi 5 giây rồi đóng trình duyệt\n",
    "import time\n",
    "time.sleep(5)\n",
    "driver.quit()\n"
   ]
  },
  {
   "cell_type": "code",
   "execution_count": null,
   "id": "f540716e-f36c-4f40-ab2c-907f1aa9d981",
   "metadata": {},
   "outputs": [],
   "source": []
  }
 ],
 "metadata": {
  "kernelspec": {
   "display_name": "Python [conda env:base] *",
   "language": "python",
   "name": "conda-base-py"
  },
  "language_info": {
   "codemirror_mode": {
    "name": "ipython",
    "version": 3
   },
   "file_extension": ".py",
   "mimetype": "text/x-python",
   "name": "python",
   "nbconvert_exporter": "python",
   "pygments_lexer": "ipython3",
   "version": "3.12.7"
  }
 },
 "nbformat": 4,
 "nbformat_minor": 5
}
