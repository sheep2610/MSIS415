{
 "cells": [
  {
   "cell_type": "markdown",
   "id": "b0b53cf7-8fca-49e5-bd35-3b73fd251daa",
   "metadata": {},
   "source": [
    "## Requirement 1 "
   ]
  },
  {
   "cell_type": "code",
   "execution_count": 15,
   "id": "90dcd181-f49d-4922-b26f-9648f21a0829",
   "metadata": {},
   "outputs": [
    {
     "name": "stdout",
     "output_type": "stream",
     "text": [
      "5\n",
      "7\n"
     ]
    },
    {
     "name": "stdin",
     "output_type": "stream",
     "text": [
      "What is your answer of product?  35\n"
     ]
    },
    {
     "name": "stdout",
     "output_type": "stream",
     "text": [
      "Congratulation! Your answer is correct!\n",
      "4\n",
      "0\n"
     ]
    },
    {
     "name": "stdin",
     "output_type": "stream",
     "text": [
      "What is your answer of product?  0\n"
     ]
    },
    {
     "name": "stdout",
     "output_type": "stream",
     "text": [
      "Congratulation! Your answer is correct!\n",
      "1\n",
      "0\n"
     ]
    },
    {
     "name": "stdin",
     "output_type": "stream",
     "text": [
      "What is your answer of product?  0\n"
     ]
    },
    {
     "name": "stdout",
     "output_type": "stream",
     "text": [
      "Congratulation! Your answer is correct!\n",
      "You got 3 points at total\n"
     ]
    }
   ],
   "source": [
    "# math test \n",
    "import random\n",
    "\n",
    "# total score \n",
    "score = 0\n",
    "\n",
    "# ask 3 questions\n",
    "for i in range(3):\n",
    "    \n",
    "    # two random numbers between 0 and 9\n",
    "    x = random.randint(0, 9)\n",
    "    print(x)\n",
    "    y = random.randint(0, 9)\n",
    "    print(y)\n",
    "\n",
    "    #ask the answer of user\n",
    "    your_answer = int(input(\"What is your answer of product? \"))\n",
    "\n",
    "    #correct answer\n",
    "    correct_answer= x*y\n",
    "\n",
    "    # check the answer\n",
    "    if your_answer == correct_answer:\n",
    "        print(\"Congratulation! Your answer is correct!\")\n",
    "        score += 1\n",
    "    else:\n",
    "        print(\"Wrong answer. The correct answer is\", correct_answer, \".\")\n",
    "\n",
    "# total points of the test \n",
    "print(\"You got\", score, \"points in total\")"
   ]
  },
  {
   "cell_type": "markdown",
   "id": "815d0b4f-0a35-40f2-b639-26d50a1b5b65",
   "metadata": {},
   "source": [
    "## Requirement 2 "
   ]
  },
  {
   "cell_type": "code",
   "execution_count": 37,
   "id": "9ddc3e6f-1d7b-44d3-8800-91462775c193",
   "metadata": {},
   "outputs": [
    {
     "name": "stdout",
     "output_type": "stream",
     "text": [
      "John Smith's account is successfully created!\n",
      "John Smith now has $1500.\n",
      "Interest rate is set to 1%.\n",
      "The new interest rate is set to 8%.\n",
      "John Smith will earn $124 in 1 year(s).\n"
     ]
    }
   ],
   "source": [
    "class bankAccounts:\n",
    "    def __init__(self, name = \"Thuong Pham \", balance = 0):\n",
    "        \n",
    "        self.owner = name\n",
    "        self.balance = balance\n",
    "        self.rate = 1/100                                                   # an interest rate of 1%\n",
    "        print(self.owner + \"'s account is successfully created!\")\n",
    "        print(self.owner + \" now has $\" + str(self.balance) + \".\")\n",
    "        print(\"Interest rate is set to 1%.\")\n",
    "        \n",
    "    def setRate(self, value_to_rate):                                       #a new method setRate() \n",
    "       \n",
    "        self.rate = value_to_rate/100                                       # convert % to decimal  \n",
    "        print(\"The new interest rate is set to \" + str(value_to_rate) + \"%.\")\n",
    "    \n",
    "    def getExpectedInterest(self, years = 1):                               #to calculate at current rate, how much interest the account will earn in years\n",
    "                                                   \n",
    "        months = 12 * years                                                 # the interest is compounded monthly\n",
    "        value_to_balance = self.balance * (1 + (self.rate) / 12) ** months\n",
    "        interest_income = value_to_balance - self.balance\n",
    "        print(self.owner + \" will earn $\" + str(int(interest_income)) + \" in\", years, \"year(s).\")\n",
    "\n",
    "john = bankAccounts(\"John Smith\", 1500)                                     #a new account owned by “John Smith”, a balance of $1500\n",
    "john.setRate(8)                                                             # his rate to 8% using the setRate()\n",
    "john.getExpectedInterest(1)                                                 #  interest income in one year"
   ]
  },
  {
   "cell_type": "code",
   "execution_count": null,
   "id": "d0873472-c620-4838-abf6-4b3e7765b089",
   "metadata": {},
   "outputs": [],
   "source": []
  }
 ],
 "metadata": {
  "kernelspec": {
   "display_name": "Python [conda env:base] *",
   "language": "python",
   "name": "conda-base-py"
  },
  "language_info": {
   "codemirror_mode": {
    "name": "ipython",
    "version": 3
   },
   "file_extension": ".py",
   "mimetype": "text/x-python",
   "name": "python",
   "nbconvert_exporter": "python",
   "pygments_lexer": "ipython3",
   "version": "3.12.7"
  }
 },
 "nbformat": 4,
 "nbformat_minor": 5
}
