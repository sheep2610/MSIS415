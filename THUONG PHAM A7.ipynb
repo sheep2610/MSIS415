{
 "cells": [
  {
   "cell_type": "code",
   "execution_count": 49,
   "id": "d801b3e2-adca-418f-bc9b-d17bbfef81ee",
   "metadata": {},
   "outputs": [],
   "source": [
    "from selenium import webdriver\n",
    "from selenium.webdriver.common.by import By"
   ]
  },
  {
   "cell_type": "code",
   "execution_count": 51,
   "id": "279aae58-2e07-4a72-a658-ab94c8a59834",
   "metadata": {},
   "outputs": [],
   "source": [
    "driver = webdriver.Chrome() # Call out Chrome. We stick with chrome browser for selenium."
   ]
  },
  {
   "cell_type": "code",
   "execution_count": 52,
   "id": "13b27e82-4b84-4f38-a2d6-cb36efb05813",
   "metadata": {},
   "outputs": [],
   "source": [
    "url = 'https://www.umb.edu/academics/program-finder/'"
   ]
  },
  {
   "cell_type": "code",
   "execution_count": 53,
   "id": "84c49c14-c76a-4e9d-923a-f2258d67d5b3",
   "metadata": {},
   "outputs": [],
   "source": [
    "driver.get(url) # Load the page"
   ]
  },
  {
   "cell_type": "code",
   "execution_count": 57,
   "id": "c64716ba-4cd9-4a84-b944-5a3940b9c1c4",
   "metadata": {},
   "outputs": [],
   "source": [
    "full_review = driver.find_elements(By.CSS_SELECTOR, \"h2.program__name\")"
   ]
  },
  {
   "cell_type": "code",
   "execution_count": 59,
   "id": "adc8862b-b5d1-4fa5-9edc-fe0548e1fec8",
   "metadata": {},
   "outputs": [
    {
     "name": "stdout",
     "output_type": "stream",
     "text": [
      "Accelerated Bachelor of Science in Nursing (Bachelor's)\n",
      "Accounting BS (Bachelor's)\n",
      "Accounting with Data Analytics MS (Master's)\n",
      "Addictions Counselor Educational Program (Professional Development)\n",
      "Africana Studies BA (Bachelor's)\n",
      "Africana Studies Minor (Minor)\n",
      "Aging Studies BA (Bachelor's)\n",
      "Aging Studies Minor (Minor)\n",
      "American Studies BA (Bachelor's)\n",
      "American Studies MA (Master's)\n",
      "American Studies Minor (Minor)\n",
      "Anthropology BA (Bachelor's)\n",
      "Anthropology Minor (Minor)\n",
      "Applied Behavior Analysis for Special Populations Certificate (Graduate Certificate)\n",
      "Applied Economics MA (Master's)\n",
      "Applied Linguistics MA (Master's)\n",
      "Applied Linguistics PhD (Doctorate)\n",
      "Applied Physics MS (Master's)\n",
      "Applied Physics PhD (Doctorate)\n",
      "Applied Sociology MA (Master's)\n"
     ]
    }
   ],
   "source": [
    "for program in full_review:\n",
    "    print(program.text)"
   ]
  },
  {
   "cell_type": "code",
   "execution_count": 67,
   "id": "1d50dffa-a83e-4e38-b5c4-b74516589e00",
   "metadata": {},
   "outputs": [
    {
     "name": "stdout",
     "output_type": "stream",
     "text": [
      "Arabic Minor (Minor)\n",
      "Art BA (Bachelor's)\n",
      "Art History Minor (Minor)\n",
      "Asian American Studies Program (Minor)\n",
      "Asian Studies BA (Bachelor's)\n",
      "Assistive Technology for Individuals with Visual Impairments Certificate (Graduate Certificate)\n",
      "Autism Endorsement Certificate (Graduate Certificate)\n",
      "Biochemistry BS (Bachelor's)\n",
      "Biology BS (Bachelor's)\n",
      "Biology Minor (Minor)\n",
      "Biology MS (Master's)\n",
      "Biology PhD (Doctorate)\n",
      "Biomedical Engineering & Biotechnology PhD (Doctorate)\n",
      "Biotechnology & Biomedical Science MS (Master's)\n",
      "Biotechnology Professional Science MS (Master's)\n",
      "Business Administration - MBA (Master's)\n",
      "Business Administration PhD (Doctorate)\n",
      "Business Analytics Certificate (Graduate Certificate)\n",
      "Business Analytics MS (Master's)\n",
      "Chemistry BA (Bachelor's)\n",
      "Chemistry BS (Bachelor's)\n",
      "Chemistry Minor (Minor)\n",
      "Chemistry MS (Master's)\n",
      "Chemistry PhD (Doctorate)\n",
      "Chinese Minor (Minor)\n",
      "Cinema Studies Minor (Minor)\n",
      "Classical Languages BA (Bachelor's)\n",
      "Classical Languages Minor (Minor)\n",
      "Classical Studies BA (Bachelor's)\n",
      "Classical Studies Minor (Minor)\n",
      "Clean Energy & Sustainability Certificate (Graduate Certificate)\n",
      "Clean Energy Minor (Minor)\n",
      "Clinical Psychology PhD (Doctorate)\n",
      "Cognitive Science Minor (Minor)\n",
      "Communication BA (Bachelor's)\n",
      "Communication Minor (Minor)\n",
      "Community Development BA (Bachelor's)\n",
      "Community Development Minor (Minor)\n",
      "Computational Sciences PhD (Doctorate)\n",
      "Computer Engineering BS (Bachelor's)\n",
      "Computer Science BA (Bachelor's)\n",
      "Computer Science BS (Bachelor's)\n",
      "Computer Science Certificate (Undergraduate Certificate)\n",
      "Computer Science Minor (Minor)\n",
      "Computer Science MS (Master's)\n",
      "Computer Science PhD (Doctorate)\n",
      "Conflict Resolution Certificate (Graduate Certificate)\n",
      "Conflict Resolution MA (Master's)\n",
      "Contemporary Marketing Certificate (Graduate Certificate)\n",
      "Cortical/Cerebral Visual Impairment Certificate (Graduate Certificate)\n",
      "Counseling MEd / CAGS (Master's, Post-Master's)\n",
      "Counseling Psychology PhD (Doctorate)\n",
      "Creative Writing MFA (Master's)\n",
      "Creative Writing Minor (Minor)\n",
      "Criminology & Criminal Justice BA (Bachelor's)\n",
      "Criminology & Criminal Justice Minor (Minor)\n",
      "Critical & Creative Thinking Certificate (Graduate Certificate)\n",
      "Critical & Creative Thinking MA (Master's)\n",
      "Critical Ethnic & Community Studies MS (Master's)\n",
      "Cross-Cultural East Asian Studies Minor (Minor)\n",
      "Cybersecurity Management Certificate (Graduate Certificate)\n",
      "Dance Minor (Minor)\n",
      "Database Technology Certificate (Graduate Certificate)\n",
      "Developmental & Brain Sciences PhD (Doctorate)\n",
      "Doctor of Nursing Practice - DNP (Doctorate)\n",
      "Dual Language Certificate (Graduate Certificate)\n",
      "Early Childhood Education & Care PhD (Doctorate)\n",
      "Early Education & Care in Inclusive Settings BA (Bachelor's)\n",
      "Early Education Research, Policy & Practice Certificate (Post-Master's)\n",
      "East Asian Languages Minor (Minor)\n",
      "Economics BA (Bachelor's)\n",
      "Economics Minor (Minor)\n",
      "Education - Early Childhood MEd (Master's)\n",
      "Education - Elementary MEd (Master's)\n",
      "Education - Middle / Secondary MEd (Master's)\n",
      "Education Studies (Minor)\n",
      "Educational Leadership for Social Justice MEd / CAGS (Master's, Post-Master's)\n",
      "Electrical Engineering BS (Bachelor's)\n",
      "Engineering Physics BS (Bachelor's)\n",
      "English BA (Bachelor's)\n"
     ]
    }
   ],
   "source": [
    "from selenium.webdriver.common.action_chains import ActionChains as ac\n",
    "import time  \n",
    "for page in range(2, 6):                               # loop pages 2 to 5\n",
    "    time.sleep(2)                                      # adding a pause after each iteration\n",
    "    driver.execute_script(\"window.scrollTo(0,3500)\")   # Selenium script to scroll down the page to a specific location (left-right, up-down)\n",
    "    \n",
    "    next_button = driver.find_element(By.LINK_TEXT, str(page))  # First find the button\n",
    "    action = ac(driver)                                # Initiate an action chain object\n",
    "    action.move_to_element(next_button).click().perform()  # First move directly to the button's location, then click. End action chain with .perform().\n",
    "\n",
    "    time.sleep(2)                                      #adding a pause after each iteration\n",
    "    full_review = driver.find_elements(By.CSS_SELECTOR, \"h2.program__name\")\n",
    "    \n",
    "    for program in full_review:\n",
    "        print(program.text)"
   ]
  },
  {
   "cell_type": "code",
   "execution_count": null,
   "id": "5d0f0154-6f63-41df-8820-e88d160b8fcf",
   "metadata": {},
   "outputs": [],
   "source": []
  },
  {
   "cell_type": "code",
   "execution_count": null,
   "id": "0aa0c5a4-9f26-4ef1-8f52-e7f99b563145",
   "metadata": {},
   "outputs": [],
   "source": []
  }
 ],
 "metadata": {
  "kernelspec": {
   "display_name": "Python [conda env:base] *",
   "language": "python",
   "name": "conda-base-py"
  },
  "language_info": {
   "codemirror_mode": {
    "name": "ipython",
    "version": 3
   },
   "file_extension": ".py",
   "mimetype": "text/x-python",
   "name": "python",
   "nbconvert_exporter": "python",
   "pygments_lexer": "ipython3",
   "version": "3.12.7"
  }
 },
 "nbformat": 4,
 "nbformat_minor": 5
}
