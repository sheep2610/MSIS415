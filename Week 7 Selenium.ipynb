{
 "cells": [
  {
   "cell_type": "code",
   "execution_count": null,
   "id": "42f3f2d4-1d29-4df6-92d3-dce9da3ce9f2",
   "metadata": {},
   "outputs": [],
   "source": [
    "from selenium import webdriver\n",
    "from selenium.webdriver.common.by import By"
   ]
  },
  {
   "cell_type": "code",
   "execution_count": null,
   "id": "378c4d02-af0f-441b-a5b9-578d4aa6f6e3",
   "metadata": {},
   "outputs": [],
   "source": [
    "driver = webdriver.Chrome() # Call out Chrome. We stick with chrome browser for selenium."
   ]
  },
  {
   "cell_type": "code",
   "execution_count": null,
   "id": "4774964e-a692-40b0-8b9b-d1d920646a33",
   "metadata": {},
   "outputs": [],
   "source": [
    "url = 'https://www.amazon.com/product-reviews/B0CP9YB3Q4/ref=cm_cr_dp_d_show_all_btm?ie=UTF8&reviewerType=all_reviews'"
   ]
  },
  {
   "cell_type": "code",
   "execution_count": null,
   "id": "9cc13bd9-0239-413e-9345-1188ac9d33b6",
   "metadata": {},
   "outputs": [],
   "source": [
    "driver.get(url) # Load the page"
   ]
  },
  {
   "cell_type": "code",
   "execution_count": null,
   "id": "e9ccd605-bb07-48f8-a36e-e8542772653d",
   "metadata": {},
   "outputs": [],
   "source": [
    "driver.maximize_window() # Optional, demo of what selenium can do."
   ]
  },
  {
   "cell_type": "code",
   "execution_count": null,
   "id": "cbd80e01-3ee9-4576-86eb-1435ab210472",
   "metadata": {},
   "outputs": [],
   "source": [
    "full_review = driver.find_element(By.ID, 'cm_cr-review_list') # Use ID value to locate the review section"
   ]
  },
  {
   "cell_type": "code",
   "execution_count": null,
   "id": "52a2b7f8-bec2-40cc-84b5-5cfaf556fa38",
   "metadata": {},
   "outputs": [],
   "source": [
    "# Find reviewer username by looping through each individual review section\n",
    "# And find the tag that stores the reviewer username\n",
    "# Use .text method. No parenthesis.\n",
    "for i in full_review.find_elements(By.CSS_SELECTOR, 'li[class=\"review aok-relative\"]'):\n",
    "    print(i.find_element(By.CSS_SELECTOR, 'span.a-profile-name').text)"
   ]
  },
  {
   "cell_type": "code",
   "execution_count": 86,
   "id": "eb3f36c3-f6a4-42e4-9aee-26d51a911ed3",
   "metadata": {},
   "outputs": [
    {
     "name": "stdout",
     "output_type": "stream",
     "text": [
      "I recently purchased the Stanley Quencher H2.0 FlowState Stainless Steel Vacuum Insulated Tumbler with Lid and Straw, and it has quickly become my favorite drinkware. The double-wall vacuum insulation keeps my drinks cold for hours, which is perfect for long days at work or outdoor activities. The tumbler is available in various sizes, and I opted for the 40 oz version, which fits perfectly in my car cup holder.\n",
      "\n",
      "The **FlowState lid** is a standout feature, offering three positions: a straw opening, a drink opening, and a full-cover top for added leak resistance. This versatility makes it easy to switch between sipping modes depending on my needs. The included reusable straw is a great eco-friendly addition, and the ergonomic handle makes it easy to carry around.\n",
      "\n",
      "Constructed from 90% recycled stainless steel, this tumbler is not only durable but also environmentally friendly. It's also dishwasher-safe, making cleanup a breeze. Overall, the Stanley Quencher H2.0 FlowState Tumbler is a fantastic investment for anyone looking for a reliable and versatile hydration solution. Highly recommended!\n",
      "The Rose Quartz is gorgeous in person. It’s like a cross between beige and light pink. If you enjoy pinks and neutral tones, this will be a nice addition to your collection. Definitely a must-have for anyone that likes to match their cup to their outfit and this color being soo popular now. I love that these cups can go in the dishwasher, bc handwashing just isn’t it. Keeps my drinks icy cold days. So many cute, versatile accessories available. Amazon has a better price on these than the Stanley1913 site, along with major other competitors. The cup itself is very durable and heavy duty, but not heavy. I pair a bent 30-40oz white or pink silicone straw with my cups. I had a friend that cracked a tooth drinking from a metal straw while driving. You always want to give your kids silicone straws, too. The 30oz capacity is perfect for anyone going all-day and should see you through your work day. While I have a 40oz, I feel like the 30 is less bulky and takes up less room in my car and in my workspace. Don’t get me wrong tho, I love my 40s, too!! I think it’s great to have an assortment for your drink needs depending on what you’re doing that day. :)\n",
      "I love my cup. It helps me to make sure I get my water intake in. It’s stylish and fits well. Easy to open and is very durable. With the handle it makes it easy to carry and it have very good ice retention.\n",
      "This is the cutest Stanley color, especially if you love pink. I got this for my sister for Christmas and it was perfect so I will be ordering one for myself now! If you’ve never bought a Stanley they keep your water cold ALL day long while being stylish and durable. I love that they have 2 size options too.\n",
      "The color is beautiful, and the material is perfect! It retains temperatures extremely well, whether hot or cold “I love it!” 😍😍😍\n",
      "Great bottle, sturdy, good quality and stylish. A little overpriced for my taste.\n",
      "it is a gorgeous color, it is very strong, does drip a little bit.\n",
      "I love absolutely love my new Stanley cup . The color is so cute love pink so . Water is so cold and refreshing . I’m satisfied I recommend .\n",
      "it's very nice i liked it a lot but sadly some dirty person stole it bc their broke but it's nice and it's true to its look, it keep your water cold for the full day and the next day ice was still in mines and cold it's really nice just dont leave it bc dirty ppl exist\n",
      "Bought this for a friend and she is absolutely in love with it so much easier to use than a 40 oz. So much easier to lift once it's filled. The color is beautiful too\n"
     ]
    }
   ],
   "source": [
    "for i in full_review.find_elements(By.CSS_SELECTOR, 'li[class=\"review aok-relative\"]'):\n",
    "    print(i.find_elements(By.CSS_SELECTOR, 'span[class=\"a-size-base review-text review-text-content\"]')[0].text)"
   ]
  },
  {
   "cell_type": "code",
   "execution_count": 75,
   "id": "f5e03149-368d-455a-ab4b-750344438958",
   "metadata": {},
   "outputs": [],
   "source": [
    "driver.execute_script(\"window.scrollTo(0,3500)\"). # Selenium script to scroll down the page to a specific location (left-right, up-down)"
   ]
  },
  {
   "cell_type": "code",
   "execution_count": 69,
   "id": "8c7fb956-cff5-4fd9-9ae2-d8bede9b0d76",
   "metadata": {},
   "outputs": [],
   "source": [
    "driver.find_element(By.LINK_TEXT, 'Next page').click() # .click() method to click on any clickable element"
   ]
  },
  {
   "cell_type": "code",
   "execution_count": null,
   "id": "79adbab9-e890-4a75-980c-e8cd31de464a",
   "metadata": {},
   "outputs": [],
   "source": []
  },
  {
   "cell_type": "code",
   "execution_count": 76,
   "id": "6189bcb8-e9a1-4037-b5de-663b338b9f1c",
   "metadata": {},
   "outputs": [],
   "source": [
    "from selenium.webdriver.common.action_chains import ActionChains as ac # Action chain"
   ]
  },
  {
   "cell_type": "code",
   "execution_count": 77,
   "id": "0a2a6e6b-daf4-4c57-be0b-69d66b0bd38d",
   "metadata": {},
   "outputs": [],
   "source": [
    "next_button = driver.find_element(By.LINK_TEXT, 'Next page') # First find the button"
   ]
  },
  {
   "cell_type": "code",
   "execution_count": 78,
   "id": "d3dcd4b1-5c5a-4c8e-962f-07dc472c10ac",
   "metadata": {},
   "outputs": [],
   "source": [
    "action = ac(driver) # Initiate an action chain object\n",
    "action.move_to_element(next_button).click().perform() # First move directly to the button's location, then click. End action chain with .perform()."
   ]
  },
  {
   "cell_type": "code",
   "execution_count": null,
   "id": "9ec37a3e-d084-4011-8ce2-1ab92fd80f9e",
   "metadata": {},
   "outputs": [],
   "source": []
  },
  {
   "cell_type": "code",
   "execution_count": null,
   "id": "c46c6fd6-995c-4294-be1f-0b900f4b52f7",
   "metadata": {},
   "outputs": [],
   "source": []
  }
 ],
 "metadata": {
  "kernelspec": {
   "display_name": "Python [conda env:base] *",
   "language": "python",
   "name": "conda-base-py"
  },
  "language_info": {
   "codemirror_mode": {
    "name": "ipython",
    "version": 3
   },
   "file_extension": ".py",
   "mimetype": "text/x-python",
   "name": "python",
   "nbconvert_exporter": "python",
   "pygments_lexer": "ipython3",
   "version": "3.12.7"
  },
  "widgets": {
   "application/vnd.jupyter.widget-state+json": {
    "state": {},
    "version_major": 2,
    "version_minor": 0
   }
  }
 },
 "nbformat": 4,
 "nbformat_minor": 5
}
