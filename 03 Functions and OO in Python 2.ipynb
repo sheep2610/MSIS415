{
 "cells": [
  {
   "cell_type": "code",
   "execution_count": null,
   "id": "9f49101b-f753-4892-99f2-562ade6f3630",
   "metadata": {},
   "outputs": [],
   "source": [
    "print(\"Hello world\")\n",
    "input()"
   ]
  },
  {
   "cell_type": "code",
   "execution_count": 1,
   "id": "b6572744",
   "metadata": {},
   "outputs": [
    {
     "name": "stdin",
     "output_type": "stream",
     "text": [
      "Please enter your username:  Guotian\n",
      "Please enter your password:  1234\n"
     ]
    },
    {
     "name": "stdout",
     "output_type": "stream",
     "text": [
      "Guotian's account is successfully created!\n"
     ]
    }
   ],
   "source": [
    "def create_account():\n",
    "    user = input(\"Please enter your username: \")\n",
    "    password = input(\"Please enter your password: \")\n",
    "    print(user+\"'s account is successfully created!\")\n",
    "\n",
    "create_account()"
   ]
  },
  {
   "cell_type": "code",
   "execution_count": 3,
   "id": "6cd00c71-6bba-422e-b5bf-788caf58939d",
   "metadata": {},
   "outputs": [],
   "source": [
    "def create_account(user, password):\n",
    "    \n",
    "    print(user+\"'s account is successfully created!\")"
   ]
  },
  {
   "cell_type": "code",
   "execution_count": 5,
   "id": "9c87a6d9-ab63-4d37-94da-32d4411e1e95",
   "metadata": {},
   "outputs": [
    {
     "name": "stdout",
     "output_type": "stream",
     "text": [
      "Guotain's account is successfully created!\n"
     ]
    }
   ],
   "source": [
    "create_account(\"Guotain\", 1234)"
   ]
  },
  {
   "cell_type": "code",
   "execution_count": 4,
   "id": "cc601311-d5ae-422c-be61-6b406cc6eaa5",
   "metadata": {},
   "outputs": [
    {
     "name": "stdout",
     "output_type": "stream",
     "text": [
      "Guotian's account is successfully created!\n"
     ]
    }
   ],
   "source": [
    "create_account(user = \"Guotian\", password = 1234)"
   ]
  },
  {
   "cell_type": "code",
   "execution_count": 6,
   "id": "b077908e-514e-4f08-bc4d-8b6113e8c425",
   "metadata": {},
   "outputs": [
    {
     "name": "stdout",
     "output_type": "stream",
     "text": [
      "Guotian's account is successfully created!\n"
     ]
    }
   ],
   "source": [
    "create_account(password = 1234, user = \"Guotian\")"
   ]
  },
  {
   "cell_type": "code",
   "execution_count": 2,
   "id": "893803e9-657d-4690-9a01-bcd29f8e5d4f",
   "metadata": {},
   "outputs": [
    {
     "name": "stdin",
     "output_type": "stream",
     "text": [
      "Please enter your username:  Kan\n",
      "Please enter your password:  1234\n"
     ]
    },
    {
     "name": "stdout",
     "output_type": "stream",
     "text": [
      "Kan's account is successfully created!\n"
     ]
    }
   ],
   "source": [
    "create_account()"
   ]
  },
  {
   "cell_type": "code",
   "execution_count": 6,
   "id": "144f2782",
   "metadata": {},
   "outputs": [
    {
     "name": "stdout",
     "output_type": "stream",
     "text": [
      "Mike, please enter your password: 1234\n",
      "Mike's account is successfully created!\n"
     ]
    }
   ],
   "source": [
    "def create_account(username):\n",
    "    password=input(username+\", please enter your password: \")\n",
    "    print(username+\"'s account is successfully created!\")\n",
    "\n",
    "create_account(\"Mike\")"
   ]
  },
  {
   "cell_type": "code",
   "execution_count": null,
   "id": "727db61b-8dc7-4879-bcfc-34ca5029aa02",
   "metadata": {},
   "outputs": [],
   "source": []
  },
  {
   "cell_type": "code",
   "execution_count": 8,
   "id": "cc2e4a3a",
   "metadata": {},
   "outputs": [
    {
     "name": "stdout",
     "output_type": "stream",
     "text": [
      "Mike's account is successfully created with default password set by the system!\n"
     ]
    },
    {
     "ename": "KeyboardInterrupt",
     "evalue": "Interrupted by user",
     "output_type": "error",
     "traceback": [
      "\u001b[1;31m---------------------------------------------------------------------------\u001b[0m",
      "\u001b[1;31mKeyboardInterrupt\u001b[0m                         Traceback (most recent call last)",
      "Cell \u001b[1;32mIn[8], line 16\u001b[0m\n\u001b[0;32m     13\u001b[0m         \u001b[38;5;28mprint\u001b[39m(username\u001b[38;5;241m+\u001b[39m\u001b[38;5;124m\"\u001b[39m\u001b[38;5;124m'\u001b[39m\u001b[38;5;124ms account is successfully created with default password set by the system!\u001b[39m\u001b[38;5;124m\"\u001b[39m)\n\u001b[0;32m     15\u001b[0m create_account(\u001b[38;5;124m\"\u001b[39m\u001b[38;5;124mMike\u001b[39m\u001b[38;5;124m\"\u001b[39m,\u001b[38;5;28;01mFalse\u001b[39;00m)\n\u001b[1;32m---> 16\u001b[0m \u001b[43mcreate_account\u001b[49m\u001b[43m(\u001b[49m\u001b[38;5;124;43m\"\u001b[39;49m\u001b[38;5;124;43mKate\u001b[39;49m\u001b[38;5;124;43m\"\u001b[39;49m\u001b[43m,\u001b[49m\u001b[38;5;28;43;01mTrue\u001b[39;49;00m\u001b[43m)\u001b[49m\n",
      "Cell \u001b[1;32mIn[8], line 5\u001b[0m, in \u001b[0;36mcreate_account\u001b[1;34m(username, verify)\u001b[0m\n\u001b[0;32m      1\u001b[0m \u001b[38;5;28;01mdef\u001b[39;00m\u001b[38;5;250m \u001b[39m\u001b[38;5;21mcreate_account\u001b[39m(username,verify):\n\u001b[0;32m      2\u001b[0m     \n\u001b[0;32m      3\u001b[0m     \u001b[38;5;66;03m#password = input(username+\", please enter your password: \")\u001b[39;00m\n\u001b[0;32m      4\u001b[0m     \u001b[38;5;28;01mif\u001b[39;00m verify \u001b[38;5;241m==\u001b[39m \u001b[38;5;28;01mTrue\u001b[39;00m:\n\u001b[1;32m----> 5\u001b[0m         password2 \u001b[38;5;241m=\u001b[39m \u001b[38;5;28;43minput\u001b[39;49m\u001b[43m(\u001b[49m\u001b[43musername\u001b[49m\u001b[38;5;241;43m+\u001b[39;49m\u001b[38;5;124;43m\"\u001b[39;49m\u001b[38;5;124;43m, please enter your password again: \u001b[39;49m\u001b[38;5;124;43m\"\u001b[39;49m\u001b[43m)\u001b[49m\n\u001b[0;32m      6\u001b[0m         \u001b[38;5;28;01mwhile\u001b[39;00m password \u001b[38;5;241m!=\u001b[39m password2 :\n\u001b[0;32m      7\u001b[0m             \u001b[38;5;28mprint\u001b[39m(\u001b[38;5;124m\"\u001b[39m\u001b[38;5;124mThe two passwords are not the same. Please try again.\u001b[39m\u001b[38;5;130;01m\\n\u001b[39;00m\u001b[38;5;124m\"\u001b[39m)\n",
      "File \u001b[1;32m~\\AppData\\Local\\Programs\\Python\\Python310\\lib\\site-packages\\ipykernel\\kernelbase.py:1282\u001b[0m, in \u001b[0;36mKernel.raw_input\u001b[1;34m(self, prompt)\u001b[0m\n\u001b[0;32m   1280\u001b[0m     msg \u001b[38;5;241m=\u001b[39m \u001b[38;5;124m\"\u001b[39m\u001b[38;5;124mraw_input was called, but this frontend does not support input requests.\u001b[39m\u001b[38;5;124m\"\u001b[39m\n\u001b[0;32m   1281\u001b[0m     \u001b[38;5;28;01mraise\u001b[39;00m StdinNotImplementedError(msg)\n\u001b[1;32m-> 1282\u001b[0m \u001b[38;5;28;01mreturn\u001b[39;00m \u001b[38;5;28;43mself\u001b[39;49m\u001b[38;5;241;43m.\u001b[39;49m\u001b[43m_input_request\u001b[49m\u001b[43m(\u001b[49m\n\u001b[0;32m   1283\u001b[0m \u001b[43m    \u001b[49m\u001b[38;5;28;43mstr\u001b[39;49m\u001b[43m(\u001b[49m\u001b[43mprompt\u001b[49m\u001b[43m)\u001b[49m\u001b[43m,\u001b[49m\n\u001b[0;32m   1284\u001b[0m \u001b[43m    \u001b[49m\u001b[38;5;28;43mself\u001b[39;49m\u001b[38;5;241;43m.\u001b[39;49m\u001b[43m_parent_ident\u001b[49m\u001b[43m[\u001b[49m\u001b[38;5;124;43m\"\u001b[39;49m\u001b[38;5;124;43mshell\u001b[39;49m\u001b[38;5;124;43m\"\u001b[39;49m\u001b[43m]\u001b[49m\u001b[43m,\u001b[49m\n\u001b[0;32m   1285\u001b[0m \u001b[43m    \u001b[49m\u001b[38;5;28;43mself\u001b[39;49m\u001b[38;5;241;43m.\u001b[39;49m\u001b[43mget_parent\u001b[49m\u001b[43m(\u001b[49m\u001b[38;5;124;43m\"\u001b[39;49m\u001b[38;5;124;43mshell\u001b[39;49m\u001b[38;5;124;43m\"\u001b[39;49m\u001b[43m)\u001b[49m\u001b[43m,\u001b[49m\n\u001b[0;32m   1286\u001b[0m \u001b[43m    \u001b[49m\u001b[43mpassword\u001b[49m\u001b[38;5;241;43m=\u001b[39;49m\u001b[38;5;28;43;01mFalse\u001b[39;49;00m\u001b[43m,\u001b[49m\n\u001b[0;32m   1287\u001b[0m \u001b[43m\u001b[49m\u001b[43m)\u001b[49m\n",
      "File \u001b[1;32m~\\AppData\\Local\\Programs\\Python\\Python310\\lib\\site-packages\\ipykernel\\kernelbase.py:1325\u001b[0m, in \u001b[0;36mKernel._input_request\u001b[1;34m(self, prompt, ident, parent, password)\u001b[0m\n\u001b[0;32m   1322\u001b[0m \u001b[38;5;28;01mexcept\u001b[39;00m \u001b[38;5;167;01mKeyboardInterrupt\u001b[39;00m:\n\u001b[0;32m   1323\u001b[0m     \u001b[38;5;66;03m# re-raise KeyboardInterrupt, to truncate traceback\u001b[39;00m\n\u001b[0;32m   1324\u001b[0m     msg \u001b[38;5;241m=\u001b[39m \u001b[38;5;124m\"\u001b[39m\u001b[38;5;124mInterrupted by user\u001b[39m\u001b[38;5;124m\"\u001b[39m\n\u001b[1;32m-> 1325\u001b[0m     \u001b[38;5;28;01mraise\u001b[39;00m \u001b[38;5;167;01mKeyboardInterrupt\u001b[39;00m(msg) \u001b[38;5;28;01mfrom\u001b[39;00m\u001b[38;5;250m \u001b[39m\u001b[38;5;28;01mNone\u001b[39;00m\n\u001b[0;32m   1326\u001b[0m \u001b[38;5;28;01mexcept\u001b[39;00m \u001b[38;5;167;01mException\u001b[39;00m:\n\u001b[0;32m   1327\u001b[0m     \u001b[38;5;28mself\u001b[39m\u001b[38;5;241m.\u001b[39mlog\u001b[38;5;241m.\u001b[39mwarning(\u001b[38;5;124m\"\u001b[39m\u001b[38;5;124mInvalid Message:\u001b[39m\u001b[38;5;124m\"\u001b[39m, exc_info\u001b[38;5;241m=\u001b[39m\u001b[38;5;28;01mTrue\u001b[39;00m)\n",
      "\u001b[1;31mKeyboardInterrupt\u001b[0m: Interrupted by user"
     ]
    }
   ],
   "source": [
    "def create_account(username,verify):\n",
    "    \n",
    "    #password = input(username+\", please enter your password: \")\n",
    "    if verify == True:\n",
    "        password2 = input(username+\", please enter your password again: \")\n",
    "        while password != password2 :\n",
    "            print(\"The two passwords are not the same. Please try again.\\n\")\n",
    "            password = input(username + \", please enter your password: \")\n",
    "            password2=input(username+\", please enter your password again: \")                    \n",
    "        print(username+\"'s account is successfully created!\")\n",
    "    else:\n",
    "        password2 = 1234\n",
    "        print(username+\"'s account is successfully created with default password set by the system!\")\n",
    "\n",
    "create_account(\"Mike\",False)\n",
    "create_account(\"Kate\",True)"
   ]
  },
  {
   "cell_type": "code",
   "execution_count": 9,
   "id": "8da4a933",
   "metadata": {},
   "outputs": [
    {
     "name": "stdout",
     "output_type": "stream",
     "text": [
      "Wei, please enter your password: 123456\n",
      "Wei's account is successfully created!\n"
     ]
    }
   ],
   "source": [
    "create_account(username = 'Wei', verify = False)"
   ]
  },
  {
   "cell_type": "code",
   "execution_count": 10,
   "id": "744a7fe3-35dc-4a01-986c-1543ce5ae3ff",
   "metadata": {},
   "outputs": [
    {
     "name": "stdin",
     "output_type": "stream",
     "text": [
      "type something here \"hi\"\n"
     ]
    }
   ],
   "source": [
    "a = input(\"type something here\")"
   ]
  },
  {
   "cell_type": "code",
   "execution_count": 12,
   "id": "4d6c6784",
   "metadata": {},
   "outputs": [
    {
     "name": "stdin",
     "output_type": "stream",
     "text": [
      "Enter a Celsius temp:  3\n"
     ]
    },
    {
     "name": "stdout",
     "output_type": "stream",
     "text": [
      "3.0  converts to  37.4  Fahrenheit\n"
     ]
    }
   ],
   "source": [
    "def celsius_to_fahrenheit(celsius_float):\n",
    "    #Convert Celsius to Fahrenheit\n",
    "    return celsius_float * 1.8 + 32\n",
    "\n",
    "celsius_float = float(input(\"Enter a Celsius temp: \"))\n",
    "fahrenheit_float = celsius_to_fahrenheit(celsius_float)\n",
    "\n",
    "print(celsius_float, \" converts to \", fahrenheit_float, \" Fahrenheit\")\n"
   ]
  },
  {
   "cell_type": "code",
   "execution_count": 13,
   "id": "ea38e56e-aedc-4b63-aff3-40b604891eab",
   "metadata": {},
   "outputs": [],
   "source": [
    "a = 'this is the first half'\n",
    "b = 'this is the second half'"
   ]
  },
  {
   "cell_type": "code",
   "execution_count": 16,
   "id": "c174b72d-127a-4fb6-ad21-4bcd6b9a9420",
   "metadata": {},
   "outputs": [
    {
     "name": "stdout",
     "output_type": "stream",
     "text": [
      "this is the first half this is the second half\n"
     ]
    }
   ],
   "source": [
    "print(a + ' ' + b)"
   ]
  },
  {
   "cell_type": "code",
   "execution_count": 6,
   "id": "0d1875c6",
   "metadata": {},
   "outputs": [
    {
     "name": "stdout",
     "output_type": "stream",
     "text": [
      "Mike, please enter your password: 7990\n",
      "Mike's account is successfully created!\n",
      "Kate, please enter your password: 1234\n",
      "Kate, please enter your password again: 1234\n",
      "Kate's account is successfully created!\n"
     ]
    }
   ],
   "source": [
    "def create_account(username,verify = False):\n",
    "    password = input(username+\", please enter your password: \")\n",
    "    if verify == True:\n",
    "        password2 = input(username+\", please enter your password again: \")\n",
    "        while password != password2 :\n",
    "            print(\"The two passwords are not the same. Please try again.\\n\")\n",
    "            password = input(username + \", please enter your password: \")\n",
    "            password2=input(username+\", please enter your password again: \")                    \n",
    "    print(username+\"'s account is successfully created!\")\n",
    "\n",
    "create_account(\"Mike\")\n",
    "create_account(\"Kate\",True)\n",
    "\n"
   ]
  },
  {
   "cell_type": "code",
   "execution_count": 7,
   "id": "acd3ca1e",
   "metadata": {},
   "outputs": [
    {
     "name": "stdout",
     "output_type": "stream",
     "text": [
      "Kate, please enter your password: 1234\n",
      "Kate, please enter your password again: 1234\n",
      "Kate's account is successfully created!\n"
     ]
    },
    {
     "ename": "NameError",
     "evalue": "name 'password2' is not defined",
     "output_type": "error",
     "traceback": [
      "\u001b[1;31m---------------------------------------------------------------------------\u001b[0m",
      "\u001b[1;31mNameError\u001b[0m                                 Traceback (most recent call last)",
      "Input \u001b[1;32mIn [7]\u001b[0m, in \u001b[0;36m<cell line: 12>\u001b[1;34m()\u001b[0m\n\u001b[0;32m      9\u001b[0m     \u001b[38;5;28mprint\u001b[39m(username\u001b[38;5;241m+\u001b[39m\u001b[38;5;124m\"\u001b[39m\u001b[38;5;124m'\u001b[39m\u001b[38;5;124ms account is successfully created!\u001b[39m\u001b[38;5;124m\"\u001b[39m)\n\u001b[0;32m     11\u001b[0m create_account(\u001b[38;5;124m\"\u001b[39m\u001b[38;5;124mKate\u001b[39m\u001b[38;5;124m\"\u001b[39m, \u001b[38;5;28;01mTrue\u001b[39;00m)\n\u001b[1;32m---> 12\u001b[0m \u001b[38;5;28mprint\u001b[39m(\u001b[43mpassword2\u001b[49m)\n",
      "\u001b[1;31mNameError\u001b[0m: name 'password2' is not defined"
     ]
    }
   ],
   "source": [
    "def create_account(username,verify = False):\n",
    "    password = input(username+\", please enter your password: \")\n",
    "    if verify == True:\n",
    "        password2 = input(username+\", please enter your password again: \")\n",
    "        while password != password2 :\n",
    "            print(\"The two passwords are not the same. Please try again.\\n\")\n",
    "            password = input(username + \", please enter your password: \")\n",
    "            password2 = input(username+\", please enter your password again: \")                    \n",
    "    print(username+\"'s account is successfully created!\")\n",
    "    \n",
    "create_account(\"Kate\", True)\n",
    "print(password2)"
   ]
  },
  {
   "cell_type": "code",
   "execution_count": 11,
   "id": "cff2705f",
   "metadata": {},
   "outputs": [
    {
     "name": "stdout",
     "output_type": "stream",
     "text": [
      "Kate, please enter your password: 1234\n",
      "Kate, please enter your password again: 1234\n",
      "Kate's account is successfully created!\n",
      "Can't be this one\n"
     ]
    }
   ],
   "source": [
    "def create_account(username,verify = False):\n",
    "    password = input(username+\", please enter your password: \")\n",
    "    if verify == True:\n",
    "        password2 = input(username+\", please enter your password again: \")\n",
    "        while password != password2 :\n",
    "            print(\"The two passwords are not the same. Please try again.\\n\")\n",
    "            password = input(username + \", please enter your password: \")\n",
    "            password2 = input(username+\", please enter your password again: \")                    \n",
    "    print(username+\"'s account is successfully created!\")\n",
    "    \n",
    "create_account(\"Kate\", True)\n",
    "print(password2)"
   ]
  },
  {
   "cell_type": "code",
   "execution_count": 42,
   "id": "0d3a745a-d448-4fd4-a3ab-7df2f104a77a",
   "metadata": {},
   "outputs": [],
   "source": [
    "class bankAccounts:\n",
    "    def __init__(self, name, balance, password):\n",
    "        self.name = name\n",
    "        self.balance = balance\n",
    "        self.password = password\n",
    "        print(self.name + \"'s account has a balaance of \" + str(self.balance) + '.')\n",
    "\n",
    "    def deposit(self, value_to_deposit):\n",
    "        self.balance += value_to_deposit\n",
    "        print(\"Deposited \" + str(value_to_deposit), \"Now, \" + \n",
    "              self.name + \"'s account has a balance of \" + str(self.balance) + '.')\n",
    "\n",
    "    def withdraw(self, value_to_withdraw):\n",
    "        self.balance -= value_to_withdraw\n",
    "        print(\"Withdrew \" + str(value_to_withdraw), \"Now, \" + \n",
    "              self.name + \"'s account has a balance of \" + str(self.balance) + '.')"
   ]
  },
  {
   "cell_type": "code",
   "execution_count": 44,
   "id": "96108cfc-5cbf-4b56-8723-5566d96f2504",
   "metadata": {},
   "outputs": [
    {
     "name": "stdout",
     "output_type": "stream",
     "text": [
      "Gk's account has a balaance of 1000.\n"
     ]
    }
   ],
   "source": [
    "my_account = bankAccounts(\"Gk\", 1000, 1234)"
   ]
  },
  {
   "cell_type": "code",
   "execution_count": 47,
   "id": "4c1ca3eb-6ccd-448a-a9e5-fc2a0c3d4d6e",
   "metadata": {},
   "outputs": [
    {
     "name": "stdout",
     "output_type": "stream",
     "text": [
      "Deposited 1000 Now, Gk's account has a balance of 2000.\n"
     ]
    }
   ],
   "source": [
    "my_account.deposit(1000)"
   ]
  },
  {
   "cell_type": "code",
   "execution_count": 46,
   "id": "b4bb0f06-9e32-4c54-a4ae-50c128ef6397",
   "metadata": {},
   "outputs": [
    {
     "name": "stdout",
     "output_type": "stream",
     "text": [
      "Withdrew 1000 Now, Gk's account has a balance of 1000.\n"
     ]
    }
   ],
   "source": [
    "my_account.withdraw(1000)"
   ]
  },
  {
   "cell_type": "code",
   "execution_count": 30,
   "id": "390cc5ba",
   "metadata": {},
   "outputs": [
    {
     "name": "stdout",
     "output_type": "stream",
     "text": [
      "Kate Smith, please enter your password: 1234\n",
      "Kate Smith's account is successfully created!\n",
      "Kate Smith now has $999.\n",
      "Kate Smith successfully deposited $1000.\n",
      "The balance is now 1999\n",
      "Wrong password, deposit failed!\n",
      "Sorry, you don't have that much money in your account.\n",
      "Wrong password, withdraw failed!\n",
      "Kate Smith successfully withdrew $100.\n",
      "The balance is now 1899\n"
     ]
    }
   ],
   "source": [
    "class bankAccounts:\n",
    "    def __init__(self, name = \"Jason Bourne\", balance = 0):\n",
    "        self.owner = name\n",
    "        self.balance = balance\n",
    "        self.password = input(self.owner + \", please enter your password: \")\n",
    "        print(self.owner + \"'s account is successfully created!\")\n",
    "        print(self.owner + \" now has $\" + str(self.balance) + \".\")\n",
    "    \n",
    "    def deposit(self, money, pwd): \n",
    "        if pwd == self.password:\n",
    "            self.balance += money\n",
    "            print(self.owner + \" successfully deposited $\" + str(money) + \".\")\n",
    "            print(\"The balance is now \" + str(self.balance))\n",
    "        else:\n",
    "            print(\"Wrong password, deposit failed!\")\n",
    "        \n",
    "    def withdraw(self, money, pwd): \n",
    "        if pwd == self.password:\n",
    "            if self.balance < money:\n",
    "                print(\"Sorry, you don't have that much money in your account.\")\n",
    "            else:\n",
    "                self.balance -= money\n",
    "                print(self.owner + \" successfully withdrew $\" + str(money) + \".\")\n",
    "                print(\"The balance is now \" + str(self.balance))\n",
    "        else:\n",
    "            print(\"Wrong password, withdraw failed!\")\n",
    "            \n",
    "kate = bankAccounts(\"Kate Smith\",999)\n",
    "kate.deposit(1000, \"1234\")\n",
    "kate.deposit(1020, \"3656\")\n",
    "kate.withdraw(10000, \"1234\")\n",
    "kate.withdraw(100, \"3656\")\n",
    "kate.withdraw(100, \"1234\")"
   ]
  },
  {
   "cell_type": "code",
   "execution_count": null,
   "id": "2b405c2e",
   "metadata": {},
   "outputs": [],
   "source": []
  }
 ],
 "metadata": {
  "kernelspec": {
   "display_name": "Python [conda env:base] *",
   "language": "python",
   "name": "conda-base-py"
  },
  "language_info": {
   "codemirror_mode": {
    "name": "ipython",
    "version": 3
   },
   "file_extension": ".py",
   "mimetype": "text/x-python",
   "name": "python",
   "nbconvert_exporter": "python",
   "pygments_lexer": "ipython3",
   "version": "3.12.7"
  }
 },
 "nbformat": 4,
 "nbformat_minor": 5
}
