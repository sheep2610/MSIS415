{
 "cells": [
  {
   "cell_type": "code",
   "execution_count": 9,
   "id": "e129fc7a",
   "metadata": {},
   "outputs": [],
   "source": [
    "# add this line in Jupyter to enhance interactivity\n",
    "%matplotlib inline   \n",
    "    \n",
    "import pandas as pd\n",
    "import numpy as np\n",
    "from sklearn.linear_model import LinearRegression\n",
    "import matplotlib.pyplot as plt"
   ]
  },
  {
   "cell_type": "code",
   "execution_count": 10,
   "id": "24e7efd9",
   "metadata": {},
   "outputs": [
    {
     "data": {
      "text/html": [
       "<div>\n",
       "<style scoped>\n",
       "    .dataframe tbody tr th:only-of-type {\n",
       "        vertical-align: middle;\n",
       "    }\n",
       "\n",
       "    .dataframe tbody tr th {\n",
       "        vertical-align: top;\n",
       "    }\n",
       "\n",
       "    .dataframe thead th {\n",
       "        text-align: right;\n",
       "    }\n",
       "</style>\n",
       "<table border=\"1\" class=\"dataframe\">\n",
       "  <thead>\n",
       "    <tr style=\"text-align: right;\">\n",
       "      <th></th>\n",
       "      <th>Index</th>\n",
       "      <th>Inhabitants</th>\n",
       "      <th>%incomes&lt;5k</th>\n",
       "      <th>%unemployed</th>\n",
       "      <th>MurdersPerMil</th>\n",
       "    </tr>\n",
       "  </thead>\n",
       "  <tbody>\n",
       "    <tr>\n",
       "      <th>0</th>\n",
       "      <td>1</td>\n",
       "      <td>587000</td>\n",
       "      <td>16.5</td>\n",
       "      <td>6.2</td>\n",
       "      <td>11.2</td>\n",
       "    </tr>\n",
       "    <tr>\n",
       "      <th>1</th>\n",
       "      <td>2</td>\n",
       "      <td>643000</td>\n",
       "      <td>20.5</td>\n",
       "      <td>6.4</td>\n",
       "      <td>13.4</td>\n",
       "    </tr>\n",
       "    <tr>\n",
       "      <th>2</th>\n",
       "      <td>3</td>\n",
       "      <td>635000</td>\n",
       "      <td>26.3</td>\n",
       "      <td>9.3</td>\n",
       "      <td>40.7</td>\n",
       "    </tr>\n",
       "    <tr>\n",
       "      <th>3</th>\n",
       "      <td>4</td>\n",
       "      <td>692000</td>\n",
       "      <td>16.5</td>\n",
       "      <td>5.3</td>\n",
       "      <td>5.3</td>\n",
       "    </tr>\n",
       "    <tr>\n",
       "      <th>4</th>\n",
       "      <td>5</td>\n",
       "      <td>1248000</td>\n",
       "      <td>19.2</td>\n",
       "      <td>7.3</td>\n",
       "      <td>24.8</td>\n",
       "    </tr>\n",
       "    <tr>\n",
       "      <th>5</th>\n",
       "      <td>6</td>\n",
       "      <td>643000</td>\n",
       "      <td>16.5</td>\n",
       "      <td>5.9</td>\n",
       "      <td>12.7</td>\n",
       "    </tr>\n",
       "    <tr>\n",
       "      <th>6</th>\n",
       "      <td>7</td>\n",
       "      <td>1964000</td>\n",
       "      <td>20.2</td>\n",
       "      <td>6.4</td>\n",
       "      <td>20.9</td>\n",
       "    </tr>\n",
       "    <tr>\n",
       "      <th>7</th>\n",
       "      <td>8</td>\n",
       "      <td>1531000</td>\n",
       "      <td>21.3</td>\n",
       "      <td>7.6</td>\n",
       "      <td>35.7</td>\n",
       "    </tr>\n",
       "    <tr>\n",
       "      <th>8</th>\n",
       "      <td>9</td>\n",
       "      <td>713000</td>\n",
       "      <td>17.2</td>\n",
       "      <td>4.9</td>\n",
       "      <td>8.7</td>\n",
       "    </tr>\n",
       "    <tr>\n",
       "      <th>9</th>\n",
       "      <td>10</td>\n",
       "      <td>749000</td>\n",
       "      <td>14.3</td>\n",
       "      <td>6.4</td>\n",
       "      <td>9.6</td>\n",
       "    </tr>\n",
       "    <tr>\n",
       "      <th>10</th>\n",
       "      <td>11</td>\n",
       "      <td>7895000</td>\n",
       "      <td>18.1</td>\n",
       "      <td>6.0</td>\n",
       "      <td>14.5</td>\n",
       "    </tr>\n",
       "    <tr>\n",
       "      <th>11</th>\n",
       "      <td>12</td>\n",
       "      <td>762000</td>\n",
       "      <td>23.1</td>\n",
       "      <td>7.4</td>\n",
       "      <td>26.9</td>\n",
       "    </tr>\n",
       "    <tr>\n",
       "      <th>12</th>\n",
       "      <td>13</td>\n",
       "      <td>2793000</td>\n",
       "      <td>19.1</td>\n",
       "      <td>5.8</td>\n",
       "      <td>15.7</td>\n",
       "    </tr>\n",
       "    <tr>\n",
       "      <th>13</th>\n",
       "      <td>14</td>\n",
       "      <td>741000</td>\n",
       "      <td>24.7</td>\n",
       "      <td>8.6</td>\n",
       "      <td>36.2</td>\n",
       "    </tr>\n",
       "    <tr>\n",
       "      <th>14</th>\n",
       "      <td>15</td>\n",
       "      <td>625000</td>\n",
       "      <td>18.6</td>\n",
       "      <td>6.5</td>\n",
       "      <td>18.1</td>\n",
       "    </tr>\n",
       "    <tr>\n",
       "      <th>15</th>\n",
       "      <td>16</td>\n",
       "      <td>854000</td>\n",
       "      <td>24.9</td>\n",
       "      <td>8.3</td>\n",
       "      <td>28.9</td>\n",
       "    </tr>\n",
       "    <tr>\n",
       "      <th>16</th>\n",
       "      <td>17</td>\n",
       "      <td>716000</td>\n",
       "      <td>17.9</td>\n",
       "      <td>6.7</td>\n",
       "      <td>14.9</td>\n",
       "    </tr>\n",
       "    <tr>\n",
       "      <th>17</th>\n",
       "      <td>18</td>\n",
       "      <td>921000</td>\n",
       "      <td>22.4</td>\n",
       "      <td>8.6</td>\n",
       "      <td>25.8</td>\n",
       "    </tr>\n",
       "    <tr>\n",
       "      <th>18</th>\n",
       "      <td>19</td>\n",
       "      <td>595000</td>\n",
       "      <td>20.2</td>\n",
       "      <td>8.4</td>\n",
       "      <td>21.7</td>\n",
       "    </tr>\n",
       "    <tr>\n",
       "      <th>19</th>\n",
       "      <td>20</td>\n",
       "      <td>3353000</td>\n",
       "      <td>16.9</td>\n",
       "      <td>6.7</td>\n",
       "      <td>25.7</td>\n",
       "    </tr>\n",
       "  </tbody>\n",
       "</table>\n",
       "</div>"
      ],
      "text/plain": [
       "    Index  Inhabitants  %incomes<5k  %unemployed  MurdersPerMil\n",
       "0       1       587000         16.5          6.2           11.2\n",
       "1       2       643000         20.5          6.4           13.4\n",
       "2       3       635000         26.3          9.3           40.7\n",
       "3       4       692000         16.5          5.3            5.3\n",
       "4       5      1248000         19.2          7.3           24.8\n",
       "5       6       643000         16.5          5.9           12.7\n",
       "6       7      1964000         20.2          6.4           20.9\n",
       "7       8      1531000         21.3          7.6           35.7\n",
       "8       9       713000         17.2          4.9            8.7\n",
       "9      10       749000         14.3          6.4            9.6\n",
       "10     11      7895000         18.1          6.0           14.5\n",
       "11     12       762000         23.1          7.4           26.9\n",
       "12     13      2793000         19.1          5.8           15.7\n",
       "13     14       741000         24.7          8.6           36.2\n",
       "14     15       625000         18.6          6.5           18.1\n",
       "15     16       854000         24.9          8.3           28.9\n",
       "16     17       716000         17.9          6.7           14.9\n",
       "17     18       921000         22.4          8.6           25.8\n",
       "18     19       595000         20.2          8.4           21.7\n",
       "19     20      3353000         16.9          6.7           25.7"
      ]
     },
     "execution_count": 10,
     "metadata": {},
     "output_type": "execute_result"
    }
   ],
   "source": [
    "#Reading raw data from csv\n",
    "poverty_data=pd.read_csv('poverty.csv', sep='\\t',header=0)\n",
    "poverty_data"
   ]
  },
  {
   "cell_type": "code",
   "execution_count": 3,
   "id": "c56d1a3b",
   "metadata": {},
   "outputs": [
    {
     "data": {
      "text/html": [
       "<div>\n",
       "<style scoped>\n",
       "    .dataframe tbody tr th:only-of-type {\n",
       "        vertical-align: middle;\n",
       "    }\n",
       "\n",
       "    .dataframe tbody tr th {\n",
       "        vertical-align: top;\n",
       "    }\n",
       "\n",
       "    .dataframe thead th {\n",
       "        text-align: right;\n",
       "    }\n",
       "</style>\n",
       "<table border=\"1\" class=\"dataframe\">\n",
       "  <thead>\n",
       "    <tr style=\"text-align: right;\">\n",
       "      <th></th>\n",
       "      <th>Index</th>\n",
       "      <th>Inhabitants</th>\n",
       "      <th>%incomes&lt;5k</th>\n",
       "      <th>%unemployed</th>\n",
       "      <th>MurdersPerMil</th>\n",
       "    </tr>\n",
       "  </thead>\n",
       "  <tbody>\n",
       "    <tr>\n",
       "      <th>count</th>\n",
       "      <td>20.00000</td>\n",
       "      <td>2.000000e+01</td>\n",
       "      <td>20.000000</td>\n",
       "      <td>20.000000</td>\n",
       "      <td>20.000000</td>\n",
       "    </tr>\n",
       "    <tr>\n",
       "      <th>mean</th>\n",
       "      <td>10.50000</td>\n",
       "      <td>1.433000e+06</td>\n",
       "      <td>19.720000</td>\n",
       "      <td>6.935000</td>\n",
       "      <td>20.570000</td>\n",
       "    </tr>\n",
       "    <tr>\n",
       "      <th>std</th>\n",
       "      <td>5.91608</td>\n",
       "      <td>1.703726e+06</td>\n",
       "      <td>3.242254</td>\n",
       "      <td>1.207117</td>\n",
       "      <td>9.881407</td>\n",
       "    </tr>\n",
       "    <tr>\n",
       "      <th>min</th>\n",
       "      <td>1.00000</td>\n",
       "      <td>5.870000e+05</td>\n",
       "      <td>14.300000</td>\n",
       "      <td>4.900000</td>\n",
       "      <td>5.300000</td>\n",
       "    </tr>\n",
       "    <tr>\n",
       "      <th>25%</th>\n",
       "      <td>5.75000</td>\n",
       "      <td>6.430000e+05</td>\n",
       "      <td>17.125000</td>\n",
       "      <td>6.150000</td>\n",
       "      <td>13.225000</td>\n",
       "    </tr>\n",
       "    <tr>\n",
       "      <th>50%</th>\n",
       "      <td>10.50000</td>\n",
       "      <td>7.450000e+05</td>\n",
       "      <td>19.150000</td>\n",
       "      <td>6.600000</td>\n",
       "      <td>19.500000</td>\n",
       "    </tr>\n",
       "    <tr>\n",
       "      <th>75%</th>\n",
       "      <td>15.25000</td>\n",
       "      <td>1.318750e+06</td>\n",
       "      <td>21.575000</td>\n",
       "      <td>7.775000</td>\n",
       "      <td>26.075000</td>\n",
       "    </tr>\n",
       "    <tr>\n",
       "      <th>max</th>\n",
       "      <td>20.00000</td>\n",
       "      <td>7.895000e+06</td>\n",
       "      <td>26.300000</td>\n",
       "      <td>9.300000</td>\n",
       "      <td>40.700000</td>\n",
       "    </tr>\n",
       "  </tbody>\n",
       "</table>\n",
       "</div>"
      ],
      "text/plain": [
       "          Index   Inhabitants  %incomes<5k  %unemployed  MurdersPerMil\n",
       "count  20.00000  2.000000e+01    20.000000    20.000000      20.000000\n",
       "mean   10.50000  1.433000e+06    19.720000     6.935000      20.570000\n",
       "std     5.91608  1.703726e+06     3.242254     1.207117       9.881407\n",
       "min     1.00000  5.870000e+05    14.300000     4.900000       5.300000\n",
       "25%     5.75000  6.430000e+05    17.125000     6.150000      13.225000\n",
       "50%    10.50000  7.450000e+05    19.150000     6.600000      19.500000\n",
       "75%    15.25000  1.318750e+06    21.575000     7.775000      26.075000\n",
       "max    20.00000  7.895000e+06    26.300000     9.300000      40.700000"
      ]
     },
     "execution_count": 3,
     "metadata": {},
     "output_type": "execute_result"
    }
   ],
   "source": [
    "poverty_data.describe()"
   ]
  },
  {
   "cell_type": "code",
   "execution_count": 11,
   "id": "f77d428a",
   "metadata": {},
   "outputs": [
    {
     "data": {
      "text/plain": [
       "<matplotlib.collections.PathCollection at 0x1eefcff2fa0>"
      ]
     },
     "execution_count": 11,
     "metadata": {},
     "output_type": "execute_result"
    },
    {
     "data": {
      "image/png": "[encoded data removed]",
      "text/plain": [
       "<Figure size 432x288 with 1 Axes>"
      ]
     },
     "metadata": {
      "needs_background": "light"
     },
     "output_type": "display_data"
    }
   ],
   "source": [
    "#Specify independent variable (x=poverty) and dependent variables (y=crime rate) from data\n",
    "x=poverty_data[['%incomes<5k']].to_numpy()\n",
    "y=poverty_data[['MurdersPerMil']].to_numpy()\n",
    "\n",
    "#plot the raw data x=poverty(%income<5k), y=crime rate(MurdersPerMil)\n",
    "plt.figure()\n",
    "ax = plt.axes()\n",
    "ax.set_xlabel('poverty')\n",
    "ax.set_ylabel('crime rate')\n",
    "ax.scatter(x, y)"
   ]
  },
  {
   "cell_type": "code",
   "execution_count": 12,
   "id": "6dea59e9",
   "metadata": {},
   "outputs": [
    {
     "data": {
      "text/plain": [
       "LinearRegression()"
      ]
     },
     "execution_count": 12,
     "metadata": {},
     "output_type": "execute_result"
    }
   ],
   "source": [
    "#Create and fit a linear regression model\n",
    "model = LinearRegression()\n",
    "model.fit(x, y)"
   ]
  },
  {
   "cell_type": "code",
   "execution_count": 12,
   "id": "3383b9b4",
   "metadata": {},
   "outputs": [
    {
     "data": {
      "text/plain": [
       "array([[2.55938958]])"
      ]
     },
     "execution_count": 12,
     "metadata": {},
     "output_type": "execute_result"
    }
   ],
   "source": [
    "#check results\n",
    "model.intercept_\n",
    "model.coef_"
   ]
  },
  {
   "cell_type": "code",
   "execution_count": 13,
   "id": "563afce9",
   "metadata": {},
   "outputs": [
    {
     "data": {
      "text/plain": [
       "0.7052275058037657"
      ]
     },
     "execution_count": 13,
     "metadata": {},
     "output_type": "execute_result"
    }
   ],
   "source": [
    "#check R-squared\n",
    "model.score(x, y)"
   ]
  },
  {
   "cell_type": "code",
   "execution_count": 14,
   "id": "291757b2",
   "metadata": {},
   "outputs": [
    {
     "data": {
      "text/plain": [
       "[<matplotlib.lines.Line2D at 0x1eefd054580>]"
      ]
     },
     "execution_count": 14,
     "metadata": {},
     "output_type": "execute_result"
    },
    {
     "data": {
      "image/png": "[encoded data removed]",
      "text/plain": [
       "<Figure size 432x288 with 1 Axes>"
      ]
     },
     "metadata": {
      "needs_background": "light"
     },
     "output_type": "display_data"
    }
   ],
   "source": [
    "#Use the fitted model to predict estimated crime rate on original poverty (x)\n",
    "y_est = model.predict(x)\n",
    "\n",
    "#Plot the estimated line along with scattered raw data on figure\n",
    "ax=plt.axes()\n",
    "ax.set_xlabel('poverty')\n",
    "ax.set_ylabel('crime rate')\n",
    "ax.scatter(x, y)\n",
    "ax.plot(x,y_est)"
   ]
  },
  {
   "cell_type": "code",
   "execution_count": 15,
   "id": "a4dd4d19",
   "metadata": {},
   "outputs": [
    {
     "name": "stdout",
     "output_type": "stream",
     "text": [
      "Estimated Murder Rate for the new data: [[21.28662908]]\n"
     ]
    },
    {
     "data": {
      "text/plain": [
       "array([[21.28662908]])"
      ]
     },
     "execution_count": 15,
     "metadata": {},
     "output_type": "execute_result"
    }
   ],
   "source": [
    "#Use the fitted model to predict a single new data point\n",
    "x_new = np.asarray([20])\n",
    "y_pred=model.predict(x_new.reshape(1,-1)) # reshape to (1,-1) for a single data point\n",
    "print(\"Estimated Murder Rate for the new data:\", y_pred)\n",
    "y_pred"
   ]
  },
  {
   "cell_type": "code",
   "execution_count": 16,
   "id": "9cb0fe12",
   "metadata": {},
   "outputs": [
    {
     "data": {
      "text/plain": [
       "<matplotlib.collections.PathCollection at 0x1eefd0cb130>"
      ]
     },
     "execution_count": 16,
     "metadata": {},
     "output_type": "execute_result"
    },
    {
     "data": {
      "image/png": "[encoded data removed]",
      "text/plain": [
       "<Figure size 432x288 with 1 Axes>"
      ]
     },
     "metadata": {
      "needs_background": "light"
     },
     "output_type": "display_data"
    }
   ],
   "source": [
    "#Plot the predcted result on figure\n",
    "ax=plt.axes()\n",
    "ax.set_xlabel('poverty')\n",
    "ax.set_ylabel('crime rate')\n",
    "ax.scatter(x, y)\n",
    "ax.plot(x,y_est)\n",
    "ax.scatter(x_new,y_pred,color='red')"
   ]
  },
  {
   "cell_type": "code",
   "execution_count": 18,
   "id": "80ee1483",
   "metadata": {},
   "outputs": [],
   "source": [
    "#Specify independent variables (x) and dependent variables (y) from data\n",
    "x=poverty_data[['Inhabitants','%incomes<5k','%unemployed']].to_numpy()\n",
    "y=poverty_data[['MurdersPerMil']].to_numpy()"
   ]
  },
  {
   "cell_type": "code",
   "execution_count": 19,
   "id": "cadb0f6c",
   "metadata": {},
   "outputs": [
    {
     "name": "stdout",
     "output_type": "stream",
     "text": [
      "Coefficients: [[7.62936937e-07 1.19217421e+00 4.71982137e+00]]\n",
      "R-square: 0.818317865815338\n"
     ]
    }
   ],
   "source": [
    "#Create and fit a linear regression model\n",
    "model = LinearRegression()\n",
    "model.fit(x, y)\n",
    "print(\"Coefficients:\", model.coef_)\n",
    "print(\"R-square:\", model.score(x, y))"
   ]
  },
  {
   "cell_type": "code",
   "execution_count": 20,
   "id": "13904478",
   "metadata": {},
   "outputs": [
    {
     "name": "stdout",
     "output_type": "stream",
     "text": [
      "Estimated Murder Rate for the new data points: [[27.41744078]\n",
      " [14.55738488]]\n"
     ]
    }
   ],
   "source": [
    "#Use the fitted model to predict new data points\n",
    "new_data1=[595000,20.2,8.4]\n",
    "new_data2=[596000,10.6,8.1]\n",
    "X_new=np.asarray([new_data1,new_data2])\n",
    "y_pred=model.predict(X_new)\n",
    "print(\"Estimated Murder Rate for the new data points:\", y_pred)"
   ]
  },
  {
   "cell_type": "code",
   "execution_count": 26,
   "id": "0f05483a",
   "metadata": {},
   "outputs": [
    {
     "name": "stdout",
     "output_type": "stream",
     "text": [
      "                            OLS Regression Results                            \n",
      "==============================================================================\n",
      "Dep. Variable:                      y   R-squared:                       0.705\n",
      "Model:                            OLS   Adj. R-squared:                  0.689\n",
      "Method:                 Least Squares   F-statistic:                     43.06\n",
      "Date:                Tue, 01 Nov 2022   Prob (F-statistic):           3.64e-06\n",
      "Time:                        13:29:29   Log-Likelihood:                -61.463\n",
      "No. Observations:                  20   AIC:                             126.9\n",
      "Df Residuals:                      18   BIC:                             128.9\n",
      "Df Model:                           1                                         \n",
      "Covariance Type:            nonrobust                                         \n",
      "==============================================================================\n",
      "                 coef    std err          t      P>|t|      [0.025      0.975]\n",
      "------------------------------------------------------------------------------\n",
      "const        -29.9012      7.789     -3.839      0.001     -46.266     -13.537\n",
      "x1             2.5594      0.390      6.562      0.000       1.740       3.379\n",
      "==============================================================================\n",
      "Omnibus:                        3.407   Durbin-Watson:                   2.320\n",
      "Prob(Omnibus):                  0.182   Jarque-Bera (JB):                1.827\n",
      "Skew:                           0.714   Prob(JB):                        0.401\n",
      "Kurtosis:                       3.390   Cond. No.                         127.\n",
      "==============================================================================\n",
      "\n",
      "Notes:\n",
      "[1] Standard Errors assume that the covariance matrix of the errors is correctly specified.\n"
     ]
    }
   ],
   "source": [
    "import statsmodels.api as sm\n",
    "\n",
    "#Data were loaded before\n",
    "X=poverty_data[['%incomes<5k']].to_numpy()\n",
    "Y=poverty_data[['MurdersPerMil']].to_numpy()\n",
    "X = sm.add_constant(X)\n",
    "model = sm.OLS(Y,X)\n",
    "results = model.fit()\n",
    "print(results.summary())"
   ]
  },
  {
   "cell_type": "code",
   "execution_count": 25,
   "id": "39f36468",
   "metadata": {},
   "outputs": [
    {
     "name": "stdout",
     "output_type": "stream",
     "text": [
      "                            OLS Regression Results                            \n",
      "==============================================================================\n",
      "Dep. Variable:                      y   R-squared:                       0.818\n",
      "Model:                            OLS   Adj. R-squared:                  0.784\n",
      "Method:                 Least Squares   F-statistic:                     24.02\n",
      "Date:                Tue, 01 Nov 2022   Prob (F-statistic):           3.63e-06\n",
      "Time:                        13:22:13   Log-Likelihood:                -56.624\n",
      "No. Observations:                  20   AIC:                             121.2\n",
      "Df Residuals:                      16   BIC:                             125.2\n",
      "Df Model:                           3                                         \n",
      "Covariance Type:            nonrobust                                         \n",
      "==============================================================================\n",
      "                 coef    std err          t      P>|t|      [0.025      0.975]\n",
      "------------------------------------------------------------------------------\n",
      "const        -36.7649      7.011     -5.244      0.000     -51.627     -21.902\n",
      "x1          7.629e-07   6.36e-07      1.199      0.248   -5.86e-07    2.11e-06\n",
      "x2             1.1922      0.562      2.123      0.050       0.002       2.383\n",
      "x3             4.7198      1.530      3.084      0.007       1.475       7.964\n",
      "==============================================================================\n",
      "Omnibus:                        2.825   Durbin-Watson:                   1.656\n",
      "Prob(Omnibus):                  0.244   Jarque-Bera (JB):                1.585\n",
      "Skew:                           0.684   Prob(JB):                        0.453\n",
      "Kurtosis:                       3.178   Cond. No.                     1.50e+07\n",
      "==============================================================================\n",
      "\n",
      "Notes:\n",
      "[1] Standard Errors assume that the covariance matrix of the errors is correctly specified.\n",
      "[2] The condition number is large, 1.5e+07. This might indicate that there are\n",
      "strong multicollinearity or other numerical problems.\n"
     ]
    }
   ],
   "source": [
    "import statsmodels.api as sm\n",
    "X=poverty_data[['Inhabitants','%incomes<5k','%unemployed']].to_numpy()\n",
    "Y=poverty_data[['MurdersPerMil']].to_numpy()\n",
    "X = sm.add_constant(X)\n",
    "model = sm.OLS(Y,X)\n",
    "results = model.fit()\n",
    "print(results.summary())"
   ]
  }
 ],
 "metadata": {
  "kernelspec": {
   "display_name": "Python [conda env:base] *",
   "language": "python",
   "name": "conda-base-py"
  },
  "language_info": {
   "codemirror_mode": {
    "name": "ipython",
    "version": 3
   },
   "file_extension": ".py",
   "mimetype": "text/x-python",
   "name": "python",
   "nbconvert_exporter": "python",
   "pygments_lexer": "ipython3",
   "version": "3.12.7"
  }
 },
 "nbformat": 4,
 "nbformat_minor": 5
}
