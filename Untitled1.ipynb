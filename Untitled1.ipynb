{
 "cells": [
  {
   "cell_type": "code",
   "execution_count": 2,
   "id": "0841e2e8-c0ef-4caf-acc3-8e873292b0b3",
   "metadata": {},
   "outputs": [
    {
     "name": "stdout",
     "output_type": "stream",
     "text": [
      "4\n",
      "8\n"
     ]
    },
    {
     "name": "stdin",
     "output_type": "stream",
     "text": [
      "What is the product?  28\n"
     ]
    },
    {
     "name": "stdout",
     "output_type": "stream",
     "text": [
      "Incorrect. The correct product is 32\n"
     ]
    }
   ],
   "source": [
    "import random\n",
    "x = random.randint(0, 9)\n",
    "print(x)\n",
    "\n",
    "y = random.randint(0, 9)\n",
    "print(y)\n",
    "\n",
    "product = int(input(\"What is the product? \"))\n",
    "\n",
    "if product == x * y:\n",
    "    print(\"Correct!\")\n",
    "else:\n",
    "    print(\"Incorrect. The correct product is\", x * y)\n",
    "\n"
   ]
  },
  {
   "cell_type": "code",
   "execution_count": null,
   "id": "61c94327-c8d9-418b-b8c5-d798b821804a",
   "metadata": {},
   "outputs": [],
   "source": []
  }
 ],
 "metadata": {
  "kernelspec": {
   "display_name": "Python [conda env:base] *",
   "language": "python",
   "name": "conda-base-py"
  },
  "language_info": {
   "codemirror_mode": {
    "name": "ipython",
    "version": 3
   },
   "file_extension": ".py",
   "mimetype": "text/x-python",
   "name": "python",
   "nbconvert_exporter": "python",
   "pygments_lexer": "ipython3",
   "version": "3.12.7"
  }
 },
 "nbformat": 4,
 "nbformat_minor": 5
}
