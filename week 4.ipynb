{
 "cells": [
  {
   "cell_type": "code",
   "execution_count": 2,
   "id": "017f52ec-54f0-454d-9d81-5e611b5dc973",
   "metadata": {},
   "outputs": [
    {
     "name": "stdout",
     "output_type": "stream",
     "text": [
      "new \n",
      " line\n"
     ]
    }
   ],
   "source": [
    "print( \"new \\n line\")"
   ]
  },
  {
   "cell_type": "code",
   "execution_count": 4,
   "id": "a64cefbc-0f7a-408d-8468-9c6ffb0e4756",
   "metadata": {},
   "outputs": [
    {
     "name": "stdout",
     "output_type": "stream",
     "text": [
      "newline\n"
     ]
    }
   ],
   "source": [
    "print( \"new \\bline\")"
   ]
  },
  {
   "cell_type": "code",
   "execution_count": 10,
   "id": "30bb5eab-9d0e-4aa8-97be-7a97d563876f",
   "metadata": {},
   "outputs": [
    {
     "data": {
      "text/plain": [
       "True"
      ]
     },
     "execution_count": 10,
     "metadata": {},
     "output_type": "execute_result"
    }
   ],
   "source": [
    "'abc' <'acd'"
   ]
  },
  {
   "cell_type": "code",
   "execution_count": null,
   "id": "45181027-9bbf-4942-b50e-6c75b4ff21d3",
   "metadata": {},
   "outputs": [],
   "source": []
  },
  {
   "cell_type": "code",
   "execution_count": 18,
   "id": "6ac54018-2e9d-4533-9e73-ab701b251858",
   "metadata": {},
   "outputs": [
    {
     "data": {
      "text/plain": [
       "'MSIS'"
      ]
     },
     "execution_count": 18,
     "metadata": {},
     "output_type": "execute_result"
    }
   ],
   "source": [
    "'MSIS' "
   ]
  },
  {
   "cell_type": "code",
   "execution_count": 20,
   "id": "720647d7-a67d-4701-9908-027b04de2d53",
   "metadata": {},
   "outputs": [],
   "source": [
    "A = 'MSIS' "
   ]
  },
  {
   "cell_type": "code",
   "execution_count": 22,
   "id": "75a00bb4-ab96-47b9-a6b7-5ba8d43feb77",
   "metadata": {},
   "outputs": [
    {
     "data": {
      "text/plain": [
       "'M'"
      ]
     },
     "execution_count": 22,
     "metadata": {},
     "output_type": "execute_result"
    }
   ],
   "source": [
    "A[0]"
   ]
  },
  {
   "cell_type": "code",
   "execution_count": 24,
   "id": "dde5670c-d060-4ca7-9343-84c7535fb005",
   "metadata": {},
   "outputs": [
    {
     "ename": "SyntaxError",
     "evalue": "invalid syntax (2683190639.py, line 2)",
     "output_type": "error",
     "traceback": [
      "\u001b[0;36m  Cell \u001b[0;32mIn[24], line 2\u001b[0;36m\u001b[0m\n\u001b[0;31m    S: 1,3\u001b[0m\n\u001b[0m        ^\u001b[0m\n\u001b[0;31mSyntaxError\u001b[0m\u001b[0;31m:\u001b[0m invalid syntax\n"
     ]
    }
   ],
   "source": [
    "M: 0\n",
    "S: 1,3\n",
    "I: 2"
   ]
  },
  {
   "cell_type": "code",
   "execution_count": 26,
   "id": "9caac2a4-79dd-44d7-aadd-a0b3f8996bbb",
   "metadata": {},
   "outputs": [
    {
     "ename": "SyntaxError",
     "evalue": "expected ':' (1692159684.py, line 1)",
     "output_type": "error",
     "traceback": [
      "\u001b[0;36m  Cell \u001b[0;32mIn[26], line 1\u001b[0;36m\u001b[0m\n\u001b[0;31m    def Append(myList, value)\u001b[0m\n\u001b[0m                             ^\u001b[0m\n\u001b[0;31mSyntaxError\u001b[0m\u001b[0;31m:\u001b[0m expected ':'\n"
     ]
    }
   ],
   "source": [
    "def Append(myList, value)\n",
    "    return mylist.append(value) \n",
    "    "
   ]
  },
  {
   "cell_type": "code",
   "execution_count": 28,
   "id": "f5966f62-6746-42df-8bf9-0cff287f0fdd",
   "metadata": {},
   "outputs": [],
   "source": [
    "a = (1,2)"
   ]
  },
  {
   "cell_type": "code",
   "execution_count": 30,
   "id": "7319a950-66c5-4485-a5f7-9fe5e1a31608",
   "metadata": {},
   "outputs": [
    {
     "data": {
      "text/plain": [
       "tuple"
      ]
     },
     "execution_count": 30,
     "metadata": {},
     "output_type": "execute_result"
    }
   ],
   "source": [
    "type(a)\n"
   ]
  },
  {
   "cell_type": "code",
   "execution_count": 32,
   "id": "a9ae9a11-982d-4d6b-b08c-534d960445b1",
   "metadata": {},
   "outputs": [],
   "source": [
    "aa = [ 1, 2, 3 ,4 ,5 ] "
   ]
  },
  {
   "cell_type": "code",
   "execution_count": 34,
   "id": "2ced5506-6965-421f-a2c4-1f3e2afdf9c4",
   "metadata": {},
   "outputs": [
    {
     "data": {
      "text/plain": [
       "list"
      ]
     },
     "execution_count": 34,
     "metadata": {},
     "output_type": "execute_result"
    }
   ],
   "source": [
    "type (aa)\n"
   ]
  },
  {
   "cell_type": "code",
   "execution_count": 36,
   "id": "fdb31641-10cb-4466-a232-8848563e5d85",
   "metadata": {},
   "outputs": [
    {
     "data": {
      "text/plain": [
       "1"
      ]
     },
     "execution_count": 36,
     "metadata": {},
     "output_type": "execute_result"
    }
   ],
   "source": [
    "a[0] \n"
   ]
  },
  {
   "cell_type": "code",
   "execution_count": 38,
   "id": "af3bbf50-c0bc-4859-806b-eef4aa819353",
   "metadata": {},
   "outputs": [
    {
     "data": {
      "text/plain": [
       "[1, 2, 3, 4, 5]"
      ]
     },
     "execution_count": 38,
     "metadata": {},
     "output_type": "execute_result"
    }
   ],
   "source": [
    "aa\n"
   ]
  },
  {
   "cell_type": "code",
   "execution_count": 40,
   "id": "1cabfa48-146d-4470-a1f9-4094df48d61c",
   "metadata": {},
   "outputs": [
    {
     "data": {
      "text/plain": [
       "(1, 2)"
      ]
     },
     "execution_count": 40,
     "metadata": {},
     "output_type": "execute_result"
    }
   ],
   "source": [
    "a"
   ]
  },
  {
   "cell_type": "code",
   "execution_count": 44,
   "id": "256cd9fa-bd08-4289-9827-8248c67fa702",
   "metadata": {},
   "outputs": [],
   "source": [
    "aaa=(aa, a)"
   ]
  },
  {
   "cell_type": "code",
   "execution_count": 46,
   "id": "2d9bcfe6-2824-46ea-ae02-ef44eae33362",
   "metadata": {},
   "outputs": [
    {
     "data": {
      "text/plain": [
       "([1, 2, 3, 4, 5], (1, 2))"
      ]
     },
     "execution_count": 46,
     "metadata": {},
     "output_type": "execute_result"
    }
   ],
   "source": [
    "aaa"
   ]
  },
  {
   "cell_type": "code",
   "execution_count": 48,
   "id": "6819463f-ce5f-44fd-b2cd-e82fbcf9eba0",
   "metadata": {},
   "outputs": [],
   "source": [
    "a, b = 1, 2"
   ]
  },
  {
   "cell_type": "code",
   "execution_count": 50,
   "id": "7c2950f3-fdec-45d2-9dc6-e9ad3c38203e",
   "metadata": {},
   "outputs": [
    {
     "data": {
      "text/plain": [
       "1"
      ]
     },
     "execution_count": 50,
     "metadata": {},
     "output_type": "execute_result"
    }
   ],
   "source": [
    "a"
   ]
  },
  {
   "cell_type": "code",
   "execution_count": 52,
   "id": "ad3f9bdb-0012-4cf0-a5f3-03dd54ce85ee",
   "metadata": {},
   "outputs": [
    {
     "data": {
      "text/plain": [
       "2"
      ]
     },
     "execution_count": 52,
     "metadata": {},
     "output_type": "execute_result"
    }
   ],
   "source": [
    "b"
   ]
  },
  {
   "cell_type": "code",
   "execution_count": 54,
   "id": "f6781bf0-daa3-48b4-9ff3-29f9d6fe54fd",
   "metadata": {},
   "outputs": [
    {
     "data": {
      "text/plain": [
       "([1, 2, 3, 4, 5], (1, 2))"
      ]
     },
     "execution_count": 54,
     "metadata": {},
     "output_type": "execute_result"
    }
   ],
   "source": [
    "aaa"
   ]
  },
  {
   "cell_type": "code",
   "execution_count": 56,
   "id": "72cd914f-f3a6-491f-b03d-a55b359ce87c",
   "metadata": {},
   "outputs": [
    {
     "ename": "AttributeError",
     "evalue": "'tuple' object has no attribute 'append'",
     "output_type": "error",
     "traceback": [
      "\u001b[0;31m---------------------------------------------------------------------------\u001b[0m",
      "\u001b[0;31mAttributeError\u001b[0m                            Traceback (most recent call last)",
      "Cell \u001b[0;32mIn[56], line 1\u001b[0m\n\u001b[0;32m----> 1\u001b[0m aaa\u001b[38;5;241m.\u001b[39mappend(\u001b[38;5;241m1\u001b[39m)\n",
      "\u001b[0;31mAttributeError\u001b[0m: 'tuple' object has no attribute 'append'"
     ]
    }
   ],
   "source": [
    "aaa.append(1)"
   ]
  },
  {
   "cell_type": "code",
   "execution_count": 58,
   "id": "d902c4af-364d-4e9f-ac75-ce9dd5bb7bdd",
   "metadata": {},
   "outputs": [
    {
     "ename": "SyntaxError",
     "evalue": "invalid character '“' (U+201C) (2973356300.py, line 1)",
     "output_type": "error",
     "traceback": [
      "\u001b[0;36m  Cell \u001b[0;32mIn[58], line 1\u001b[0;36m\u001b[0m\n\u001b[0;31m    my_str=“As the weather turns colder and wetter, many of us find it more difficult to save energy around the house. The heat goes up, the clotheslines and drying racks come down, and the oven goes on. But you can still save energy with simple changes. And even if you're drying more laundry at this time of year, one of the simplest things that you can do to save energy can still be found in the laundry room. Just change to washing your clothes in cold, and you could see some big savings over the year. <b>Washing in hot water is great for dishes<b>, but it's not really needed for your clothes. And all that unnecessary heating can add up on your bill. <b>90 per cent<b> of the energy consumed by washing machines goes to heating the water, not to agitating or rinsing. Simply washing in cold water will save up to <b>$70<b> in electricity costs over the year. And if you're worried that clothes and fabrics won't get as clean on a cold cycle, there's good news. Experts say that that's simply not true. It might even have some benefits.”\u001b[0m\n\u001b[0m           ^\u001b[0m\n\u001b[0;31mSyntaxError\u001b[0m\u001b[0;31m:\u001b[0m invalid character '“' (U+201C)\n"
     ]
    }
   ],
   "source": [
    "my_str=“As the weather turns colder and wetter, many of us find it more difficult to save energy around the house. The heat goes up, the clotheslines and drying racks come down, and the oven goes on. But you can still save energy with simple changes. And even if you're drying more laundry at this time of year, one of the simplest things that you can do to save energy can still be found in the laundry room. Just change to washing your clothes in cold, and you could see some big savings over the year. <b>Washing in hot water is great for dishes<b>, but it's not really needed for your clothes. And all that unnecessary heating can add up on your bill. <b>90 per cent<b> of the energy consumed by washing machines goes to heating the water, not to agitating or rinsing. Simply washing in cold water will save up to <b>$70<b> in electricity costs over the year. And if you're worried that clothes and fabrics won't get as clean on a cold cycle, there's good news. Experts say that that's simply not true. It might even have some benefits.”"
   ]
  },
  {
   "cell_type": "code",
   "execution_count": 60,
   "id": "7df2a40f-1034-40f7-8223-7078f9354552",
   "metadata": {},
   "outputs": [
    {
     "ename": "SyntaxError",
     "evalue": "invalid syntax (3253006674.py, line 1)",
     "output_type": "error",
     "traceback": [
      "\u001b[0;36m  Cell \u001b[0;32mIn[60], line 1\u001b[0;36m\u001b[0m\n\u001b[0;31m    my_str='As the weather turns colder and wetter, many of us find it more difficult to save energy around the house. The heat goes up, the clotheslines and drying racks come down, and the oven goes on. But you can still save energy with simple changes. And even if you're drying more laundry at this time of year, one of the simplest things that you can do to save energy can still be found in the laundry room. Just change to washing your clothes in cold, and you could see some big savings over the year. <b>Washing in hot water is great for dishes<b>, but it's not really needed for your clothes. And all that unnecessary heating can add up on your bill. <b>90 per cent<b> of the energy consumed by washing machines goes to heating the water, not to agitating or rinsing. Simply washing in cold water will save up to <b>$70<b> in electricity costs over the year. And if you're worried that clothes and fabrics won't get as clean on a cold cycle, there's good news. Experts say that that's simply not true. It might even have some benefits.'\u001b[0m\n\u001b[0m                                                                                                                                                                                                                                                                               ^\u001b[0m\n\u001b[0;31mSyntaxError\u001b[0m\u001b[0;31m:\u001b[0m invalid syntax\n"
     ]
    }
   ],
   "source": [
    "my_str='As the weather turns colder and wetter, many of us find it more difficult to save energy around the house. The heat goes up, the clotheslines and drying racks come down, and the oven goes on. But you can still save energy with simple changes. And even if you're drying more laundry at this time of year, one of the simplest things that you can do to save energy can still be found in the laundry room. Just change to washing your clothes in cold, and you could see some big savings over the year. <b>Washing in hot water is great for dishes<b>, but it's not really needed for your clothes. And all that unnecessary heating can add up on your bill. <b>90 per cent<b> of the energy consumed by washing machines goes to heating the water, not to agitating or rinsing. Simply washing in cold water will save up to <b>$70<b> in electricity costs over the year. And if you're worried that clothes and fabrics won't get as clean on a cold cycle, there's good news. Experts say that that's simply not true. It might even have some benefits.'"
   ]
  },
  {
   "cell_type": "code",
   "execution_count": null,
   "id": "09db202f-3630-40c9-9d16-157bd60ec710",
   "metadata": {},
   "outputs": [],
   "source": []
  }
 ],
 "metadata": {
  "kernelspec": {
   "display_name": "Python [conda env:base] *",
   "language": "python",
   "name": "conda-base-py"
  },
  "language_info": {
   "codemirror_mode": {
    "name": "ipython",
    "version": 3
   },
   "file_extension": ".py",
   "mimetype": "text/x-python",
   "name": "python",
   "nbconvert_exporter": "python",
   "pygments_lexer": "ipython3",
   "version": "3.12.7"
  }
 },
 "nbformat": 4,
 "nbformat_minor": 5
}
