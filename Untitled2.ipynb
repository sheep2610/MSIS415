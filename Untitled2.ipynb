{
 "cells": [
  {
   "cell_type": "code",
   "execution_count": 4,
   "id": "67918141-0c5b-4e5b-a524-462849d081df",
   "metadata": {},
   "outputs": [
    {
     "name": "stdout",
     "output_type": "stream",
     "text": [
      "4\n",
      "7\n"
     ]
    },
    {
     "name": "stdin",
     "output_type": "stream",
     "text": [
      "What is your answer of product?  2\n"
     ]
    },
    {
     "name": "stdout",
     "output_type": "stream",
     "text": [
      "Sorry! Your answer is incorrect. The correct answer is 28\n"
     ]
    }
   ],
   "source": [
    "#program to generate am random number between 0 and 9\n",
    "import random\n",
    "\n",
    "# two random numbers between 0 and 9\n",
    "x = random.randint(0, 9)\n",
    "print(x)\n",
    "y = random.randint(0, 9)\n",
    "print(y)\n",
    "\n",
    "#ask the answer of user\n",
    "your_answer = int(input(\"What is your answer of product? \"))\n",
    "\n",
    "#correct answer\n",
    "correct_answer= x*y\n",
    "\n",
    "# check the answer\n",
    "if your_answer == correct_answer:\n",
    "    print(\"Congratulation! Your answer is correct\")\n",
    "else:\n",
    "    print(\"Sorry! Your answer is incorrect. The correct answer is\", correct_answer) "
   ]
  },
  {
   "cell_type": "code",
   "execution_count": 14,
   "id": "77a427bc-96a9-49d2-9439-8a16eec46991",
   "metadata": {},
   "outputs": [
    {
     "name": "stdout",
     "output_type": "stream",
     "text": [
      "8\n",
      "8\n"
     ]
    },
    {
     "name": "stdin",
     "output_type": "stream",
     "text": [
      "What is your answer of product?  2\n"
     ]
    },
    {
     "name": "stdout",
     "output_type": "stream",
     "text": [
      "Sorry! Your answer is incorrect. The correct answer is 64 !\n"
     ]
    }
   ],
   "source": [
    "#program to generate am random number between 0 and 9\n",
    "import random\n",
    "\n",
    "# two random numbers between 0 and 9\n",
    "x = random.randint(0, 9)\n",
    "print(x)\n",
    "y = random.randint(0, 9)\n",
    "print(y)\n",
    "\n",
    "#ask the answer of user\n",
    "your_answer = int(input(\"What is your answer of product? \"))\n",
    "\n",
    "#correct answer\n",
    "correct_answer= x*y\n",
    "\n",
    "# check the answer\n",
    "if your_answer == correct_answer:\n",
    "    print(\"Congratulation! Your answer is correct!\")\n",
    "else:\n",
    "    print(\"Sorry! Your answer is incorrect. The correct answer is\",correct_answer,\"!\") \n"
   ]
  },
  {
   "cell_type": "code",
   "execution_count": 16,
   "id": "f20fe60f-f7ca-4c04-b935-9eb83d8ebb71",
   "metadata": {},
   "outputs": [
    {
     "name": "stdin",
     "output_type": "stream",
     "text": [
      "Please enter the first integer: 2\n",
      "Please enter the second integer: 4\n"
     ]
    },
    {
     "name": "stdout",
     "output_type": "stream",
     "text": [
      "The sum is 6\n",
      "The average is 3.0\n",
      "The product is 8\n"
     ]
    }
   ],
   "source": [
    "import math\n",
    "# create two integers\n",
    "int_1_str=input(\"Please enter the first integer:\")\n",
    "int_2_str=input(\"Please enter the second integer:\")\n",
    "x=int(int_1_str)\n",
    "y=int(int_2_str)\n",
    "# calculate sum, average, product \n",
    "sum = x + y\n",
    "average = sum /2\n",
    "product = x * y \n",
    "print(\"The sum is\", sum)\n",
    "print(\"The average is\", average)\n",
    "print(\"The product is\", product)"
   ]
  },
  {
   "cell_type": "code",
   "execution_count": null,
   "id": "e97e01d5-7dd4-487c-a5f3-68596eda7f30",
   "metadata": {},
   "outputs": [],
   "source": []
  }
 ],
 "metadata": {
  "kernelspec": {
   "display_name": "Python [conda env:base] *",
   "language": "python",
   "name": "conda-base-py"
  },
  "language_info": {
   "codemirror_mode": {
    "name": "ipython",
    "version": 3
   },
   "file_extension": ".py",
   "mimetype": "text/x-python",
   "name": "python",
   "nbconvert_exporter": "python",
   "pygments_lexer": "ipython3",
   "version": "3.12.7"
  }
 },
 "nbformat": 4,
 "nbformat_minor": 5
}
