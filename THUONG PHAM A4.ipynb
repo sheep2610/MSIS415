{
 "cells": [
  {
   "cell_type": "markdown",
   "id": "b7606f69-2f9f-4e34-a6dc-5ce225a9effc",
   "metadata": {},
   "source": [
    "## Assignment 4"
   ]
  },
  {
   "cell_type": "code",
   "execution_count": 12,
   "id": "25c65b30-a9f4-4515-afbf-ab6f5f68a927",
   "metadata": {},
   "outputs": [],
   "source": [
    "my_str = \"python is a powerful programming language that is widely used in various fields such as web development, data science, and artificial intelligence. learning python can be fun and rewarding, especially when exploring its numerous built‐in functions and libraries. many developers prefer python because of its simplicity and readability. in addition, python supports multiple programming paradigms, including procedural, object‐oriented, and functional programming. writing clean and efficient python code requires understanding fundamental concepts such as variables, loops, and functions. for instance, when working with strings, it is essential to know how to manipulate text using built‐in methods. the ability to convert text to uppercase, find specific words, and replace certain characters is extremely useful in text processing applications. moreover, python’s versatility allows developers to automate tasks, analyze large datasets, and even create machine learning models. one of the key advantages of python is its extensive community support, which provides a vast collection of resources, tutorials, and libraries. whether a beginner or an experienced programmer, mastering python can open doors to countless opportunities in the tech industry. therefore, practicing python string methods can enhance one's ability to process textual data efficiently and effectively.\""
   ]
  },
  {
   "cell_type": "markdown",
   "id": "dcb4854a-d772-45cb-8518-7a3aeffaa108",
   "metadata": {},
   "source": [
    "### Count specific words"
   ]
  },
  {
   "cell_type": "code",
   "execution_count": 20,
   "id": "436ee9b4-f229-4e41-8732-604c58478268",
   "metadata": {},
   "outputs": [
    {
     "data": {
      "text/plain": [
       "9"
      ]
     },
     "execution_count": 20,
     "metadata": {},
     "output_type": "execute_result"
    }
   ],
   "source": [
    "my_str.count(\"python\")"
   ]
  },
  {
   "cell_type": "code",
   "execution_count": 22,
   "id": "ba7e2f37-375e-4dcf-87c8-55aafd16f5dd",
   "metadata": {},
   "outputs": [
    {
     "data": {
      "text/plain": [
       "3"
      ]
     },
     "execution_count": 22,
     "metadata": {},
     "output_type": "execute_result"
    }
   ],
   "source": [
    "my_str.count(\"programming\")"
   ]
  },
  {
   "cell_type": "code",
   "execution_count": 31,
   "id": "7f1e62c1-e42d-478b-b8b1-01f38c78f784",
   "metadata": {},
   "outputs": [
    {
     "name": "stdout",
     "output_type": "stream",
     "text": [
      "the word 'python' occurred x 9 times\n",
      "the word 'programming' occurred x 3 times\n"
     ]
    }
   ],
   "source": [
    "print(\"the word 'python' occurred x \" + str(my_str.count(\"python\")) + \" times\")\n",
    "print(\"the word 'programming' occurred x \" + str(my_str.count(\"programming\")) + \" times\")"
   ]
  },
  {
   "cell_type": "markdown",
   "id": "47af6f26-47b9-49d6-a6f2-80a8da8150c3",
   "metadata": {},
   "source": [
    "### Replace words "
   ]
  },
  {
   "cell_type": "code",
   "execution_count": 50,
   "id": "a0fcad3a-e5ba-41df-baf3-418bce36e169",
   "metadata": {},
   "outputs": [
    {
     "data": {
      "text/plain": [
       "\"coding is a powerful programming language that is widely used in various fields such as web development, data science, and artificial intelligence. learning coding can be fun and rewarding, especially when exploring its numerous built‐in functions and libraries. many developers prefer coding because of its simplicity and readability. in addition, coding supports multiple programming paradigms, including procedural, object‐oriented, and functional programming. writing clean and efficient coding code requires understanding fundamental concepts such as variables, loops, and functions. for instance, when working with strings, it is essential to know how to manipulate text using built‐in methods. the ability to convert text to uppercase, find specific words, and replace certain characters is extremely useful in text processing applications. moreover, coding’s versatility allows developers to automate tasks, analyze large datasets, and even create machine learning models. one of the key advantages of coding is its extensive community support, which provides a vast collection of resources, tutorials, and libraries. whether a beginner or an experienced programmer, mastering coding can open doors to countless opportunities in the tech industry. therefore, practicing coding string methods can enhance one's ability to process textual data efficiently and effectively.\""
      ]
     },
     "execution_count": 50,
     "metadata": {},
     "output_type": "execute_result"
    }
   ],
   "source": [
    "my_str.replace(\"python\", \"coding\")"
   ]
  },
  {
   "cell_type": "markdown",
   "id": "6d1dd475-aaeb-42f8-b978-7f502868e47d",
   "metadata": {},
   "source": [
    "###  Find words"
   ]
  },
  {
   "cell_type": "code",
   "execution_count": 52,
   "id": "41d2660c-5585-4826-a08d-d4ffbdc25ea5",
   "metadata": {},
   "outputs": [
    {
     "data": {
      "text/plain": [
       "238"
      ]
     },
     "execution_count": 52,
     "metadata": {},
     "output_type": "execute_result"
    }
   ],
   "source": [
    "my_str.index(\"functions\")"
   ]
  },
  {
   "cell_type": "code",
   "execution_count": 123,
   "id": "70e7ab86-6cdf-4ae4-9c9c-380201d95c7f",
   "metadata": {},
   "outputs": [
    {
     "data": {
      "text/plain": [
       "238"
      ]
     },
     "execution_count": 123,
     "metadata": {},
     "output_type": "execute_result"
    }
   ],
   "source": [
    "my_str.find(\"functions\")"
   ]
  },
  {
   "cell_type": "markdown",
   "id": "5389c999-6d8c-4290-92bc-671bac23ff19",
   "metadata": {},
   "source": [
    "### Capitalize each sentence’s first vocabulary"
   ]
  },
  {
   "cell_type": "code",
   "execution_count": 59,
   "id": "a3be6a4f-d123-406e-bd32-0842a47b3c67",
   "metadata": {},
   "outputs": [
    {
     "data": {
      "text/plain": [
       "['python is a powerful programming language that is widely used in various fields such as web development, data science, and artificial intelligence',\n",
       " ' learning python can be fun and rewarding, especially when exploring its numerous built‐in functions and libraries',\n",
       " ' many developers prefer python because of its simplicity and readability',\n",
       " ' in addition, python supports multiple programming paradigms, including procedural, object‐oriented, and functional programming',\n",
       " ' writing clean and efficient python code requires understanding fundamental concepts such as variables, loops, and functions',\n",
       " ' for instance, when working with strings, it is essential to know how to manipulate text using built‐in methods',\n",
       " ' the ability to convert text to uppercase, find specific words, and replace certain characters is extremely useful in text processing applications',\n",
       " ' moreover, python’s versatility allows developers to automate tasks, analyze large datasets, and even create machine learning models',\n",
       " ' one of the key advantages of python is its extensive community support, which provides a vast collection of resources, tutorials, and libraries',\n",
       " ' whether a beginner or an experienced programmer, mastering python can open doors to countless opportunities in the tech industry',\n",
       " \" therefore, practicing python string methods can enhance one's ability to process textual data efficiently and effectively\",\n",
       " '']"
      ]
     },
     "execution_count": 59,
     "metadata": {},
     "output_type": "execute_result"
    }
   ],
   "source": [
    "my_str.split('.')"
   ]
  },
  {
   "cell_type": "code",
   "execution_count": 63,
   "id": "cef8a82e-9dba-4bb0-868d-3fc8f6635046",
   "metadata": {},
   "outputs": [],
   "source": [
    "mystring = my_str.split(\".\")"
   ]
  },
  {
   "cell_type": "code",
   "execution_count": 121,
   "id": "c5c56eec-feb8-4d31-a819-0165f80fa3a9",
   "metadata": {},
   "outputs": [
    {
     "name": "stdout",
     "output_type": "stream",
     "text": [
      "Python is a powerful programming language that is widely used in various fields such as web development, data science, and artificial intelligence. Learning python can be fun and rewarding, especially when exploring its numerous built‐in functions and libraries. Many developers prefer python because of its simplicity and readability. In addition, python supports multiple programming paradigms, including procedural, object‐oriented, and functional programming. Writing clean and efficient python code requires understanding fundamental concepts such as variables, loops, and functions. For instance, when working with strings, it is essential to know how to manipulate text using built‐in methods. The ability to convert text to uppercase, find specific words, and replace certain characters is extremely useful in text processing applications. Moreover, python’s versatility allows developers to automate tasks, analyze large datasets, and even create machine learning models. One of the key advantages of python is its extensive community support, which provides a vast collection of resources, tutorials, and libraries. Whether a beginner or an experienced programmer, mastering python can open doors to countless opportunities in the tech industry. Therefore, practicing python string methods can enhance one's ability to process textual data efficiently and effectively. \n"
     ]
    }
   ],
   "source": [
    "#Initializations\n",
    "new_string = \"\" \n",
    "\n",
    "# Loop \n",
    "for c in mystring:  \n",
    "    \n",
    "        #Capitalize the first letter of the sentence and concatenate\n",
    "        new_string += c.strip().capitalize() + \". \"\n",
    "\n",
    "# strip()removes spaces at both ends and rstrip(\".\") removes extra period at the end\n",
    "print(new_string.strip().rstrip(\".\")) "
   ]
  },
  {
   "cell_type": "code",
   "execution_count": null,
   "id": "d48afae7-4235-4701-9c60-faf946793b92",
   "metadata": {},
   "outputs": [],
   "source": []
  }
 ],
 "metadata": {
  "kernelspec": {
   "display_name": "Python [conda env:base] *",
   "language": "python",
   "name": "conda-base-py"
  },
  "language_info": {
   "codemirror_mode": {
    "name": "ipython",
    "version": 3
   },
   "file_extension": ".py",
   "mimetype": "text/x-python",
   "name": "python",
   "nbconvert_exporter": "python",
   "pygments_lexer": "ipython3",
   "version": "3.12.7"
  }
 },
 "nbformat": 4,
 "nbformat_minor": 5
}
