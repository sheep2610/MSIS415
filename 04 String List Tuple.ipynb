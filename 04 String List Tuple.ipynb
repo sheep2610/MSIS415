{
 "cells": [
  {
   "cell_type": "code",
   "execution_count": 8,
   "id": "e2662174",
   "metadata": {},
   "outputs": [
    {
     "name": "stdout",
     "output_type": "stream",
     "text": [
      "First line\n",
      "\tSecond line starting with a tab\b\n",
      "Note that that last \"b\" from the second line was backspaced.\n"
     ]
    }
   ],
   "source": [
    "print(\"First line\\n\\tSecond line starting with a tab\\b\\nNote that that last \\\"b\\\" from the second line was backspaced.\")"
   ]
  },
  {
   "cell_type": "code",
   "execution_count": 4,
   "id": "f4a2c4c0",
   "metadata": {},
   "outputs": [
    {
     "name": "stdout",
     "output_type": "stream",
     "text": [
      "\\\n"
     ]
    }
   ],
   "source": [
    "print('\\\\')"
   ]
  },
  {
   "cell_type": "code",
   "execution_count": 9,
   "id": "cf5950b3",
   "metadata": {},
   "outputs": [
    {
     "data": {
      "text/plain": [
       "24352"
      ]
     },
     "execution_count": 9,
     "metadata": {},
     "output_type": "execute_result"
    }
   ],
   "source": [
    "ord('张')"
   ]
  },
  {
   "cell_type": "code",
   "execution_count": 10,
   "id": "356704e1",
   "metadata": {},
   "outputs": [
    {
     "data": {
      "text/plain": [
       "'张'"
      ]
     },
     "execution_count": 10,
     "metadata": {},
     "output_type": "execute_result"
    }
   ],
   "source": [
    "chr(24352)"
   ]
  },
  {
   "cell_type": "code",
   "execution_count": 3,
   "id": "0065cfff",
   "metadata": {},
   "outputs": [
    {
     "name": "stdout",
     "output_type": "stream",
     "text": [
      "90 72 65 78 71 24352 57\n"
     ]
    }
   ],
   "source": [
    "print(ord('Z'), ord('H'), ord('A'), ord('N'), ord('G'), ord ('张'), ord('9'))"
   ]
  },
  {
   "cell_type": "code",
   "execution_count": 4,
   "id": "102b815b",
   "metadata": {},
   "outputs": [
    {
     "name": "stdout",
     "output_type": "stream",
     "text": [
      "  9 A a 张\n"
     ]
    }
   ],
   "source": [
    "print(chr(32), chr(57), chr(65), chr(97), chr(24352))"
   ]
  },
  {
   "cell_type": "code",
   "execution_count": 2,
   "id": "5e2fc0dc",
   "metadata": {},
   "outputs": [
    {
     "name": "stdout",
     "output_type": "stream",
     "text": [
      "e\n",
      "d\n"
     ]
    }
   ],
   "source": [
    "hello_str = 'Hello World'\n",
    "print(hello_str[1])\n",
    "print(hello_str[-1])"
   ]
  },
  {
   "cell_type": "code",
   "execution_count": 20,
   "id": "4af57721",
   "metadata": {},
   "outputs": [
    {
     "ename": "IndexError",
     "evalue": "string index out of range",
     "output_type": "error",
     "traceback": [
      "\u001b[1;31m---------------------------------------------------------------------------\u001b[0m",
      "\u001b[1;31mIndexError\u001b[0m                                Traceback (most recent call last)",
      "Input \u001b[1;32mIn [20]\u001b[0m, in \u001b[0;36m<cell line: 1>\u001b[1;34m()\u001b[0m\n\u001b[1;32m----> 1\u001b[0m \u001b[38;5;28mprint\u001b[39m(\u001b[43mhello_str\u001b[49m\u001b[43m[\u001b[49m\u001b[38;5;241;43m11\u001b[39;49m\u001b[43m]\u001b[49m)\n",
      "\u001b[1;31mIndexError\u001b[0m: string index out of range"
     ]
    }
   ],
   "source": [
    "print(hello_str[11])"
   ]
  },
  {
   "cell_type": "code",
   "execution_count": 21,
   "id": "2955ecc6",
   "metadata": {},
   "outputs": [
    {
     "data": {
      "text/plain": [
       "'Worl'"
      ]
     },
     "execution_count": 21,
     "metadata": {},
     "output_type": "execute_result"
    }
   ],
   "source": [
    "hello_str[6:10]"
   ]
  },
  {
   "cell_type": "code",
   "execution_count": 22,
   "id": "5c3bfabb",
   "metadata": {},
   "outputs": [
    {
     "data": {
      "text/plain": [
       "'Hello'"
      ]
     },
     "execution_count": 22,
     "metadata": {},
     "output_type": "execute_result"
    }
   ],
   "source": [
    "hello_str[:5]"
   ]
  },
  {
   "cell_type": "code",
   "execution_count": 23,
   "id": "3e4e427b",
   "metadata": {},
   "outputs": [
    {
     "data": {
      "text/plain": [
       "' World'"
      ]
     },
     "execution_count": 23,
     "metadata": {},
     "output_type": "execute_result"
    }
   ],
   "source": [
    "hello_str[5:]"
   ]
  },
  {
   "cell_type": "code",
   "execution_count": 3,
   "id": "09b6be52",
   "metadata": {},
   "outputs": [
    {
     "data": {
      "text/plain": [
       "' Worl'"
      ]
     },
     "execution_count": 3,
     "metadata": {},
     "output_type": "execute_result"
    }
   ],
   "source": [
    "hello_str[5:10]"
   ]
  },
  {
   "cell_type": "code",
   "execution_count": 24,
   "id": "23b9e758",
   "metadata": {},
   "outputs": [
    {
     "data": {
      "text/plain": [
       "'HloWrd'"
      ]
     },
     "execution_count": 24,
     "metadata": {},
     "output_type": "execute_result"
    }
   ],
   "source": [
    "hello_str[0:11:2]"
   ]
  },
  {
   "cell_type": "code",
   "execution_count": 25,
   "id": "4d64f46f",
   "metadata": {},
   "outputs": [
    {
     "data": {
      "text/plain": [
       "'HloWrd'"
      ]
     },
     "execution_count": 25,
     "metadata": {},
     "output_type": "execute_result"
    }
   ],
   "source": [
    "hello_str[::2]"
   ]
  },
  {
   "cell_type": "code",
   "execution_count": 30,
   "id": "a567109d",
   "metadata": {},
   "outputs": [
    {
     "name": "stdout",
     "output_type": "stream",
     "text": [
      "lo \n",
      " Worl\n",
      "e World\n",
      "eoyilWl\n",
      "Hello My Little World\n",
      "dlroW elttiL yM olleH\n"
     ]
    }
   ],
   "source": [
    "s='Hello My Little World'\n",
    "print(s[3:6])\n",
    "print(s[-6:-1])\n",
    "print(s[-7:])\n",
    "print(s[1:-1:3])\n",
    "print(s[:])\n",
    "print(s[::-1])"
   ]
  },
  {
   "cell_type": "code",
   "execution_count": 27,
   "id": "5783d9c8",
   "metadata": {},
   "outputs": [
    {
     "data": {
      "text/plain": [
       "1"
      ]
     },
     "execution_count": 27,
     "metadata": {},
     "output_type": "execute_result"
    }
   ],
   "source": [
    "len(\"Zhang\")"
   ]
  },
  {
   "cell_type": "code",
   "execution_count": 32,
   "id": "0382e88a",
   "metadata": {},
   "outputs": [
    {
     "name": "stdout",
     "output_type": "stream",
     "text": [
      "World\n"
     ]
    }
   ],
   "source": [
    "print(s[-5::1])"
   ]
  },
  {
   "cell_type": "code",
   "execution_count": 33,
   "id": "3f15e401",
   "metadata": {},
   "outputs": [
    {
     "data": {
      "text/plain": [
       "'dlroW olleH'"
      ]
     },
     "execution_count": 33,
     "metadata": {},
     "output_type": "execute_result"
    }
   ],
   "source": [
    "hello_str[::-1]"
   ]
  },
  {
   "cell_type": "code",
   "execution_count": 37,
   "id": "7907ae54",
   "metadata": {},
   "outputs": [
    {
     "name": "stdout",
     "output_type": "stream",
     "text": [
      "do\n",
      "study\n",
      "run\n"
     ]
    }
   ],
   "source": [
    "#Removing ing from and return the root of the verb\n",
    "#Just an example, not a complete stemmer \n",
    "#A complete stemmer has more than 1000 rules will be there\n",
    "def my_stemmer(word):\n",
    "    stemmed_word=word\n",
    "    if word[-3:].lower()==\"ing\":\n",
    "        if word[-4].lower()==word[-5].lower():\n",
    "            stemmed_word=word[:-4].lower()\n",
    "        else:\n",
    "            stemmed_word=word[:-3].lower()\n",
    "    return stemmed_word\n",
    "\n",
    "print(my_stemmer(\"doing\"))\n",
    "print(my_stemmer(\"studyING\"))\n",
    "print(my_stemmer(\"RUNning\"))"
   ]
  },
  {
   "cell_type": "code",
   "execution_count": 38,
   "id": "47ff72f8",
   "metadata": {},
   "outputs": [
    {
     "data": {
      "text/plain": [
       "'ABCDEFGHIJKLMNOPQRSTUVWXYZ'"
      ]
     },
     "execution_count": 38,
     "metadata": {},
     "output_type": "execute_result"
    }
   ],
   "source": [
    "import string\n",
    "string.ascii_uppercase"
   ]
  },
  {
   "cell_type": "code",
   "execution_count": 2,
   "id": "33b2a4f1",
   "metadata": {},
   "outputs": [
    {
     "name": "stdout",
     "output_type": "stream",
     "text": [
      "4\n",
      "spam-spam-\n"
     ]
    },
    {
     "data": {
      "text/plain": [
       "'spam-spam-spam-spam-spam-spam-'"
      ]
     },
     "execution_count": 2,
     "metadata": {},
     "output_type": "execute_result"
    }
   ],
   "source": [
    "s = 'spam'\n",
    "print(len(s))\n",
    "new_str = s + '-' + 'spam-'\n",
    "print(new_str)\n",
    "new_str * 3"
   ]
  },
  {
   "cell_type": "code",
   "execution_count": 6,
   "id": "9636ef29",
   "metadata": {},
   "outputs": [
    {
     "name": "stdout",
     "output_type": "stream",
     "text": [
      "True\n",
      "True\n",
      "False\n",
      "False\n"
     ]
    }
   ],
   "source": [
    "my_str = 'aabbccdd'\n",
    "\n",
    "print('a' in my_str)\n",
    "print('abb' in my_str)\n",
    "print('x' in my_str)\n",
    "print('abcd' in my_str)"
   ]
  },
  {
   "cell_type": "code",
   "execution_count": 7,
   "id": "80c5da0b",
   "metadata": {},
   "outputs": [
    {
     "ename": "TypeError",
     "evalue": "'str' object does not support item assignment",
     "output_type": "error",
     "traceback": [
      "\u001b[1;31m---------------------------------------------------------------------------\u001b[0m",
      "\u001b[1;31mTypeError\u001b[0m                                 Traceback (most recent call last)",
      "Input \u001b[1;32mIn [7]\u001b[0m, in \u001b[0;36m<cell line: 2>\u001b[1;34m()\u001b[0m\n\u001b[0;32m      1\u001b[0m s \u001b[38;5;241m=\u001b[39m \u001b[38;5;124m'\u001b[39m\u001b[38;5;124mspam\u001b[39m\u001b[38;5;124m'\u001b[39m\n\u001b[1;32m----> 2\u001b[0m s[\u001b[38;5;241m1\u001b[39m:\u001b[38;5;241m2\u001b[39m] \u001b[38;5;241m=\u001b[39m \u001b[38;5;124m\"\u001b[39m\u001b[38;5;124mla\u001b[39m\u001b[38;5;124m\"\u001b[39m\n",
      "\u001b[1;31mTypeError\u001b[0m: 'str' object does not support item assignment"
     ]
    }
   ],
   "source": [
    "s = 'spam'\n",
    "s[1:2] = \"la\""
   ]
  },
  {
   "cell_type": "code",
   "execution_count": 10,
   "id": "a761a401",
   "metadata": {},
   "outputs": [
    {
     "name": "stdout",
     "output_type": "stream",
     "text": [
      "spam slam\n"
     ]
    }
   ],
   "source": [
    "new_str = s[:1] + 'l' + s[2:]\n",
    "print(s, new_str)"
   ]
  },
  {
   "cell_type": "code",
   "execution_count": 12,
   "id": "e23bb9c6",
   "metadata": {},
   "outputs": [
    {
     "name": "stdout",
     "output_type": "stream",
     "text": [
      "THIS IS A SPAM!\n",
      "this is a spam!\n",
      "This Is A Spam!\n"
     ]
    }
   ],
   "source": [
    "s=\"This is a spam!\"\n",
    "print(s.upper())\n",
    "print(s.lower())\n",
    "print(s.title())"
   ]
  },
  {
   "cell_type": "code",
   "execution_count": 14,
   "id": "baa89a87",
   "metadata": {},
   "outputs": [
    {
     "name": "stdout",
     "output_type": "stream",
     "text": [
      "This is a spam!\n",
      "This is a slam!\n"
     ]
    }
   ],
   "source": [
    "s.replace(\"spam\", \"slam\")\n",
    "print(s)\n",
    "s = s.replace(\"spam\", \"slam\")\n",
    "print(s)"
   ]
  },
  {
   "cell_type": "code",
   "execution_count": 23,
   "id": "92c772f4",
   "metadata": {},
   "outputs": [
    {
     "name": "stdout",
     "output_type": "stream",
     "text": [
      "This is a intresting day\n",
      "['This', 'is', 'a', 'intresting', 'day']\n"
     ]
    }
   ],
   "source": [
    "s=\"This is a intresting day\"\n",
    "s1, s2, s3, s4, s5=s.split()\n",
    "print(s1, s2, s3, s4, s5)\n",
    "\n",
    "my_list=s.split()\n",
    "print(my_list)"
   ]
  },
  {
   "cell_type": "code",
   "execution_count": 21,
   "id": "b4592ac9",
   "metadata": {},
   "outputs": [
    {
     "name": "stdout",
     "output_type": "stream",
     "text": [
      "['Th', 's ', 's a ', 'ntrest', 'ng day']\n"
     ]
    }
   ],
   "source": [
    "my_list=s.split('i')\n",
    "print(my_list)"
   ]
  },
  {
   "cell_type": "code",
   "execution_count": 22,
   "id": "5b351f1c",
   "metadata": {},
   "outputs": [
    {
     "name": "stdout",
     "output_type": "stream",
     "text": [
      "['Th', ' ', ' a intresting day']\n"
     ]
    }
   ],
   "source": [
    "my_list=s.split('is')\n",
    "print(my_list)"
   ]
  },
  {
   "cell_type": "code",
   "execution_count": 25,
   "id": "ca9680f6",
   "metadata": {},
   "outputs": [
    {
     "name": "stdout",
     "output_type": "stream",
     "text": [
      "<This is a intresting day> \n",
      " <This is a intresting day      > \n",
      " <     This is a intresting day>\n"
     ]
    }
   ],
   "source": [
    "s=\"     This is a intresting day      \"\n",
    "print(\"<\"+s.strip()+\">\", \"\\n\", \"<\"+s.lstrip()+\">\", \"\\n\", \"<\"+s.rstrip()+\">\")"
   ]
  },
  {
   "cell_type": "code",
   "execution_count": 2,
   "id": "d2ecefe2",
   "metadata": {},
   "outputs": [
    {
     "name": "stdout",
     "output_type": "stream",
     "text": [
      "2 12 29 -1\n"
     ]
    }
   ],
   "source": [
    "my_str = 'Bob had the bat at the first base'\n",
    "t1 = my_str.find('b')\n",
    "t2 = my_str.find('b', 3)\n",
    "t_last = my_str.find('b', -10)\n",
    "t = my_str.find('b', -1)\n",
    "print(t1, t2, t_last, t)"
   ]
  },
  {
   "cell_type": "code",
   "execution_count": 47,
   "id": "038cc6c3",
   "metadata": {},
   "outputs": [
    {
     "name": "stdout",
     "output_type": "stream",
     "text": [
      "PYTHON RULES!\n",
      "4\n",
      "Python Rules!\n"
     ]
    }
   ],
   "source": [
    "my_str = 'Python Rules!'\n",
    "print(my_str.upper())\n",
    "print(my_str.upper().find('O'))\n",
    "print(my_str)"
   ]
  },
  {
   "cell_type": "code",
   "execution_count": 48,
   "id": "9360c232",
   "metadata": {},
   "outputs": [
    {
     "name": "stdout",
     "output_type": "stream",
     "text": [
      "H <class 'str'>\n",
      "i <class 'str'>\n",
      "  <class 'str'>\n",
      "M <class 'str'>\n",
      "o <class 'str'>\n",
      "m <class 'str'>\n"
     ]
    }
   ],
   "source": [
    "for c in \"Hi Mom\":\n",
    "    print(c, type(c))"
   ]
  },
  {
   "cell_type": "code",
   "execution_count": 52,
   "id": "34503d53",
   "metadata": {},
   "outputs": [
    {
     "data": {
      "text/plain": [
       "'0123456789'"
      ]
     },
     "execution_count": 52,
     "metadata": {},
     "output_type": "execute_result"
    }
   ],
   "source": [
    "import string\n",
    "string.digits"
   ]
  },
  {
   "cell_type": "code",
   "execution_count": 53,
   "id": "426c5b18",
   "metadata": {},
   "outputs": [
    {
     "data": {
      "text/plain": [
       "'!\"#$%&\\'()*+,-./:;<=>?@[\\\\]^_`{|}~'"
      ]
     },
     "execution_count": 53,
     "metadata": {},
     "output_type": "execute_result"
    }
   ],
   "source": [
    "string.punctuation"
   ]
  },
  {
   "cell_type": "code",
   "execution_count": 54,
   "id": "4c9f787a",
   "metadata": {},
   "outputs": [
    {
     "data": {
      "text/plain": [
       "' \\t\\n\\r\\x0b\\x0c'"
      ]
     },
     "execution_count": 54,
     "metadata": {},
     "output_type": "execute_result"
    }
   ],
   "source": [
    "string.whitespace"
   ]
  },
  {
   "cell_type": "code",
   "execution_count": 55,
   "id": "7689e7f9",
   "metadata": {},
   "outputs": [
    {
     "data": {
      "text/plain": [
       "'ABCDEFGHIJKLMNOPQRSTUVWXYZ'"
      ]
     },
     "execution_count": 55,
     "metadata": {},
     "output_type": "execute_result"
    }
   ],
   "source": [
    "string.ascii_uppercase"
   ]
  },
  {
   "cell_type": "code",
   "execution_count": 56,
   "id": "2f5e88a9",
   "metadata": {},
   "outputs": [
    {
     "data": {
      "text/plain": [
       "'abcdefghijklmnopqrstuvwxyz'"
      ]
     },
     "execution_count": 56,
     "metadata": {},
     "output_type": "execute_result"
    }
   ],
   "source": [
    "string.ascii_lowercase"
   ]
  },
  {
   "cell_type": "code",
   "execution_count": 58,
   "id": "51f93b43",
   "metadata": {},
   "outputs": [
    {
     "data": {
      "text/plain": [
       "False"
      ]
     },
     "execution_count": 58,
     "metadata": {},
     "output_type": "execute_result"
    }
   ],
   "source": [
    "import string\n",
    "def has_upper(str):\n",
    "    for c in str:\n",
    "        if c in string.ascii_uppercase:\n",
    "            return True\n",
    "    return False\n",
    "\n",
    "has_upper(\"apple\")"
   ]
  },
  {
   "cell_type": "code",
   "execution_count": 59,
   "id": "49804a23",
   "metadata": {},
   "outputs": [
    {
     "data": {
      "text/plain": [
       "True"
      ]
     },
     "execution_count": 59,
     "metadata": {},
     "output_type": "execute_result"
    }
   ],
   "source": [
    "has_upper(\"Apple\")"
   ]
  },
  {
   "cell_type": "code",
   "execution_count": 60,
   "id": "c48321bc",
   "metadata": {},
   "outputs": [
    {
     "data": {
      "text/plain": [
       "True"
      ]
     },
     "execution_count": 60,
     "metadata": {},
     "output_type": "execute_result"
    }
   ],
   "source": [
    "has_upper(\"apPle\")"
   ]
  },
  {
   "cell_type": "code",
   "execution_count": 63,
   "id": "dc4fe471",
   "metadata": {},
   "outputs": [
    {
     "data": {
      "text/plain": [
       "'a'"
      ]
     },
     "execution_count": 63,
     "metadata": {},
     "output_type": "execute_result"
    }
   ],
   "source": [
    "myList=[1, 'a', 3.14159, True]\n",
    "myList[1]"
   ]
  },
  {
   "cell_type": "code",
   "execution_count": 62,
   "id": "364b7e6d",
   "metadata": {},
   "outputs": [
    {
     "data": {
      "text/plain": [
       "[1, 'a', 3.14159]"
      ]
     },
     "execution_count": 62,
     "metadata": {},
     "output_type": "execute_result"
    }
   ],
   "source": [
    "myList[:3]"
   ]
  },
  {
   "cell_type": "code",
   "execution_count": 4,
   "id": "62f14431",
   "metadata": {},
   "outputs": [
    {
     "name": "stdout",
     "output_type": "stream",
     "text": [
      "[1, 'a', 3.14159, True]\n",
      "1; a; 3.14159; True; "
     ]
    }
   ],
   "source": [
    "myList=[1, 'a', 3.14159, True]\n",
    "print(myList)\n",
    "for e in myList:\n",
    "    print(e, end='; ')"
   ]
  },
  {
   "cell_type": "code",
   "execution_count": 68,
   "id": "aa3c7203",
   "metadata": {},
   "outputs": [
    {
     "name": "stdout",
     "output_type": "stream",
     "text": [
      "5; a; 3.14159; True; "
     ]
    }
   ],
   "source": [
    "myList=[1, 'a', 3.14159, True]\n",
    "myList[0] = 5\n",
    "for e in myList:\n",
    "    print(e, end='; ')"
   ]
  },
  {
   "cell_type": "code",
   "execution_count": 90,
   "id": "1b87af84",
   "metadata": {},
   "outputs": [
    {
     "name": "stdout",
     "output_type": "stream",
     "text": [
      "['purse', 'cellphone', 'ticket', 'mirror']\n",
      "['purse', 'cellphone', 'ticket', 'mirror', 'book', 'pen']\n",
      "['purse', 'cellphone', 'ticket', 'mirror', 'book', 'pen', 'sunscreen', 'mask']\n",
      "['eraser', 'purse', 'cellphone', 'ticket', 'mirror', 'book', 'pen', 'sunscreen', 'mask']\n",
      "['eraser', 'purse', 'cellphone', 'ticket', 'mirror', 'book', 'pen', 'sunscreen']\n",
      "['purse', 'cellphone', 'ticket', 'mirror', 'book', 'pen', 'sunscreen']\n",
      "1\n",
      "['purse', 'cellphone', 'ticket', 'mirror', 'book', 'sunscreen']\n",
      "['book', 'cellphone', 'mirror', 'purse', 'sunscreen', 'ticket']\n"
     ]
    }
   ],
   "source": [
    "my_bag = ['purse', 'cellphone', 'ticket']\n",
    "my_bag.append('mirror')\n",
    "print(my_bag)\n",
    "my_bag.extend(['book', 'pen'])\n",
    "print(my_bag)\n",
    "my_bag += ['sunscreen', 'mask']\n",
    "print(my_bag)\n",
    "my_bag.insert(0, \"eraser\")\n",
    "print(my_bag)\n",
    "my_bag.pop()\n",
    "print(my_bag)\n",
    "my_bag.pop(0)\n",
    "print(my_bag)\n",
    "print(my_bag.index('cellphone'))\n",
    "my_bag.remove('pen')\n",
    "print(my_bag)\n",
    "my_bag.sort()\n",
    "print(my_bag)"
   ]
  },
  {
   "cell_type": "code",
   "execution_count": 98,
   "id": "21278cc6",
   "metadata": {},
   "outputs": [
    {
     "name": "stdout",
     "output_type": "stream",
     "text": [
      "[1, 3, 4, 4, 3, 2, 1, 1, 2, 3, 4, 4, 3, 2, 1]\n",
      "[1, 2, 3, 4, 4, 3, 1, 1, 2, 3, 4, 4, 3, 2, 1]\n",
      "[1, 3, 4, 4, 3, 1, 1, 3, 4, 4, 3, 1]\n"
     ]
    }
   ],
   "source": [
    "my_list = [1,2,3,4,4,3,2,1,1,2,3,4,4,3,2,1]\n",
    "#remove the first 2\n",
    "my_list.remove(2)\n",
    "print(my_list)\n",
    "my_list = [1,2,3,4,4,3,2,1,1,2,3,4,4,3,2,1]\n",
    "#remove the second 2\n",
    "my_list.pop(my_list.index(2, my_list.index(2)+1))\n",
    "print(my_list)\n",
    "my_list = [1,2,3,4,4,3,2,1,1,2,3,4,4,3,2,1]\n",
    "#remove all 2s\n",
    "for e in my_list:\n",
    "    if e == 2:\n",
    "        my_list.remove(e)\n",
    "print(my_list)"
   ]
  },
  {
   "cell_type": "code",
   "execution_count": 14,
   "id": "87f0583b-c1a1-4eaf-8475-f622ceb30ee4",
   "metadata": {},
   "outputs": [
    {
     "data": {
      "text/plain": [
       "65"
      ]
     },
     "execution_count": 14,
     "metadata": {},
     "output_type": "execute_result"
    }
   ],
   "source": [
    "ord('A')"
   ]
  },
  {
   "cell_type": "code",
   "execution_count": 15,
   "id": "0b418865-37c0-4bd0-a138-fa86d37aea8c",
   "metadata": {},
   "outputs": [
    {
     "data": {
      "text/plain": [
       "90"
      ]
     },
     "execution_count": 15,
     "metadata": {},
     "output_type": "execute_result"
    }
   ],
   "source": [
    "ord('Z')"
   ]
  },
  {
   "cell_type": "code",
   "execution_count": 18,
   "id": "effb80a8-977d-464e-870e-ee2c7d3bc852",
   "metadata": {},
   "outputs": [
    {
     "name": "stdout",
     "output_type": "stream",
     "text": [
      "['A', 'B', 'C', 'D', 'E', 'F', 'G', 'H', 'I', 'J', 'K', 'L', 'M', 'N', 'O', 'P', 'Q', 'R', 'S', 'T', 'U', 'V', 'W', 'X', 'Y', 'Z']\n"
     ]
    }
   ],
   "source": [
    "mylist = []\n",
    "for i in range(ord('A'), ord('Z') + 1, 1):\n",
    "    mylist.append(chr(i))\n",
    "print(mylist)"
   ]
  },
  {
   "cell_type": "code",
   "execution_count": 16,
   "id": "ee1e8f89-c635-4fce-b3e5-e3d9c325a35e",
   "metadata": {},
   "outputs": [
    {
     "data": {
      "text/plain": [
       "'Z'"
      ]
     },
     "execution_count": 16,
     "metadata": {},
     "output_type": "execute_result"
    }
   ],
   "source": [
    "chr(90)"
   ]
  },
  {
   "cell_type": "code",
   "execution_count": 13,
   "id": "6b5ffdb2-3687-4136-ac42-25b5253f595a",
   "metadata": {},
   "outputs": [
    {
     "data": {
      "text/plain": [
       "'\\x02'"
      ]
     },
     "execution_count": 13,
     "metadata": {},
     "output_type": "execute_result"
    }
   ],
   "source": [
    "chr(2)"
   ]
  },
  {
   "cell_type": "code",
   "execution_count": 1,
   "id": "a5d3e93f",
   "metadata": {},
   "outputs": [
    {
     "data": {
      "text/plain": [
       "(10, 12)"
      ]
     },
     "execution_count": 1,
     "metadata": {},
     "output_type": "execute_result"
    }
   ],
   "source": [
    "10,12"
   ]
  },
  {
   "cell_type": "code",
   "execution_count": 2,
   "id": "8236a0c6",
   "metadata": {},
   "outputs": [],
   "source": [
    "tup=2,3"
   ]
  },
  {
   "cell_type": "code",
   "execution_count": 3,
   "id": "8516e3f3",
   "metadata": {},
   "outputs": [
    {
     "data": {
      "text/plain": [
       "(2, 3)"
      ]
     },
     "execution_count": 3,
     "metadata": {},
     "output_type": "execute_result"
    }
   ],
   "source": [
    "tup"
   ]
  },
  {
   "cell_type": "code",
   "execution_count": 4,
   "id": "783a79ee",
   "metadata": {},
   "outputs": [],
   "source": [
    "x,y = 'a', 3.14159"
   ]
  },
  {
   "cell_type": "code",
   "execution_count": 5,
   "id": "f988923c",
   "metadata": {},
   "outputs": [
    {
     "data": {
      "text/plain": [
       "'a'"
      ]
     },
     "execution_count": 5,
     "metadata": {},
     "output_type": "execute_result"
    }
   ],
   "source": [
    "x"
   ]
  },
  {
   "cell_type": "code",
   "execution_count": 6,
   "id": "5bfb3001",
   "metadata": {},
   "outputs": [
    {
     "data": {
      "text/plain": [
       "3.14159"
      ]
     },
     "execution_count": 6,
     "metadata": {},
     "output_type": "execute_result"
    }
   ],
   "source": [
    "y"
   ]
  },
  {
   "cell_type": "code",
   "execution_count": 7,
   "id": "5d6b2982",
   "metadata": {},
   "outputs": [
    {
     "data": {
      "text/plain": [
       "('a', 3.14159)"
      ]
     },
     "execution_count": 7,
     "metadata": {},
     "output_type": "execute_result"
    }
   ],
   "source": [
    "x, y"
   ]
  },
  {
   "cell_type": "code",
   "execution_count": 21,
   "id": "3f5a5cc6",
   "metadata": {},
   "outputs": [],
   "source": [
    "my_str=\"As the weather turns colder and wetter, many of us find it more difficult to save energy around the house. The heat goes up, the clotheslines and drying racks come down, and the oven goes on. But you can still save energy with simple changes. And even if you're drying more laundry at this time of year, one of the simplest things that you can do to save energy can still be found in the laundry room.Just change to washing your clothes in cold, and you could see some big savings over the year. <b>Washing in hot water is great for dishes<b>, but it's not really needed for your clothes. And all that unnecessary heating can add up on your bill. <b>90 per cent<b> of the energy consumed by washing machines goes to heating the water, not to agitating or rinsing. Simply washing in cold water will save up to <b>$70<b> in electricity costs over the year. And if you're worried that clothes and fabrics won't get as clean on a cold cycle, there's good news. Experts say that that's simply not true. It might even have some benefits.\""
   ]
  },
  {
   "cell_type": "code",
   "execution_count": 22,
   "id": "54cda903",
   "metadata": {},
   "outputs": [
    {
     "data": {
      "text/plain": [
       "1031"
      ]
     },
     "execution_count": 22,
     "metadata": {},
     "output_type": "execute_result"
    }
   ],
   "source": [
    "len(my_str)"
   ]
  },
  {
   "cell_type": "code",
   "execution_count": 23,
   "id": "c11b3a1a",
   "metadata": {},
   "outputs": [],
   "source": [
    "my_str = my_str.replace('<b>', '')"
   ]
  },
  {
   "cell_type": "code",
   "execution_count": 24,
   "id": "9bf5e4b3",
   "metadata": {},
   "outputs": [
    {
     "name": "stdout",
     "output_type": "stream",
     "text": [
      "189\n",
      "['As', 'the', 'weather', 'turns', 'colder', 'and', 'wetter,', 'many', 'of', 'us', 'find', 'it', 'more', 'difficult', 'to', 'save', 'energy', 'around', 'the', 'house.', 'The', 'heat', 'goes', 'up,', 'the', 'clotheslines', 'and', 'drying', 'racks', 'come', 'down,', 'and', 'the', 'oven', 'goes', 'on.', 'But', 'you', 'can', 'still', 'save', 'energy', 'with', 'simple', 'changes.', 'And', 'even', 'if', \"you're\", 'drying', 'more', 'laundry', 'at', 'this', 'time', 'of', 'year,', 'one', 'of', 'the', 'simplest', 'things', 'that', 'you', 'can', 'do', 'to', 'save', 'energy', 'can', 'still', 'be', 'found', 'in', 'the', 'laundry', 'room.Just', 'change', 'to', 'washing', 'your', 'clothes', 'in', 'cold,', 'and', 'you', 'could', 'see', 'some', 'big', 'savings', 'over', 'the', 'year.', 'Washing', 'in', 'hot', 'water', 'is', 'great', 'for', 'dishes,', 'but', \"it's\", 'not', 'really', 'needed', 'for', 'your', 'clothes.', 'And', 'all', 'that', 'unnecessary', 'heating', 'can', 'add', 'up', 'on', 'your', 'bill.', '90', 'per', 'cent', 'of', 'the', 'energy', 'consumed', 'by', 'washing', 'machines', 'goes', 'to', 'heating', 'the', 'water,', 'not', 'to', 'agitating', 'or', 'rinsing.', 'Simply', 'washing', 'in', 'cold', 'water', 'will', 'save', 'up', 'to', '$70', 'in', 'electricity', 'costs', 'over', 'the', 'year.', 'And', 'if', \"you're\", 'worried', 'that', 'clothes', 'and', 'fabrics', \"won't\", 'get', 'as', 'clean', 'on', 'a', 'cold', 'cycle,', \"there's\", 'good', 'news.', 'Experts', 'say', 'that', \"that's\", 'simply', 'not', 'true.', 'It', 'might', 'even', 'have', 'some', 'benefits.']\n"
     ]
    }
   ],
   "source": [
    "wordList=my_str.split()\n",
    "print(len(wordList))\n",
    "print(wordList)"
   ]
  },
  {
   "cell_type": "code",
   "execution_count": 25,
   "id": "924c95e6",
   "metadata": {},
   "outputs": [
    {
     "name": "stdout",
     "output_type": "stream",
     "text": [
      "10\n"
     ]
    }
   ],
   "source": [
    "#How many words whose first letter is capitalized\n",
    "import string\n",
    "capWords = 0\n",
    "for e in wordList:\n",
    "    if e[0] in string.ascii_uppercase:\n",
    "        capWords += 1\n",
    "print(capWords)"
   ]
  },
  {
   "cell_type": "code",
   "execution_count": 26,
   "id": "4ba5e8ed",
   "metadata": {},
   "outputs": [
    {
     "name": "stdout",
     "output_type": "stream",
     "text": [
      "9\n"
     ]
    }
   ],
   "source": [
    "#how many words ending with \"ing\"\n",
    "numWords_ing = 0\n",
    "for e in wordList:\n",
    "    if e[-3:] == 'ing': \n",
    "        numWords_ing += 1\n",
    "print(numWords_ing)"
   ]
  },
  {
   "cell_type": "code",
   "execution_count": 27,
   "id": "b1270211-fcbc-490e-bb2f-a7b55693f383",
   "metadata": {},
   "outputs": [
    {
     "name": "stdout",
     "output_type": "stream",
     "text": [
      "drying\n",
      "drying\n",
      "washing\n",
      "Washing\n",
      "heating\n",
      "washing\n",
      "heating\n",
      "agitating\n",
      "washing\n"
     ]
    }
   ],
   "source": [
    "for e in wordList:\n",
    "    if e[-3:] == 'ing':\n",
    "        print(e)"
   ]
  },
  {
   "cell_type": "code",
   "execution_count": 31,
   "id": "26e82857-56d0-43c0-8786-f9a06f83ec00",
   "metadata": {},
   "outputs": [
    {
     "name": "stdout",
     "output_type": "stream",
     "text": [
      "rinsing.\n"
     ]
    }
   ],
   "source": []
  },
  {
   "cell_type": "code",
   "execution_count": 36,
   "id": "e35e47d8",
   "metadata": {},
   "outputs": [
    {
     "name": "stdout",
     "output_type": "stream",
     "text": [
      "rinsing.\n",
      "\n",
      "Punctuation: rinsing. The following method will ignore this word.\n",
      "\n",
      "drying\n",
      "drying\n",
      "washing\n",
      "Washing\n",
      "heating\n",
      "washing\n",
      "heating\n",
      "agitating\n",
      "washing\n",
      "9\n",
      "\n",
      "rinsing is ignored. We need to remove punctuation then count\n",
      "\n",
      "\n",
      "drying\n",
      "drying\n",
      "washing\n",
      "Washing\n",
      "heating\n",
      "washing\n",
      "heating\n",
      "agitating\n",
      "rinsing\n",
      "washing\n",
      "10\n"
     ]
    }
   ],
   "source": [
    "#how many words ending with \"ing\"\n",
    "#considering the words may end with punctuation\n",
    "import string\n",
    "\n",
    "for e in wordList:\n",
    "    if e[-1] in string.punctuation and e[-4:-1] == 'ing':\n",
    "        print(e)\n",
    "print('\\nPunctuation: rinsing. The following method will ignore this word.\\n')\n",
    "\n",
    "numWords_ing = 0\n",
    "for e in wordList:\n",
    "    if e[-3:] == 'ing':\n",
    "        print(e)\n",
    "        numWords_ing += 1\n",
    "print(numWords_ing)\n",
    "print('\\nrinsing is ignored. We need to remove punctuation then count\\n\\n')\n",
    "        \n",
    "numWords_ing = 0\n",
    "for e in wordList:\n",
    "    \n",
    "    if e[-1] in string.punctuation: \n",
    "        e = e[0:-1]\n",
    "        \n",
    "    if e[-3:] == 'ing':\n",
    "        print(e)\n",
    "        numWords_ing += 1\n",
    "\n",
    "print(numWords_ing)"
   ]
  },
  {
   "cell_type": "code",
   "execution_count": 42,
   "id": "033f8b3d-0a18-4e30-ac3f-e88209ddcaf4",
   "metadata": {},
   "outputs": [],
   "source": [
    "wordlist2 = ['string?.', 'coding.', 'playing']"
   ]
  },
  {
   "cell_type": "code",
   "execution_count": 43,
   "id": "bc37e04f-0e1d-45f7-8acf-419225815c59",
   "metadata": {},
   "outputs": [
    {
     "name": "stdout",
     "output_type": "stream",
     "text": [
      "coding\n",
      "playing\n",
      "2\n"
     ]
    }
   ],
   "source": [
    "numWords_ing = 0\n",
    "for e in wordlist2:\n",
    "    \n",
    "    if e[-1] in string.punctuation: \n",
    "        e = e[0:-1]\n",
    "        \n",
    "    if e[-3:] == 'ing':\n",
    "        print(e)\n",
    "        numWords_ing += 1\n",
    "\n",
    "print(numWords_ing)"
   ]
  },
  {
   "cell_type": "code",
   "execution_count": 44,
   "id": "4495c223-109e-441a-91fb-46fd13efb570",
   "metadata": {},
   "outputs": [
    {
     "name": "stdout",
     "output_type": "stream",
     "text": [
      "string\n",
      "coding\n",
      "playing\n",
      "3\n"
     ]
    }
   ],
   "source": [
    "numWords_ing = 0\n",
    "for e in wordlist2:\n",
    "    while e[-1] in string.punctuation:\n",
    "        e = e[:-1]\n",
    "    if e[-3:] == 'ing':\n",
    "        print(e)\n",
    "        numWords_ing += 1\n",
    "\n",
    "print(numWords_ing)"
   ]
  },
  {
   "cell_type": "code",
   "execution_count": null,
   "id": "bcbeec1d-cc78-4f54-8799-75ea9db42fd5",
   "metadata": {},
   "outputs": [],
   "source": [
    "numWords_ing = 0\n",
    "for e in wordlist2:\n",
    "    while e[-1] in string.punctuation:\n",
    "        e = e[:-1]\n",
    "    if e[-3:] == 'ing' or e[-4:] == 'ings':\n",
    "        print(e)\n",
    "        numWords_ing += 1\n",
    "\n",
    "print(numWords_ing)"
   ]
  },
  {
   "cell_type": "code",
   "execution_count": 45,
   "id": "7968fd43",
   "metadata": {},
   "outputs": [
    {
     "name": "stdout",
     "output_type": "stream",
     "text": [
      "drying\n",
      "drying\n",
      "things\n",
      "washing\n",
      "savings\n",
      "Washing\n",
      "heating\n",
      "washing\n",
      "heating\n",
      "agitating\n",
      "rinsing\n",
      "washing\n",
      "12\n"
     ]
    }
   ],
   "source": [
    "#how many words ending with \"ing\" or \"ings\"\n",
    "#considering a word may end with >1 punctuations\n",
    "import string\n",
    "\n",
    "numWords_ing_s = 0\n",
    "for e in wordList:\n",
    "    \n",
    "    while e[-1] in string.punctuation:\n",
    "        e = e[:-1]\n",
    "\n",
    "    if e[-3:] == 'ing' or e[-4:] == 'ings': \n",
    "        # Python will check both conditions\n",
    "        # If any one is satisfied, or both are satisfied, codes below will be executed\n",
    "        print(e)\n",
    "        numWords_ing_s += 1\n",
    "\n",
    "print(numWords_ing_s)"
   ]
  },
  {
   "cell_type": "code",
   "execution_count": 46,
   "id": "a2d03f75",
   "metadata": {},
   "outputs": [
    {
     "name": "stdout",
     "output_type": "stream",
     "text": [
      "Average characteristics in the words:  4.264550264550264\n"
     ]
    }
   ],
   "source": [
    "numWords = 0\n",
    "totalCharInWords = 0\n",
    "for e in wordList:\n",
    "    c = e[len(e)-1:len(e)]\n",
    "    while e[-1] in string.punctuation:\n",
    "        e = e[:-1]\n",
    "    if e != '': \n",
    "        # in case the whole word is only punctuation then we will be left we an empty str ''\n",
    "        # empty str should not be considered into the word count\n",
    "        numWords +=1\n",
    "        totalCharInWords += len(e)\n",
    "\n",
    "print(\"Average characteristics in the words: \", totalCharInWords/numWords)"
   ]
  },
  {
   "cell_type": "code",
   "execution_count": 35,
   "id": "50c3e902",
   "metadata": {},
   "outputs": [
    {
     "name": "stdout",
     "output_type": "stream",
     "text": [
      "Tweetable: As the weather turns colder and wetter, many of us find it more difficult to save energy around the house.\n",
      "Tweetable:  The heat goes up, the clotheslines and drying racks come down, and the oven goes on.\n",
      "Tweetable:  But you can still save energy with simple changes.\n",
      "Tweetable:  And even if you're drying more laundry at this time of year, one of the simplest things that you can do to save energy can still be found in the laundry room.\n",
      "Tweetable: Just change to washing your clothes in cold, and you could see some big savings over the year.\n",
      "Tweetable:  Washing in hot water is great for dishes, but it's not really needed for your clothes.\n",
      "Tweetable:  And all that unnecessary heating can add up on your bill.\n",
      "Tweetable:  90 per cent of the energy consumed by washing machines goes to heating the water, not to agitating or rinsing.\n",
      "Tweetable:  Simply washing in cold water will save up to $70 in electricity costs over the year.\n",
      "Tweetable:  And if you're worried that clothes and fabrics won't get as clean on a cold cycle, there's good news.\n",
      "Tweetable:  Experts say that that's simply not true.\n",
      "Tweetable:  It might even have some benefits.\n",
      "Total number of sentences:  12\n",
      "Total number of tweeable sentences:  12\n"
     ]
    }
   ],
   "source": [
    "#Number of sentences and tweetable sentences ending with \".\"\n",
    "#Initializations\n",
    "numSentences = 0\n",
    "numSentencesTweetable= 0\n",
    "sentence = \"\"\n",
    "\n",
    "#use two variables to mark the beginning and ending position of a sentence\n",
    "sentenceStartPos = 0\n",
    "sentenceEndPos = my_str.find('.', sentenceStartPos)\n",
    "while sentenceEndPos != -1:\n",
    "    sentence = my_str[sentenceStartPos:sentenceEndPos+1]\n",
    "    if len(sentence) > 1:\n",
    "        numSentences += 1\n",
    "        if len(sentence) <= 280: \n",
    "            print(\"Tweetable: \" + sentence)\n",
    "            numSentencesTweetable += 1\n",
    "    #slide to after the end of current sentence to find next one\n",
    "    sentenceStartPos = sentenceEndPos + 1  \n",
    "    sentenceEndPos = my_str.find('.', sentenceStartPos)\n",
    "\n",
    "print(\"Total number of sentences: \", numSentences)\n",
    "print(\"Total number of tweeable sentences: \", numSentencesTweetable)    "
   ]
  },
  {
   "cell_type": "code",
   "execution_count": 66,
   "id": "1886395f",
   "metadata": {},
   "outputs": [
    {
     "name": "stdout",
     "output_type": "stream",
     "text": [
      "!\"#$%&'()*+,-./:;<=>?@[\\]^_`{|}~\n"
     ]
    }
   ],
   "source": [
    "import string\n",
    "print(string.punctuation)"
   ]
  },
  {
   "cell_type": "code",
   "execution_count": 1,
   "id": "ef9f6557",
   "metadata": {},
   "outputs": [
    {
     "name": "stdout",
     "output_type": "stream",
     "text": [
      "ab\n"
     ]
    }
   ],
   "source": [
    "temp = 'ab'\n",
    "print(temp[-3:])"
   ]
  },
  {
   "cell_type": "code",
   "execution_count": 10,
   "id": "dc684464-2a26-4917-b428-021e9790fd16",
   "metadata": {},
   "outputs": [
    {
     "name": "stdout",
     "output_type": "stream",
     "text": [
      "None\n"
     ]
    }
   ],
   "source": [
    "mylist = [1, 4, 3, 2]\n",
    "mylist = mylist.sort()\n",
    "print(mylist)"
   ]
  }
 ],
 "metadata": {
  "kernelspec": {
   "display_name": "Python [conda env:base] *",
   "language": "python",
   "name": "conda-base-py"
  },
  "language_info": {
   "codemirror_mode": {
    "name": "ipython",
    "version": 3
   },
   "file_extension": ".py",
   "mimetype": "text/x-python",
   "name": "python",
   "nbconvert_exporter": "python",
   "pygments_lexer": "ipython3",
   "version": "3.12.7"
  },
  "widgets": {
   "application/vnd.jupyter.widget-state+json": {
    "state": {},
    "version_major": 2,
    "version_minor": 0
   }
  }
 },
 "nbformat": 4,
 "nbformat_minor": 5
}
