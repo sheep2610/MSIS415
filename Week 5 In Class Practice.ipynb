{
 "cells": [
  {
   "cell_type": "markdown",
   "id": "2c06530a-562d-4d20-b2c7-be8b4c633a1d",
   "metadata": {},
   "source": [
    "<h2>Week 5 In Class Prac:<br>File in Python - Text File Read, Write, and File Path/Directory Management"
   ]
  },
  {
   "cell_type": "markdown",
   "id": "37d4bea6-5e60-450c-ae55-3d5458fcde44",
   "metadata": {},
   "source": [
    "<h4> A file is data that is stored on \tsecondary storage such as disk.\n"
   ]
  },
  {
   "cell_type": "markdown",
   "id": "c4eacb9d-1e7f-4888-8905-6aa876c93487",
   "metadata": {},
   "source": [
    "<h5>That data can be texts.\n",
    "<br><br>\n",
    "<h4>Fundamentally, everything in computers are represented by a binary string of 0/1s<br><br>\n",
    "<h5>So are data in files<br><br>\n",
    "<h5>The meaning of the data in files depends on how you organize the 0/1s (aka bits)<br><br>\n",
    "<h5>For text files, the bits are encoding with ASCII or UTF-8<br><br>\n",
    "<h5>For non-text files, the organization is based on vendor definitions, <br><br>\n",
    "and you need know the definitions for you to read and understand the files <br><br>\n",
    "and for others to read and understand the files you wrote (e.g., word file (.docx), excel sheet (.xlsx) etc…)<br><br>\n",
    "\n"
   ]
  },
  {
   "cell_type": "markdown",
   "id": "5fa89662-0e6d-41ed-9aa0-12f32b018dca",
   "metadata": {},
   "source": [
    "---------------------------------------------------------------------------------------------------------------------------"
   ]
  },
  {
   "cell_type": "markdown",
   "id": "0d45da8d-fb7a-4f1e-b864-f9c1c2dce0da",
   "metadata": {},
   "source": [
    "<h5>Download the \"Week5File1.txt\" from Canvas."
   ]
  },
  {
   "cell_type": "markdown",
   "id": "462c79b9-36b3-4c0a-9fa7-442dbdf6167b",
   "metadata": {},
   "source": [
    "Make a copy of the file to your current notebook directory, while keep the original file in your download folder."
   ]
  },
  {
   "cell_type": "markdown",
   "id": "b13bba5d-de7f-428a-89d2-afb5f4152dd1",
   "metadata": {},
   "source": [
    "---------------------------------------------------------------------------------------------------------------------------"
   ]
  },
  {
   "cell_type": "markdown",
   "id": "fd597ebd-c333-4801-b3ae-14ed05ba60c5",
   "metadata": {},
   "source": [
    " "
   ]
  },
  {
   "cell_type": "markdown",
   "id": "4a6855e7-017c-44d8-99b8-d5e5fc88ecea",
   "metadata": {},
   "source": [
    "<h4>1: Open the file into Python by entering the path to the file you copied to the working directory"
   ]
  },
  {
   "cell_type": "code",
   "execution_count": 8,
   "id": "2ec11da7-a705-425d-8d58-15792fe374b8",
   "metadata": {},
   "outputs": [],
   "source": [
    "file = open(\"/Users/thuonghoai/Library/CloudStorage/OneDrive-UniversityofMassachusettsBoston/MSIS415/UMB_Code_of_Conduct.txt\", \"r\")"
   ]
  },
  {
   "cell_type": "code",
   "execution_count": null,
   "id": "c006d406-c123-436a-b44b-af2173fbc600",
   "metadata": {},
   "outputs": [],
   "source": []
  },
  {
   "cell_type": "markdown",
   "id": "2f697ea5-fb55-4018-bb7f-90f2cda2ccbd",
   "metadata": {},
   "source": [
    "<h4>2: Create your own string variable to read the file into Python line by line, using a for loop."
   ]
  },
  {
   "cell_type": "code",
   "execution_count": null,
   "id": "b748581d-cb3b-4f24-b680-efc34814df11",
   "metadata": {},
   "outputs": [],
   "source": [
    "# create your variable here\n",
    "for   in    :# Complete the loop here\n",
    "    # Complete the loop here\n",
    "\n",
    "# print your variable here\n",
    "# close the file: \n",
    "file.close()"
   ]
  },
  {
   "cell_type": "code",
   "execution_count": null,
   "id": "27e47a6e-2792-43bf-b86f-f791faedf059",
   "metadata": {},
   "outputs": [],
   "source": []
  },
  {
   "cell_type": "markdown",
   "id": "dded87f8-c261-4e46-9180-1cfbe440a2fb",
   "metadata": {},
   "source": [
    "<h4>3: Write your own text file with two lines of word of your choice, to your current directory."
   ]
  },
  {
   "cell_type": "code",
   "execution_count": null,
   "id": "b9f8f3bb-85da-4ae0-8584-67d2549a6f68",
   "metadata": {},
   "outputs": [],
   "source": [
    "write_file = open(\"your//directory//change_here_to_file_name_you_want.txt\", \"w\")\n",
    "print(\"Replace with your string line 1 here\", file = write_file)\n",
    "print(\"File second line here\")\n",
    "write_file.close()"
   ]
  },
  {
   "cell_type": "code",
   "execution_count": null,
   "id": "ad23a9ec-d48d-435e-9584-dc5bb7a9ad62",
   "metadata": {},
   "outputs": [],
   "source": []
  },
  {
   "cell_type": "markdown",
   "id": "cfe619c0-b545-45af-9cd3-61dac0141862",
   "metadata": {},
   "source": [
    "<h4>4: Write your own text file with two lines of word of your choice, to your download path."
   ]
  },
  {
   "cell_type": "code",
   "execution_count": null,
   "id": "d373e6a9-986a-4b45-881c-86ecd2e81abc",
   "metadata": {},
   "outputs": [],
   "source": [
    "# Fill the code here"
   ]
  },
  {
   "cell_type": "code",
   "execution_count": null,
   "id": "28115785-ffa6-44b9-a32d-d7fff76acb99",
   "metadata": {},
   "outputs": [],
   "source": []
  },
  {
   "cell_type": "markdown",
   "id": "8ace84f0-1f7d-4181-9c33-156ffc0a81e8",
   "metadata": {},
   "source": [
    "<h2>Path in Python"
   ]
  },
  {
   "cell_type": "code",
   "execution_count": null,
   "id": "8998e577-5419-4468-bdd9-49d65b127d48",
   "metadata": {},
   "outputs": [],
   "source": [
    "# import package os to manage path\n",
    "import os"
   ]
  },
  {
   "cell_type": "markdown",
   "id": "46b5bfcd-991b-4c1a-8520-6a451843148d",
   "metadata": {},
   "source": [
    "<h4>1:Print and store your current working directory to the variable current_d."
   ]
  },
  {
   "cell_type": "code",
   "execution_count": null,
   "id": "d08c45de-9ea1-4858-a013-5854ed7787a7",
   "metadata": {},
   "outputs": [],
   "source": [
    "os.getcwd() # get current directory\n",
    "current_d = # Finish the code\n",
    "print(current_d)"
   ]
  },
  {
   "cell_type": "code",
   "execution_count": null,
   "id": "ef08538d-1a09-4d96-95f7-23b502df4f6c",
   "metadata": {},
   "outputs": [],
   "source": []
  },
  {
   "cell_type": "markdown",
   "id": "28e76f1f-660f-4ebd-8ae0-43d3c12281f3",
   "metadata": {},
   "source": [
    "<h4>2:Change to your download folder"
   ]
  },
  {
   "cell_type": "code",
   "execution_count": null,
   "id": "a822fda6-7a85-43c8-97dc-74068cc98a2e",
   "metadata": {},
   "outputs": [],
   "source": [
    "os.chdir(\"your\\\\full_path\\\\to\\\\Downloads\") # change directory here with your download folder path\n",
    "print(os.getcwd())\n",
    "current_d = os.getcwd()"
   ]
  },
  {
   "cell_type": "code",
   "execution_count": null,
   "id": "9b115bec-8590-44b7-893a-758e6ab0b070",
   "metadata": {},
   "outputs": [],
   "source": []
  },
  {
   "cell_type": "markdown",
   "id": "adca81ea-9f8d-4879-b32e-46cfca583169",
   "metadata": {},
   "source": [
    "<h4>3:Read the original text file downloaded from Canvas"
   ]
  },
  {
   "cell_type": "code",
   "execution_count": null,
   "id": "4e615e70-a84a-4f02-8fe4-857a5747163e",
   "metadata": {},
   "outputs": [],
   "source": [
    "# Name the file as ori_file\n",
    "ori_file = ''\n",
    "for ... # Finish the rest"
   ]
  },
  {
   "cell_type": "code",
   "execution_count": null,
   "id": "a3ebeab7-c874-48ec-950b-f6860f7f2917",
   "metadata": {},
   "outputs": [],
   "source": []
  },
  {
   "cell_type": "markdown",
   "id": "90ab3d81-0e81-4f23-b329-09b43ecdbe90",
   "metadata": {},
   "source": [
    "<h4>4:Relative path changing, and path as string."
   ]
  },
  {
   "cell_type": "code",
   "execution_count": null,
   "id": "28dccbbf-d157-41c4-a485-3d604fa1c102",
   "metadata": {},
   "outputs": [],
   "source": [
    "# Run the following command first\n",
    "# It will create a folder in that path\n",
    "os.mkdir('my_folder_week5')"
   ]
  },
  {
   "cell_type": "code",
   "execution_count": null,
   "id": "3265bbaa-5ce9-4170-b82e-5a1138efc47c",
   "metadata": {},
   "outputs": [],
   "source": [
    "# Finish the line below so that the variable is stored with the path to my_folder_week5\n",
    "folder_path = os.getcwd() + '\\\\' + "
   ]
  },
  {
   "cell_type": "code",
   "execution_count": null,
   "id": "f6155dfd-1df0-47e6-86dd-72277a555ebf",
   "metadata": {},
   "outputs": [],
   "source": [
    "print(folder_path)"
   ]
  },
  {
   "cell_type": "code",
   "execution_count": null,
   "id": "847a9766-50ca-444f-a31e-54860556aad0",
   "metadata": {},
   "outputs": [],
   "source": []
  },
  {
   "cell_type": "markdown",
   "id": "f3e952ff-c15e-46ea-bad4-10125d7eeef4",
   "metadata": {},
   "source": [
    "<h4>5:OS path method for path management."
   ]
  },
  {
   "cell_type": "code",
   "execution_count": null,
   "id": "6c0deab1-7d4f-4fef-96c9-1cdf7d22b06e",
   "metadata": {},
   "outputs": [],
   "source": [
    "os_fPath = os.path.join(os.getcwd(), 'my_folder_week5')"
   ]
  },
  {
   "cell_type": "markdown",
   "id": "e00d4ea3-490f-4b06-889d-00d80849d942",
   "metadata": {},
   "source": [
    "<h5>Now, make one new folder with your choice of name, generate a full path to that folder using either string concat or os method, and change to that directory."
   ]
  },
  {
   "cell_type": "code",
   "execution_count": null,
   "id": "50bb9ae0-2644-4f72-9604-afdb070f6657",
   "metadata": {},
   "outputs": [],
   "source": [
    "# Code here\n",
    "\n",
    "\n",
    "\n"
   ]
  }
 ],
 "metadata": {
  "kernelspec": {
   "display_name": "Python [conda env:base] *",
   "language": "python",
   "name": "conda-base-py"
  },
  "language_info": {
   "codemirror_mode": {
    "name": "ipython",
    "version": 3
   },
   "file_extension": ".py",
   "mimetype": "text/x-python",
   "name": "python",
   "nbconvert_exporter": "python",
   "pygments_lexer": "ipython3",
   "version": "3.12.7"
  },
  "widgets": {
   "application/vnd.jupyter.widget-state+json": {
    "state": {},
    "version_major": 2,
    "version_minor": 0
   }
  }
 },
 "nbformat": 4,
 "nbformat_minor": 5
}
