{
 "cells": [
  {
   "cell_type": "code",
   "execution_count": 2,
   "id": "b3e98c81-db71-400d-ba40-fc36524852c4",
   "metadata": {},
   "outputs": [
    {
     "name": "stdin",
     "output_type": "stream",
     "text": [
      "Please enter the first integer: 3\n",
      "Please enter the second integer: 5\n"
     ]
    },
    {
     "name": "stdout",
     "output_type": "stream",
     "text": [
      "The sum is 8\n",
      "The average is 4.0\n",
      "The product is 15\n"
     ]
    }
   ],
   "source": [
    "#REQUIREMENT 1\n",
    "\n",
    "import math\n",
    "# create two integers\n",
    "int_1_str=input(\"Please enter the first integer:\")\n",
    "int_2_str=input(\"Please enter the second integer:\")\n",
    "x=int(int_1_str)\n",
    "y=int(int_2_str)\n",
    "# calculate sum, average, product \n",
    "sum = x + y\n",
    "average = sum /2\n",
    "product = x * y \n",
    "print(\"The sum is\", sum)\n",
    "print(\"The average is\", average)\n",
    "print(\"The product is\", product)\n"
   ]
  },
  {
   "cell_type": "code",
   "execution_count": 2,
   "id": "c899fe33-1ebd-472c-819c-6ae64df41242",
   "metadata": {},
   "outputs": [
    {
     "name": "stdout",
     "output_type": "stream",
     "text": [
      "4\n",
      "6\n"
     ]
    },
    {
     "name": "stdin",
     "output_type": "stream",
     "text": [
      "What is your answer of product?  24\n"
     ]
    },
    {
     "name": "stdout",
     "output_type": "stream",
     "text": [
      "Congratulation! Your answer is correct!\n"
     ]
    }
   ],
   "source": [
    "#REQUIREMENT 2\n",
    "\n",
    "#program to generate am random number between 0 and 9\n",
    "import random\n",
    "\n",
    "# two random numbers between 0 and 9\n",
    "x = random.randint(0, 9)\n",
    "print(x)\n",
    "y = random.randint(0, 9)\n",
    "print(y)\n",
    "\n",
    "#ask the answer of user\n",
    "your_answer = int(input(\"What is your answer of product? \"))\n",
    "\n",
    "#correct answer\n",
    "correct_answer= x*y\n",
    "\n",
    "# check the answer\n",
    "if your_answer == correct_answer:\n",
    "    print(\"Congratulation! Your answer is correct!\")\n",
    "else:\n",
    "    print(\"Sorry! Your answer is incorrect. The correct answer is\", correct_answer,\"!\") "
   ]
  },
  {
   "cell_type": "code",
   "execution_count": null,
   "id": "077a1879-c248-4075-971d-a9af19686ded",
   "metadata": {},
   "outputs": [],
   "source": []
  }
 ],
 "metadata": {
  "kernelspec": {
   "display_name": "Python [conda env:base] *",
   "language": "python",
   "name": "conda-base-py"
  },
  "language_info": {
   "codemirror_mode": {
    "name": "ipython",
    "version": 3
   },
   "file_extension": ".py",
   "mimetype": "text/x-python",
   "name": "python",
   "nbconvert_exporter": "python",
   "pygments_lexer": "ipython3",
   "version": "3.12.7"
  }
 },
 "nbformat": 4,
 "nbformat_minor": 5
}
