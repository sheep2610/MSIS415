{
 "cells": [
  {
   "cell_type": "code",
   "execution_count": 2,
   "id": "f7548974-8f4f-4502-9d97-f1d218f622d8",
   "metadata": {},
   "outputs": [
    {
     "name": "stdout",
     "output_type": "stream",
     "text": [
      "Hello world!\n"
     ]
    }
   ],
   "source": [
    "print(\"Hello world!\")\n"
   ]
  },
  {
   "cell_type": "code",
   "execution_count": 4,
   "id": "d3141b27-baa4-4256-8001-66ecd065f9df",
   "metadata": {},
   "outputs": [],
   "source": [
    "our_greet = \" Hello World\""
   ]
  },
  {
   "cell_type": "code",
   "execution_count": 6,
   "id": "004d8562-9664-41bc-8156-df724c92902e",
   "metadata": {},
   "outputs": [
    {
     "data": {
      "text/plain": [
       "' Hello World'"
      ]
     },
     "execution_count": 6,
     "metadata": {},
     "output_type": "execute_result"
    }
   ],
   "source": [
    "our_greet"
   ]
  },
  {
   "cell_type": "code",
   "execution_count": null,
   "id": "5a58b0f2-9a89-4944-9620-848cc22bf9f6",
   "metadata": {},
   "outputs": [],
   "source": []
  }
 ],
 "metadata": {
  "kernelspec": {
   "display_name": "Python [conda env:base] *",
   "language": "python",
   "name": "conda-base-py"
  },
  "language_info": {
   "codemirror_mode": {
    "name": "ipython",
    "version": 3
   },
   "file_extension": ".py",
   "mimetype": "text/x-python",
   "name": "python",
   "nbconvert_exporter": "python",
   "pygments_lexer": "ipython3",
   "version": "3.12.7"
  }
 },
 "nbformat": 4,
 "nbformat_minor": 5
}
