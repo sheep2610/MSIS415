{
 "cells": [
  {
   "cell_type": "code",
   "execution_count": 2,
   "id": "5c6b0135-94b1-4050-bbdf-be9e43e3aaca",
   "metadata": {},
   "outputs": [
    {
     "name": "stdout",
     "output_type": "stream",
     "text": [
      "Hello Thuong Pham!\n"
     ]
    }
   ],
   "source": [
    "print(\"Hello Thuong Pham!\") "
   ]
  },
  {
   "cell_type": "code",
   "execution_count": null,
   "id": "19cc9463-1664-482d-a029-fbd0ee2cd032",
   "metadata": {},
   "outputs": [],
   "source": []
  }
 ],
 "metadata": {
  "kernelspec": {
   "display_name": "Python [conda env:base] *",
   "language": "python",
   "name": "conda-base-py"
  },
  "language_info": {
   "codemirror_mode": {
    "name": "ipython",
    "version": 3
   },
   "file_extension": ".py",
   "mimetype": "text/x-python",
   "name": "python",
   "nbconvert_exporter": "python",
   "pygments_lexer": "ipython3",
   "version": "3.12.7"
  }
 },
 "nbformat": 4,
 "nbformat_minor": 5
}
