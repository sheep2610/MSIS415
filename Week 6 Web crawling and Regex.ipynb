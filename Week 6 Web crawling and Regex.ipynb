{
 "cells": [
  {
   "cell_type": "markdown",
   "id": "d828ccea-c6db-4815-ac1d-43234e73b8fa",
   "metadata": {},
   "source": [
    "<h3>Use requests to access a website and extract information"
   ]
  },
  {
   "cell_type": "code",
   "execution_count": 1,
   "id": "2f60f365-4605-48ca-ac6b-221025a5a27d",
   "metadata": {},
   "outputs": [],
   "source": [
    "import requests"
   ]
  },
  {
   "cell_type": "code",
   "execution_count": 2,
   "id": "a894edd3-3fdc-45e8-a155-ac254865d5f3",
   "metadata": {},
   "outputs": [],
   "source": [
    "url = 'https://www.umb.edu/business/faculty--staff/'"
   ]
  },
  {
   "cell_type": "markdown",
   "id": "f823b732-eec1-47f3-82fc-5bd74c573739",
   "metadata": {},
   "source": [
    "<h4>Use request.get() method to establish connection to the webpage"
   ]
  },
  {
   "cell_type": "code",
   "execution_count": 3,
   "id": "ab479434-f8a1-4129-bf8f-079d93c220e7",
   "metadata": {},
   "outputs": [
    {
     "data": {
      "text/plain": [
       "<Response [200]>"
      ]
     },
     "execution_count": 3,
     "metadata": {},
     "output_type": "execute_result"
    }
   ],
   "source": [
    "page = requests.get(url)\n",
    "page"
   ]
  },
  {
   "cell_type": "markdown",
   "id": "933d9c0c-d271-40bd-bb3b-0bdb90609245",
   "metadata": {},
   "source": [
    "<h4>The variable returned by the request.get() method is a request specific variable type Response.<br><br>\n",
    "<h4>The number inside the square bracket represent access status to the website: 200 means successfuly connected<br><br>\n",
    "<h4>If you see other numbers, especially 4xx, means you cannot access the website<br><br>\n",
    "<h4>Could be because the website does not want to be crawled, so they built some protection mechanism to prevent requests access<br><br>\n",
    "<h4>Consider Selenium in that case"
   ]
  },
  {
   "cell_type": "markdown",
   "id": "72e4ee98-84c3-475a-8806-b96672678763",
   "metadata": {},
   "source": [
    "<h3>To get the HTML code into Python, we need to access the .content attribute of the Response object. Furthermore, we convert it to string to make sure it is in clean string format"
   ]
  },
  {
   "cell_type": "code",
   "execution_count": 4,
   "id": "8a3752ed-34cf-4768-8fba-446913b00e78",
   "metadata": {},
   "outputs": [],
   "source": [
    "p = str(page.content)"
   ]
  },
  {
   "cell_type": "code",
   "execution_count": 5,
   "id": "6b543634-3545-4d23-8bbe-c68d82b9b778",
   "metadata": {
    "scrolled": true
   },
   "outputs": [
    {
     "name": "stdout",
     "output_type": "stream",
     "text": [
      "b'<!DOCTYPE html>\\r\\n<html lang=\"en\">\\r\\n  <head>\\r\\n    \\r\\n    <meta http-equiv=\"cache-control\" content=\"no-cache\" />\\r\\n    <meta charset=\"UTF-8\">\\r\\n    <meta name=\"author\" content=\"UMass Boston\">\\r\\n    <meta name=\"generator\" content=\" Terminalfour\">\\r\\n    <meta name=\"section\" content=\"16598\">\\r\\n    <meta http-equiv=\"x-ua-compatible\" content=\"ie=edge\">\\r\\n    <meta name=\"viewport\" content=\"width=device-width, initial-scale=1, minimum-scale=1\">\\r\\n        <title>Faculty &amp; Staff - UMass Boston</title>\\r\\n    <!-- description -->  \\r\\n    <!-- keywords -->\\r\\n      \\r\\n    <meta name=\"twitter:card\" content=\"summary_large_image\">\\r\\n    <meta name=\"twitter:site\" content=\"@umassboston\">\\r\\n    <meta name=\"twitter:creator\" content=\"@umassboston\">\\r\\n      \\r\\n    <!-- og:title -->\\r\\n    <!-- og:description -->   \\r\\n    <!-- og:image -->\\r\\n     \\r\\n    <meta property=\"fb:app_id\" content=\"12345678910\">\\r\\n    <meta property=\"og:type\" content=\"website\">\\r\\n    <meta name=\"Page-Type\" content=\"Website\" />      \\r\\n    \\r\\n    <!-- Get Header Assets-->\\r\\n    <link rel=\"stylesheet\" href=\"https://fonts.googleapis.com/css2?family=Material+Symbols+Outlined:opsz,wght,FILL,GRAD@20..48,100..700,0..1,-50..200\">\\n<script defer src=\"/media/umassboston/site-assets/javascript/main.js\"></script><!-- main marketing.js -->\\n<link href=\"/media/umassboston/site-assets/css/main0610.css\" rel=\"stylesheet\"><!--main0610.css-->\\n<link href=\"/media/umassboston/site-assets/css/t4-extra-css.css\" rel=\"stylesheet\"><!-- t4-extra-css.css -->\\n<link href=\"/media/umassboston/site-assets/css/umass-extra-css.css\" rel=\"stylesheet\"><!-- umass-extra-css.css -->\\n<link href=\"/media/umassboston/site-assets/css/fonts.css\" rel=\"stylesheet\"><!-- fonts.css -->\\n<link href=\"https://cdnjs.cloudflare.com/ajax/libs/font-awesome/4.6.3/css/font-awesome.min.css\" rel=\"stylesheet\">\\n<link rel=\"icon\" href=\"/media/umassboston/site-assets/images/favicons/favicon_48x48.svg\">\\n<link rel=\"icon\" href=\"/media/umassboston/site-assets/images/favicons/favicon_96x96.png\"> \\r\\n    <!-- Google Tag Manager -->\\n<script>(function(w,d,s,l,i){w[l]=w[l]||[];w[l].push({\\'gtm.start\\':\\nnew Date().getTime(),event:\\'gtm.js\\'});var f=d.getElementsByTagName(s)[0],\\nj=d.createElement(s),dl=l!=\\'dataLayer\\'?\\'&l=\\'+l:\\'\\';j.async=true;j.src=\\n\\'https://www.googletagmanager.com/gtm.js?id=\\'+i+dl;f.parentNode.insertBefore(j,f);\\n})(window,document,\\'script\\',\\'dataLayer\\',\\'GTM-PXJ923G\\');</script>\\n<!-- End Google Tag Manager -->\\r\\n    <meta name=\"urlLength\" content=\"21to30\">\\n<!--/business/faculty--staff/ 25-->\\r\\n    \\r\\n    <script src=\"/media/umassboston/site-assets/javascript/character-word-count-head.js\"></script><!--character-word-count-head.js-->\\r\\n  </head>\\r\\n      \\r\\n  <body class=\"\">\\r\\n    <!-- Google Tag Manager (noscript) -->\\n<noscript><iframe src=\"https://www.googletagmanager.com/ns.html?id=GTM-PXJ923G\"\\nheight=\"0\" width=\"0\" style=\"display:none;visibility:hidden\"></iframe></noscript>\\n<!-- End Google Tag Manager (noscript) --><a href=\"https://o7907ibcib.execute-api.us-east-1.amazonaws.com/ProdStage\" rel=\"nofollow\" style=\"display: none\" aria-hidden=\"true\">honeypot link</a>\\r\\n    <div id=\"top\" class=\"canvas\">\\r\\n      <nav aria-label=\"Skip to Sections\">\\r\\n        <a class=\"skip-link\" href=\"#nav-main\">Skip to Main Navigation</a>\\r\\n        <a class=\"skip-link toggle-search\" href=\"#search-button-desktop\">Skip to Search</a>\\r\\n        <a class=\"skip-link\" href=\"#content-main\">Skip to Main Content</a>\\r\\n        <a class=\"skip-link\" href=\"#nav-footer\">Skip to Footer Links</a>\\r\\n      </nav>\\r\\n      \\r\\n      <div class=\"canvas\">\\r\\n        \\r\\n                \\r\\n      <!-- Header Code -->\\r\\n      <nav class=\"header header--standard\">\\r\\n  <a href=\"/\" class=\"header__logo\">\\r\\n    <span class=\"screen-reader-text\">UMass</span>\\r\\n\\r\\n    <span class=\"svg svg--logo logo__main\">\\r\\n      <figure><img src=\"/media/umassboston/content-assets/images/branding-assets/umb-blue-logo.svg\" alt=\"UMass Boston\" style=\"width : -1px; height : -1px;     \" /></figure>\\r\\n\\r\\n    </span>\\r\\n  </a>\\r\\n\\r\\n  <div class=\"header__main\">\\r\\n\\r\\n    <button class=\"header__menu-toggle\" data-popup data-toggle-control data-toggle-menu aria-haspopup=\"true\">\\r\\n      <span class=\"screen-reader-text\">Toggle Main Menu</span>\\r\\n    </button>\\r\\n\\r\\n    <div class=\"header__mobile-menu-wrapper\">\\r\\n      <!-- Mega Menu -->\\r\\n      <ul id=\"nav-main\" class=\"header__nav\">\\r\\n        <li>\\r\\n  <button class=\"dropdown\" data-popup aria-haspopup=\"true\">Admissions</button>\\r\\n  <ul class=\"header__subnav\">\\r\\n    <li><a href=\"/admissions/\" class=\"header__subnav-overview\">Admissions Overview</a></li>\\r\\n    <ul>\\n<li><a href=\"/admissions/visit/\">Visit UMass Boston</a></li>\\n<li><a href=\"/financial-aid/\">Financial Aid</a></li>\\n<li><a href=\"/admissions/first-year-students/\">First-Year Students</a></li>\\n<li><a href=\"/admissions/transfer-students/\">Transfer Students</a></li>\\n<li><a href=\"/admissions/graduate-students/\">Graduate Students</a></li>\\n<li><a href=\"/admissions/international-students/\">International Students</a></li>\\n<li><a href=\"/admissions/veterans/\">Veterans</a></li>\\n</ul>\\r\\n  </ul>\\r\\n</li><li>\\r\\n  <button class=\"dropdown\" data-popup aria-haspopup=\"true\">Academics</button>\\r\\n  <ul class=\"header__subnav\">\\r\\n    <li><a href=\"/academics/\" class=\"header__subnav-overview\">Academics Overview</a></li>\\r\\n    <ul>\\n<li><a href=\"/academics/program-finder/\">Majors &amp; Programs</a></li>\\n<li><a href=\"https://online.umb.edu/\">Online &amp; Continuing Education</a></li>\\n<li><a href=\"/academics/colleges-schools/\">Colleges &amp; Schools</a></li>\\n<li><a href=\"/academics/advising/\">Advising</a></li>\\n<li><a href=\"/registrar/academic-calendar/\">Academic Calendar</a></li>\\n<li><a href=\"/library/\">Healey Library</a></li>\\n<li><a href=\"/academics/global-programs/\">Global Programs</a></li>\\n<li><a href=\"/academics/study-abroad/\">Study Abroad</a></li>\\n<li><a href=\"/academics/fellowships/\">Fellowships</a></li>\\n</ul>\\r\\n  </ul>\\r\\n</li><li>\\r\\n  <button class=\"dropdown\" data-popup aria-haspopup=\"true\">Campus Life</button>\\r\\n  <ul class=\"header__subnav\">\\r\\n    <li><a href=\"/campus-life/\" class=\"header__subnav-overview\">Campus Life Overview</a></li>\\r\\n    <ul>\\n<li><a href=\"/campus-life/clubs-activities/\">Student Groups &amp; Activities</a></li>\\n<li><a href=\"/campus-life/housing-dining/\">Housing &amp; Dining</a></li>\\n<li><a href=\"/campus-life/health-wellness/\">Health &amp; Wellness</a></li>\\n<li><a href=\"/campus-life/inclusion-belonging/\">Inclusion &amp; Belonging</a></li>\\n<li><a href=\"/campus-life/safety-security/\">Safety &amp; Security</a></li>\\n<li><a href=\"/orientation/\">Orientation &amp; New Students</a></li>\\n<li><a href=\"/events/\">Events</a></li>\\n</ul>\\r\\n  </ul>\\r\\n</li><li>\\r\\n  <button class=\"dropdown\" data-popup aria-haspopup=\"true\">Research</button>\\r\\n  <ul class=\"header__subnav\">\\r\\n    <li><a href=\"/research/\" class=\"header__subnav-overview\">Research Overview</a></li>\\r\\n    <ul>\\n<li><a href=\"/research/community-driven-research/\">Community-Driven Research</a></li>\\n<li><a href=\"/research/recognizing-excellence/\">Recognizing Excellence</a></li>\\n<li><a href=\"/research/student-research/\">Student Research</a></li>\\n<li><a href=\"/research/centers-institutes/\">Centers &amp; Institutes</a></li>\\n<li><a href=\"/core-facilities/\">Core Facilities</a></li>\\n<li><a href=\"/research/orsp/\">Research &amp; Sponsored Programs</a></li>\\n<li><a href=\"/research/grand-scholarly-challenges/\">Grand Scholarly Challenges</a></li>\\n</ul>\\r\\n  </ul>\\r\\n</li><li>\\r\\n  <button class=\"dropdown\" data-popup aria-haspopup=\"true\">About</button>\\r\\n  <ul class=\"header__subnav\">\\r\\n    <li><a href=\"/about/\" class=\"header__subnav-overview\">About Overview</a></li>\\r\\n    <ul>\\n<li><a href=\"/news/\">News</a></li>\\n<li><a href=\"/about/leadership-administration/\">Leadership &amp; Administration</a></li>\\n<li><a href=\"/about/mission/\">Mission &amp; Vision</a></li>\\n<li><a href=\"/about/facts--figures/\">Facts &amp; Figures</a></li>\\n<li><a href=\"/about/accreditation--rankings/\">Accreditation &amp; Rankings</a></li>\\n<li><a href=\"/about/history-of-umass-boston/\">History of UMass Boston</a></li>\\n<li><a href=\"/about/student-consumer-information/\">Student Consumer Information</a></li>\\n<li><a href=\"https://hr.umb.edu/\">Human Resources</a></li>\\n</ul>\\r\\n  </ul>\\r\\n</li><li>\\r\\n  <button class=\"dropdown\" data-popup aria-haspopup=\"true\">Athletics</button>\\r\\n  <ul class=\"header__subnav\">\\r\\n    <li><a href=\"/athletics/\" class=\"header__subnav-overview\">Athletics Overview</a></li>\\r\\n    <ul>\\n<li><a href=\"/athletics/recreation/\">Recreation at UMass Boston</a></li>\\n</ul>\\r\\n  </ul>\\r\\n</li>\\r\\n\\r\\n      </ul>\\r\\n\\r\\n      <div class=\"secondary-menu secondary-menu--mobile\">\\r\\n        <ul>\\r\\n          <li><a href=\"/campus-life/current-students/\">Current Students</a></li>\\r\\n          <li><a href=\"/admissions/parents/\">Parents &amp; Families</a></li>\\r\\n          <li><a href=\"/faculty-staff/\">Faculty &amp; Staff</a></li>\\r\\n          <li><a href=\"https://www.alumni.umb.edu/s/1355/22/home.aspx?gid=3&amp;pgid=61\">Alumni</a></li>\\r\\n        </ul>\\r\\n      </div>\\r\\n    </div>\\r\\n\\r\\n        <div class=\"header__search header__search--desktop\">\\n      <button class=\"button-circle header__search-toggle\" data-popup data-toggle-control data-toggle-search aria-haspopup=\"true\"  id=\"search-button-desktop\">\\n        <span>\\n          \\n                  <span class=\"svg svg--search \">\\n\\n\\t\\t\\t<svg width=\"28\" height=\"28\" viewBox=\"0 0 28 28\" xmlns=\"http://www.w3.org/2000/svg\"><g fill=\"var:currentColor\" fill-rule=\"nonzero\"><path d=\"M12.057 24A11.997 11.997 0 0 1 0 12.035a12.002 12.002 0 1 1 20.506 8.437A11.984 11.984 0 0 1 12.058 24Zm0-21.676a9.683 9.683 0 0 0-6.927 16.51 9.683 9.683 0 0 0 16.554-6.823 9.665 9.665 0 0 0-9.627-9.687Z\"/><path d=\"M26.301 28 18 19.707 19.699 18 28 26.289z\"/></g></svg>\\n                  </span>\\n                \\n        </span>\\n        <span class=\"screen-reader-text\">Toggle Search</span>\\n      </button>\\n      <div class=\"search\">\\n\\n        <form id=\"searchbox_001225130692263366863:pbalvg-_hus\" action=\"/search\" class=\"forms\" role=\"search\">\\n                                    <input value=\"001225130692263366863:uxj4oosyzxy\" name=\"cx\" type=\"hidden\"/>\\n                                    <input value=\"FORID:11\" name=\"cof\" type=\"hidden\"/>\\n                                    <span class=\"input-groups\" >\\n                                        <input id=\"keywords\" name=\"q\" type=\"text\" placeholder=\"Search umb.edu\" aria-label=\"Enter Keywords for Search\"/>\\n                                          <button class=\"button-circle button-icon--search\">\\n                                            <span>\\n                                              \\n                                                  <span class=\"svg svg--search \">\\n                                                   \\n                                                    <svg width=\"28\" height=\"28\" viewBox=\"0 0 28 28\" xmlns=\"http://www.w3.org/2000/svg\"><g fill=\"var:currentColor\" fill-rule=\"nonzero\"><path d=\"M12.057 24A11.997 11.997 0 0 1 0 12.035a12.002 12.002 0 1 1 20.506 8.437A11.984 11.984 0 0 1 12.058 24Zm0-21.676a9.683 9.683 0 0 0-6.927 16.51 9.683 9.683 0 0 0 16.554-6.823 9.665 9.665 0 0 0-9.627-9.687Z\"></path><path d=\"M26.301 28 18 19.707 19.699 18 28 26.289z\"></path></g></svg>\\n                                                  </span>\\n                                                \\n                                            </span>\\n                                            <span class=\"screen-reader-text\">\\n                                              Search\\n                                            </span>\\n                                          </button>\\n\\n\\n                                    </span>\\n                </form>\\n\\n\\n\\n\\n\\n\\n\\n\\n\\n        <!-- form id=\"searchInputDesktop\"  class=\"search__form\" action=\"/search/\" >\\n<input name=\"searchStudioQuery\" class=\"search__input\" placeholder=\"What can we help you find?\" aria-label=\"Keyword Search\" aria-describedby=\"submit-search-menu\">\\n          <button class=\"button-circle button-icon--search\">\\n            <span>\\n              \\n                  <span class=\"svg svg--search \">\\n                   \\n                    <svg width=\"28\" height=\"28\" viewBox=\"0 0 28 28\" xmlns=\"http://www.w3.org/2000/svg\"><g fill=\"var:currentColor\" fill-rule=\"nonzero\"><path d=\"M12.057 24A11.997 11.997 0 0 1 0 12.035a12.002 12.002 0 1 1 20.506 8.437A11.984 11.984 0 0 1 12.058 24Zm0-21.676a9.683 9.683 0 0 0-6.927 16.51 9.683 9.683 0 0 0 16.554-6.823 9.665 9.665 0 0 0-9.627-9.687Z\"/><path d=\"M26.301 28 18 19.707 19.699 18 28 26.289z\"/></g></svg>\\n                  </span>\\n                \\n            </span>\\n            <span class=\"screen-reader-text\">\\n              Search\\n            </span>\\n          </button>\\n        </form -->\\n      </div>\\n    </div>\\n\\n<style>\\nform.forms {\\n  border-radius: 5em;\\n  background-color: var(--color-light);\\n  margin: auto;\\n  max-width: 50.85rem;\\n  padding-top: 0.5em;\\n  padding-left: 1.25em;\\n  padding-bottom: 0.5em;\\n}\\n.button-circle {\\n  display: inline-flex;\\n  height: 3rem;\\n  width: 3rem;\\n}\\nform input#keywords {\\n  border: 0;\\n  /* border-radius: 3rem; */\\n  color: var(--color-dark);\\n  margin-left: 2%;\\n  padding: 1em 0 1em 1em;\\n  width: 86%;\\n}\\n@media (max-width: 595px) {\\n    form input#keywords {\\n      color: var(--color-dark);\\n      width: 78%;\\n    }\\n}\\n</style>\\r\\n    <!-- Search code in Home > Site Assets > Common Header > Search Bar Code  -->\\r\\n\\r\\n  </div>\\r\\n</nav>\\r\\n\\r\\n\\r\\n\\r\\n<h1 class=\"screen-reader-text\">UMass Boston</h1>\\r\\n\\r\\n<div class=\"secondary-menu bg-blue\" aria-label=\"Secondary nav\" role=\"navigation\">\\r\\n  <ul class=\"invert\">\\r\\n    <li><a href=\"/campus-life/current-students/\">Current Students</a></li>\\r\\n    <li><a href=\"/admissions/parents/\">Parents &amp; Families</a></li>\\r\\n    <li><a href=\"/faculty-staff/\">Faculty &amp; Staff</a></li>\\r\\n    <li><a href=\"https://www.alumni.umb.edu/s/1355/22/home.aspx?gid=3&amp;pgid=61\">Alumni</a></li>\\r\\n  </ul>\\r\\n</div>\\r\\n\\r\\n      \\r\\n        \\r\\n        \\r\\n    <main id=\"content-main\">\\r\\n      \\r\\n    <!-- Breadcrumbs -->           \\r\\n    <div class=\"breadcrumbs\">\\n  <div class=\"py-s\">\\n    <ul class=\"reset cluster\"><li><a href=\"/\">Home</a></li><li><a href=\"/business/\">Business</a></li><li>Faculty &amp; Staff   </li> </ul>\\n  </div>\\n</div>\\r\\n\\r\\n    <div class=\"wrapper\">\\r\\n      <div class=\"l-page-sidebar mb-xl lg:my-l\"> \\r\\n        \\r\\n        <!-- Sidebar -->\\r\\n        <div>\\r\\n          <div class=\"flow flow-space-l\"> \\r\\n            \\r\\n            <!-- Sidebar Menu -->\\r\\n            <div data-animation=\"fade-in-up\" data-animate>\\r\\n            <div class=\"c-menu-sidebar\">\\r\\n              <h2 class=\"c-menu-sidebar__heading\">\\r\\n                <span>Menu</span>\\r\\n              </h2>\\r\\n              <button class=\"c-menu-sidebar__toggle dropdown\" aria-expanded=\"false\" data-popup>\\r\\n                <span class=\"material-symbols-outlined icon\" aria-hidden=\"true\">menu</span>\\r\\n                Menu\\r\\n              </button>\\r\\n                           \\r\\n                <ul class=\"reset c-menu-sidebar__content\"><li><a href=\"/business/deans-message-strategic-efforts/\">Message from the Dean</a></li><li><a href=\"/business/student-resources/\">Student Resources</a></li><li><a href=\"/business/academic-departments/\">Academic Departments</a></li><li><span class=\"currentbranch0\"><a href=\"/business/faculty--staff/\">Faculty &amp; Staff</a></span>\\n<ul class=\"multilevel-linkul-0\">\\n<li><a href=\"/business/faculty--staff/faculty-resources/\">Faculty Resources</a></li>\\n\\n</ul>\\n\\n</li><li><a href=\"/business/research-impact/\">Research &amp; Impact</a></li><li><a href=\"/business/best-boston/\">BEST Boston</a></li></ul>     \\r\\n              \\r\\n             </div>\\t\\t\\t\\t\\r\\n            </div>         \\r\\n            <div class=\"hide flow flow-space-l lg:block\"> \\r\\n              \\r\\n            </div>\\r\\n          </div>\\r\\n        </div>\\r\\n        \\r\\n        <!-- Main -->\\r\\n        <div>\\r\\n          <div class=\"flow relative\">\\r\\n            <div class=\"flow flow-space-l\">\\r\\n\\r\\n              <span id=\"d.en.100405\"></span>\\r\\n\\r\\n\\r\\n \\r\\n<div class=\"general-content-padding  flow flow-space-l\" data-animation=\"fade-in-up\" data-animate=\"true\">\\r\\n         <h2>Faculty &amp; Staff</h2>\\r\\n  <div>\\r\\n    <div class=\"flow flow-space-s\">\\r\\n       \\r\\n       <h3>Dean\\'s Office</h3>\\n<ul>\\n<li><a href=\"/directory/venkyvenkatachalam/\">Venky Venkatachalam</a>, Dean and Distinguished Professor</li>\\n<li><a href=\"/directory/luciasilva-gao/\">Lucia Silva-Gao</a>, Associate Dean, Undergraduate Programs, Accreditation, and Faculty, and Professor&nbsp;</li>\\n<li><a href=\"/directory/mineertugrul/\">Mine Ertugrul</a>, Associate Dean, Graduate Programs and Research, and Professor&nbsp;</li>\\n<li><a href=\"/directory/stephanieburns/\">Stephanie Burns</a>, Director of Marketing, Communications and Engagement</li>\\n<li><a href=\"/directory/patricknelson/\">Patrick Nelson</a>, Director of Career Services</li>\\n<li><a href=\"/directory/vincentxie/\">Vincent Xie</a>, Director of AACSB Accreditation</li>\\n<li><a href=\"/directory/epiphaniagodinho/\">Epiphania Godinho</a>, Director of Scheduling and Program Resource Planning</li>\\n<li><a href=\"/directory/jeannettemonteiro/\">Jeannette Monteiro</a>, Executive Assistant to the Dean</li>\\n</ul>\\n<h3>Graduate Programs</h3>\\n<ul>\\n<li><a href=\"/directory/barbarabenoit/\">Barbara Benoit</a>, Director, Graduate Enrollment and Strategic Outreach</li>\\n<li><a href=\"/directory/taranorton/\">Tara Norton</a>, Director, Graduate Program Operations</li>\\n<li><a href=\"/directory/stephaniezuehlke/\">Stephanie Zuehlke</a>, Associate Director, Graduate Program Operations</li>\\n<li><a href=\"/directory/stevesze/\">Steve Sze</a>, Graduate Programs Assistant</li>\\n</ul>\\n<h3>Undergraduate Programs</h3>\\n<ul>\\n<li><a href=\"/directory/amymei/\">Amy Daubney Mei</a>, Undergraduate Program Director</li>\\n<li><a href=\"/directory/maragould/\">Mara (Sidman) Gould</a>, Associate Director, Undergraduate Program Office</li>\\n<li><a href=\"/directory/rebeccameaney/\">Rebecca Meaney</a>, Assistant Director, Undergraduate Program Office</li>\\n<li><a href=\"/directory/christyncarey/\">Christyn Carey</a>, Academic Advisor, Undergraduate Program Office</li>\\n<li><a href=\"/directory/karwansalih/\">Karwan Salih</a>, Academic Advisor, Undergraduate Program Office</li>\\n<li><a href=\"/directory/leonathomas/\">Leona Thomas</a>, Undergraduate Program Assistant</li>\\n</ul>\\n<h3>Operations</h3>\\n<ul>\\n<li><span><a href=\"/directory/blerinamance/\">Blerina Mance</a>, Operations Manager</span></li>\\n<li><span><a href=\"/directory/trentwatson/\">Trent Watson</a></span>, Administrative Assistant for Faculty Support</li>\\n</ul>\\n<h3>Center for Collaborative Leadership</h3>\\n<ul>\\n<li><a href=\"/directory/tanyabarnett/\">Tanya Barnett</a>, Director, Center for Collaborative Leadership</li>\\n<li><a href=\"/directory/cathleenjohnson/\">Cathleen Johnson</a>, Associate Director, Center for Collaborative Leadership</li>\\n</ul>\\n<h3>Accounting &amp; Finance</h3>\\n<ul>\\n<li><a href=\"/directory/mehranazimi/\">Mehran Azimi</a>, Assistant Professor, Finance</li>\\n<li><a href=\"/directory/arindambandopadhyay/\">Arindam Bandopadhyaya</a>, Professor of Finance</li>\\n<li><a href=\"/directory/kristencallahan/\">Kristen Callahan</a>, Senior Lecturer II, Finance</li>\\n<li><a href=\"/directory/atreyachakraborty/\">Atreya Chakraborty</a>, Professor of Finance, Director, Academic Partnerships and PhD Program</li>\\n<li><a href=\"/directory/tingchen/\">Ting Chen</a>, Assistant Professor of Accounting</li>\\n<li><a href=\"/directory/mineertugrul/\">Mine Ertugrul</a>, Professor of Finance, Associate Dean, Graduate Programs and Research</li>\\n<li><a href=\"/directory/luciasilva-gao/\">Lucia S. Gao</a>, Professor of Finance, Associate Dean, Undergraduate Programs, Accreditation, and Faculty&nbsp;</li>\\n<li><a href=\"/directory/abrahamhabib/\">Abraham Habib</a>, Senior Lecturer, Accounting and Finance</li>\\n<li><a href=\"/directory/thomashogan/\">Thomas J. Hogan</a>, Associate Professor of Accounting</li>\\n<li><a href=\"/directory/tylerhull/\">Tyler J. Hull</a>, Associate Professor of Finance</li>\\n<li><a href=\"/directory/adityakashikar/\">Aditya Kashikar</a>, Assistant Professor of Finance</li>\\n<li><a href=\"/directory/robertkim/\">Robert Kim</a>, Associate Professor of Accounting</li>\\n<li><a href=\"/directory/sangwankim/\">Sangwan Kim</a>, Associate Professor of Accounting, Graduate Program Director, MSA Program</li>\\n<li><a href=\"/directory/martinkonan/\">Martin K. Konan</a>, Senior Lecturer II, Accounting and Finance</li>\\n<li><a href=\"/directory/jaylee/\">Jay Junghun Lee</a>, Associate Professor of Accounting</li>\\n<li><a href=\"/directory/ruili/\">Rui Li</a>, Associate Professor of Financial Economics</li>\\n<li><a href=\"/directory/heminigildmpundu/\">Heminigild Miyanda Mpundu</a>, Lecturer, Accounting</li>\\n<li>Tendai Willard Nyakurimwa, <span>Associate Lecturer</span></li>\\n<li><a href=\"/directory/koeunpark/\">KoEun Park</a>, Associate Professor of Accounting</li>\\n<li><a href=\"/directory/markradding/\">Mark Radding</a>, Senior Lecturer in Accounting</li>\\n<li><a href=\"/directory/leilipourrostami/\">Leili PourRostami</a>, Assistant Professor of Finance</li>\\n<li><a href=\"/directory/zaurrzakhanov/\">Zaur Rzakhanov</a>, Senior Lecturer II in Finance</li>\\n<li><a href=\"/directory/musasharif/\">Musa Sharif</a>, Senior Lecturer, Accounting and Finance</li>\\n<li><a href=\"/directory/yong-chulshin/\">Yong-Chul Shin</a>, Associate Professor of Accounting</li>\\n<li><a href=\"/directory/surjittinaikar/\">Surjit Tinaikar</a>, <span>Department Chair and Associate Professor</span></li>\\n<li><a href=\"/directory/hieutran/\">Hieu Tran</a>, Assistant Professor of Finance</li>\\n<li><a href=\"/directory/chiwan/\">Chi Wan</a>, Associate Professor of Finance, Graduate Program Director, Finance PhD Track</li>\\n<li><a href=\"/directory/wan-tingwu/\">Wan-Ting (Alexandra) Wu</a>, Associate Professor of Accounting</li>\\n<li><a href=\"/directory/xiaoluxu/\">Xiaolu Xu</a>, Associate Professor of Accounting, Graduate Program Director, MBA Program</li>\\n<li><a href=\"/directory/kunyu/\">Kun Yu</a>, Associate Professor of Accounting</li>\\n<li><a href=\"/directory/yijiazhao/\">Yijia (Eddie) Zhao</a>, Associate Professor of Finance, Graduate Program Director, MSF Program</li>\\n<!-- li><a href=\"https://www.umb.edu/directory/lal_chugh\" rel=\"noopener\">Lal Chugh, Professor Emeritus</li --><!-- li><a href=\"https://www.umb.edu/directory/kiranverma\" rel=\"noopener\">Kiran Verma, Associate Professor of Accounting</li --></ul>\\n<h3>Management</h3>\\n<ul>\\n<li><a href=\"/directory/kathrynarchard/\">Kate Archard</a>, Senior Lecturer II, Director, Writing Program</li>\\n<li><a href=\"/directory/margaretcadieux/\">Margaret Cadieux</a>, Senior Lecturer II, Business Communications</li>\\n<li><a href=\"/directory/edwardcarberry/\">Edward J. Carberry</a>, Associate Professor of Management</li>\\n<li><a href=\"/directory/alessiacontu/\">Alessia Contu</a>, Professor of Management</li>\\n<li><a href=\"/directory/janetdangelo/\">Janet Margaret D&rsquo;Angelo</a>, Lecturer</li>\\n<li><a href=\"/directory/silviadorado/\">Silvia Dorado-Banacloche</a>, Professor of Management, Graduate Program Director, Organizations and Social Change PhD Track</li>\\n<li><a href=\"/directory/samanthaerskine/\">Samantha E. Erskine</a>, Assistant Professor of Management</li>\\n<li><a href=\"/directory/paceyfoster/\">Pacey C. Foster</a>, Associate Professor of Management</li>\\n<li><a href=\"/directory/michelegiargiari/\">Michele Giargiari</a>, Senior Lecturer Business Communication</li>\\n<li><a href=\"/directory/janicegoldman/\">Janice Goldman</a>, Senior Lecturer II, Management</li>\\n<li><a href=\"/directory/mohsinhabib/\">Mohsin Habib</a>, Associate Professor of Management, Department Chair, Management</li>\\n<li><a href=\"/directory/nardiahaigh/\">Nardia Haigh</a>, Associate Professor of Management</li>\\n<li><a href=\"/directory/katherinehatzis/\">Katherine Hatzis</a>, Senior Lecturer III, Business Communications</li>\\n<li><a href=\"/directory/susanjackson/\">Susan A. Jackson</a>, Senior Lecturer II, Management</li>\\n<li><a href=\"/directory/marclavine/\">Marc Lavine</a>, Associate Professor of Management</li>\\n<li>Hyeun Lee, Assistant Professor of Management</li>\\n<li><a href=\"/directory/davidlevy/\">David Levy</a>, Professor of Management/Graduate Program Director (GPD)</li>\\n<li><a href=\"/directory/blichtenstein/\">Benyamin B. Lichtenstein</a>, Associate Professor of Entrepreneurship and Management</li>\\n<li><a href=\"/directory/jamesmccormack/\">James McCormack</a>, Associate Lecturer</li>\\n<li><a href=\"/directory/keithmotley/\">J. Keith Motley</a>, Professor, Chancellor Emeritus</li>\\n<li><a href=\"/directory/matthewoleyer/\">Matthew Oleyer</a>, Associate Lecturer</li>\\n<li><a href=\"/directory/jaredpoole/\">Jared M. Poole</a>, Assistant Professor of Management</li>\\n<li><span><a href=\"/directory/andreareardon/\">Andrea Reardon</a>, Associate Lecturer</span></li>\\n<li><a href=\"/directory/bryanrichardson/\">Bryan Richardson</a>, Senior Lecturer in Business Communication, Marketing and Management</li>\\n<li><a href=\"/directory/johnscialoia/\">John Scialoia</a>, Associate Lecturer</li>\\n<li><a href=\"/directory/maureenscully/\">Maureen A. Scully</a>, Professor of Management/Sharon H. Penney Endowed Professor</li>\\n<li><a href=\"/directory/margaretshamatta/\">Margaret Batista Shamatta</a>, Lecturer</li>\\n<li><a href=\"/directory/katherinealmeida/\">Katie Almeida Spencer</a>, Senior Lecturer</li>\\n<li><a href=\"/directory/veselaveleva/\">Vesela Veleva</a>, Senior Lecturer II in Management</li>\\n<li><a href=\"/directory/charleswibiralske/\">Charles Wibiralske</a>, Lecturer</li>\\n<!-- li><a href=\"https://www.umb.edu/directory/arthurgoldsmith\" rel=\"noopener\">Arthur Goldsmith, Professor Emeritus</li --></ul>\\n<h3>Management Science &amp; Information Systems</h3>\\n<ul><!-- li><a href=\"https://www.umb.edu/directory/noushin_ashrafi\" rel=\"noopener\">Noushin Ashrafi, Professor Emeritus</li -->\\n<li><a href=\"/directory/jasonagress/\">Jason Agress</a>, <span>Associate Lecturer</span></li>\\n<li><a href=\"/directory/rayyagari/\">Ramakrishna Ayyagari</a>, Associate Professor of Management Information Systems</li>\\n<li><a href=\"/directory/pratyushbharati/\">Pratyush Bharati</a>, Professor of Management Information Systems</li>\\n<li><a href=\"/directory/fahimehchomachaei/\">Fahimeh Chomachaei</a>, Assistant Professor of Management Science and Information Systems</li>\\n<li><a href=\"/directory/paulcleary/\">Paul F. Cleary</a>, Lecturer, Management Science and Information Systems</li>\\n<li><a href=\"/directory/edwardcook/\">Edward R. Cook</a>, Senior Lecturer</li>\\n<li><a href=\"/directory/melaniedalessandro/\">Melanie D\\'Alessandro</a>, Lecturer</li>\\n<li><a href=\"/directory/michaeldotto/\">Michael Anthony Dotto</a>, Lecturer, Management Science and Information Systems</li>\\n<li><a href=\"/directory/kuidu/\">Kui Du</a>, Associate Professor, Department of Management Science and Information Systems</li>\\n<li><a href=\"/directory/ehsanelahi/\">Ehsan Elahi</a>, Associate Professor of Management Science/Graduate Program Director (GPD)</li>\\n<li><a href=\"/directory/skylereno/\">Skyler Eno</a>, <span>Associate Lecturer</span></li>\\n<li><a href=\"/directory/richardfiorentino/\">Richard Fiorentino</a>, <span>Associate Lecturer</span></li>\\n<li><a href=\"/directory/jonfrankel/\">Jonathan Frankel</a>, Senior Lecturer II, Management Science &amp; Information Systems</li>\\n<li>Ariana Ghahari, <span>Associate Lecturer</span></li>\\n<li><a href=\"/directory/davoodgolmohammadi/\">Davood Golmohammadi</a>, Associate Professor of Management Science and Information Systems</li>\\n<li><a href=\"/directory/vivianhatziyannis/\">Vivian M. Hatziyannis</a>, Senior Lecturer of Management Science and Information Systems</li>\\n<li><a href=\"/directory/shanjiang/\">Shan Jiang</a>, Assistant Professor of Management Information Systems/Director of AoL</li>\\n<li><a href=\"/directory/jeffkeisler/\">Jeffrey M. Keisler</a>, Professor of Management Information Systems</li>\\n<li><a href=\"/directory/georgekelley/\">George Kelley</a>, Senior Lecturer, Management Science and Information Systems</li>\\n<li><a href=\"/directory/jonathankim/\">Jongwoo (Jonathan) Kim</a>, Professor of Management Information Systems</li>\\n<li><a href=\"/directory/daniellee/\">One-Ki Daniel Lee</a>, Associate Professor of Management Science and Information Systems</li>\\n<li><a href=\"/directory/josephinenamayanja/\">Josephine Namayanja</a>, Lecturer</li>\\n<li><a href=\"/directory/markstone/\">Mark H. Stone</a>, Senior Lecturer, Management Science and Information Systems</li>\\n<li><a href=\"/directory/romillasyed/\">Romilla Syed</a>, Associate Professor of Management Science and Information Systems/Graduate Program Director (GPD)</li>\\n<li><a href=\"/directory/nelsonvelez/\">Nelson Velez</a>, Senior Lecturer, Management Information Systems</li>\\n<li><a href=\"/directory/yuchenwang/\">Edwin (Yuchen) Wang</a>, Assistant Professor</li>\\n<li><a href=\"/directory/sunyoungwhang/\">Sun-young (Sunny) Whang</a>, Assistant Professor</li>\\n<li><a href=\"/directory/tongwu/\">Tong (Torrie) Wu</a>, Assistant Professor of Management Science &amp; Information Systems</li>\\n<li><a href=\"/directory/pengxu/\">Peng Xu</a>, Associate Professor, Department Chair, Management Science and Information Systems</li>\\n<li><a href=\"/directory/weizhang/\">Wei Zhang</a>, Professor of Management Information Systems</li>\\n<li><a href=\"/directory/leizheng/\">Lei (Nico) Zheng</a>, Assistant Professor</li>\\n</ul>\\n<h3>Marketing</h3>\\n<ul>\\n<li><a href=\"/directory/gaksu/\">G. Ceren (Gerry) Aksu</a>, Assistant Professor, Marketing</li>\\n<li><a href=\"/directory/wernerkunz/\">Werner H. Kunz</a>, Professor of Marketing</li>\\n<li><a href=\"/directory/raymondliu/\">Raymond R. Liu</a>, Professor of Marketing, Department Chair, Marketing Department</li>\\n<li><a href=\"/directory/paulnapolitano/\">Paul Napolitano</a>, <span>Associate Lecturer</span></li>\\n<li><a href=\"/directory/zacharyscola/\">Zachary Scola</a>, Assistant Professor</li>\\n<li><span><a href=\"/directory/scotttodaro/\">Scott Todaro</a>, Lecturer</span></li>\\n<li><a href=\"/directory/vincentxie/\">Guang-Xin Xie</a>, Associate Professor of Marketing, Director of AACSB Relationships</li>\\n<li><a href=\"/directory/shanyu/\">Shan Yu</a>, Assistant Professor of Marketing</li>\\n<li><a href=\"/directory/juruizhang/\">Jurui Zhang</a>, Associate Professor of Marketing</li>\\n<li><a href=\"/directory/leonzurawicki/\">Leon Zurawicki</a>, Professor of Marketing in Management and Marketing Department</li>\\n</ul>\\n<h3><span>Emeritus Professors</span></h3>\\n<ul>\\n<li><a href=\"https://scholar.google.com/citations?user=exSf2PsAAAAJ&amp;hl=en\" target=\"_blank\" rel=\"noopener\"><span>Arthur Goldsmith</span></a><span></span></li>\\n<li><span>Noushin Ashrafi</span><span></span></li>\\n<li><span>Lal C. Chugh</span></li>\\n<li><span>James L. Grant</span><span></span></li>\\n</ul>\\r\\n    </div>\\r\\n  </div>\\r\\n</div>\\r\\n</div>\\r\\n</div>\\r\\n<div class=\"mt-l lg:hidden\">\\r\\n   \\r\\n</div>\\r\\n</div>\\r\\n</div>\\r\\n</div>\\r\\n</main>\\r\\n\\r\\n</div>\\r\\n\\r\\n<footer class=\"footer\">\\r\\n  <div class=\"box bg-blue invert\">\\r\\n    <div class=\"footer__main wrapper\">\\r\\n      <div class=\"footer__top\">\\r\\n        <div class=\"footer__branding flow\">\\r\\n          <a href=\"/\" class=\"footer__logo\">\\r\\n            <span class=\"screen-reader-text\">UMass</span>\\r\\n            \\r\\n                  <span class=\"svg svg--logo logo__main\">\\r\\n                    <figure><img src=\"/media/umassboston/content-assets/images/branding-assets/umb-logo-white-249x139-tm.svg\" alt=\"UMass Boston logo in white with trademark\" style=\"width : -1px; height : -1px;     \" /></figure>\\r\\n                  </span>\\r\\n                \\r\\n          </a>\\r\\n          <address>\\r\\n            <p>100 Morrissey Blvd.<br />Boston, MA 02125<br /><a href=\"tel:617.287.5000\">617.287.5000</a></p>\\r\\n          </address>\\r\\n          <a href=\"/contact/\" class=\"button button--secondary\">Contact UMass Boston</a>\\r\\n        </div>\\r\\n        <div id=\"nav-footer\" class=\"footer__additional cluster\">\\r\\n          <ul class=\"footer__menu\">\\n<li><a href=\"/directory/\">Directory</a></li>\\n<li><a href=\"https://hr.umb.edu/\">Employment</a></li>\\n<li><a href=\"/crtix/\">Civil Rights &amp; Title IX</a></li>\\n<li><a href=\"/map/\">Map</a></li>\\n<li><a href=\"/campus-life/safety-security/\">Safety &amp; Security</a></li>\\n<li><a href=\"/transportation/\">Transportation</a></li>\\n<li><a href=\"/text-only/\">Document Converter</a></li>\\n<li><a href=\"/marketing/website/\">Website Requests</a></li>\\n</ul>\\r\\n\\r\\n          <a href=\"#top\" class=\"back-to-top\">Back To Top</a>\\r\\n        </div>\\r\\n      </div>\\r\\n      <ul class=\"cluster social-links\">\\r\\n        <li>\\r\\n          <a href=\"https://www.instagram.com/umassboston\">\\r\\n            <span class=\"screen-reader-text\">Instagram</span>\\r\\n            \\r\\n                  <span class=\"svg svg--social-instagram \">\\r\\n                    <svg xmlns=\"http://www.w3.org/2000/svg\" viewBox=\"0 0 23 23\"><path d=\"M11.5.111c-3.09 0-3.48.014-4.694.068C5.592.236 4.765.427 4.04.71a5.576 5.576 0 00-2.017 1.314A5.59 5.59 0 00.709 4.04c-.282.723-.474 1.552-.53 2.762-.054 1.217-.068 1.604-.068 4.7 0 3.092.014 3.479.068 4.693.057 1.213.248 2.04.53 2.765.292.749.68 1.383 1.314 2.017a5.558 5.558 0 002.016 1.314c.726.282 1.552.474 2.765.53 1.215.054 1.602.068 4.696.068 3.094 0 3.48-.014 4.695-.068 1.212-.057 2.042-.248 2.766-.53a5.575 5.575 0 002.016-1.314 5.593 5.593 0 001.314-2.017c.28-.725.473-1.552.53-2.765.054-1.214.068-1.601.068-4.695 0-3.094-.014-3.48-.068-4.696-.057-1.212-.25-2.04-.53-2.764a5.59 5.59 0 00-1.314-2.017A5.568 5.568 0 0018.96.709c-.726-.282-1.555-.474-2.766-.53-1.216-.054-1.602-.068-4.697-.068h.004-.001zm-1.02 2.053H11.5c3.041 0 3.401.01 4.602.065 1.11.05 1.714.237 2.115.392.531.206.911.454 1.31.853.398.398.645.777.851 1.31.157.4.342 1.003.392 2.113.055 1.2.066 1.56.066 4.6 0 3.04-.01 3.401-.066 4.601-.05 1.11-.237 1.713-.392 2.114a3.516 3.516 0 01-.853 1.309 3.519 3.519 0 01-1.31.85c-.398.158-1.002.343-2.113.394-1.2.054-1.56.067-4.602.067-3.04 0-3.402-.013-4.602-.067-1.11-.051-1.713-.236-2.114-.393a3.528 3.528 0 01-1.31-.851 3.53 3.53 0 01-.854-1.31c-.155-.4-.342-1.004-.392-2.114-.054-1.2-.065-1.56-.065-4.603 0-3.04.011-3.4.065-4.6.052-1.11.237-1.713.393-2.115.207-.53.454-.911.853-1.31a3.519 3.519 0 011.31-.85c.401-.158 1.003-.343 2.114-.394 1.05-.048 1.458-.062 3.58-.064v.003zm7.1 1.89a1.367 1.367 0 100 2.734 1.367 1.367 0 000-2.733zm-6.079 1.598a5.85 5.85 0 10-.182 11.698A5.85 5.85 0 0011.5 5.652zm0 2.051a3.797 3.797 0 110 7.594 3.797 3.797 0 010-7.594z\"/></svg>\\r\\n                  </span>\\r\\n                \\r\\n          </a>\\r\\n        </li>\\r\\n        <li>\\r\\n          <a href=\"https://www.facebook.com/umassboston\">\\r\\n            <span class=\"screen-reader-text\">Facebook</span>\\r\\n            \\r\\n                  <span class=\"svg svg--social-facebook \">\\r\\n                    <svg viewBox=\"0 0 512 512\" xml:space=\"preserve\" xmlns=\"http://www.w3.org/2000/svg\" fill-rule=\"evenodd\" clip-rule=\"evenodd\" stroke-linejoin=\"round\" stroke-miterlimit=\"2\">\\r\\n  <path d=\"M512 257.555c0-141.385-114.615-256-256-256S0 116.17 0 257.555c0 127.777 93.616 233.685 216 252.89v-178.89h-65v-74h65v-56.4c0-64.16 38.219-99.6 96.695-99.6 28.009 0 57.305 5 57.305 5v63h-32.281c-31.801 0-41.719 19.733-41.719 39.978v48.022h71l-11.35 74H296v178.89c122.385-19.205 216-125.113 216-252.89Z\" fill-rule=\"nonzero\"/>\\r\\n</svg>\\r\\n                  </span>\\r\\n                \\r\\n          </a>\\r\\n        </li>        \\r\\n        <li>\\r\\n          <a href=\"https://www.linkedin.com/school/umass-boston\">\\r\\n            <span class=\"screen-reader-text\">LinkedIn</span>\\r\\n            \\r\\n                  <span class=\"svg svg--social-linkedIn \">\\r\\n                    <svg xmlns=\"http://www.w3.org/2000/svg\" viewBox=\"0 0 20 19\"><path d=\"M4.793 18.611V6.316H.635v12.295h4.158zM2.715 4.636c1.45 0 2.351-.942 2.351-2.123C5.04 1.306 4.166.389 2.742.389 1.32.389.39 1.308.39 2.513c0 1.18.902 2.123 2.298 2.123h.028zm8.5 13.975v-6.866c0-.368.027-.736.138-.998.3-.733.983-1.494 2.133-1.494 1.505 0 2.106 1.127 2.106 2.78v6.578h4.158V11.56c0-3.778-2.05-5.534-4.787-5.534-2.206 0-3.195 1.191-3.749 2.03v.043h-.028l.028-.043V6.316H7.058c.052 1.154 0 12.295 0 12.295h4.156z\"/></svg>\\r\\n                  </span>\\r\\n                \\r\\n          </a>\\r\\n        </li>\\r\\n        \\r\\n        <li>\\r\\n           <a href=\"https://www.tiktok.com/@umassboston\">\\r\\n                    <span class=\"screen-reader-text\">TikTok</span>\\r\\n\\r\\n                          <span class=\"svg svg--social-linkedIn \">\\r\\n                            <svg id=\"Layer_1\" xmlns=\"http://www.w3.org/2000/svg\" viewBox=\"0 0 42 42\"><defs><style>.cls-1{fill:#fff;fill-rule:evenodd;stroke-width:0px;}</style></defs><path class=\"cls-1\" d=\"m23.82064173634717,29.578695804866584c-.108884619814489,2.845529932004865-2.505188850601371,5.1292112699266-5.442802930840116,5.1292112699266-.671563941243221,0-1.314503391698054-.119668251911207-1.908497178175821-.338268218889425.593993786477768.218599966978218,1.237142896690784.338268218889425,1.908702882088619.338268218889425,2.937618036084132,0,5.333918311025627-2.283681337921735,5.443012590600119-5.129005566013802l.010368268427555-25.409217961624563h4.749466021479748c.457730766891473,2.41558897271716,1.924878330242791,4.488346659916715,3.957403100972442,5.783353672005433.000621067585598.000828749421999.001451794931199.00165947676669.002072862516798.002488226189598,1.414882945842692.901155222154557,3.101876567183353,1.426914646882324,4.912897781079664,1.426914646882324v1.411358288392876l.000205703912798.000205703914617v4.927621434299908c-3.364034337926569,0-6.481255625916674-1.05172455337015-9.025642939654063-2.836613458508509v12.884529689243209c0,6.434798188129207-5.356525962331943,11.6697847840951-11.940859028340128,11.6697847840951-2.544177653976476,0-4.903561988062393-.784178922418505-6.84295826761354-2.115063466182619-.001040387103785-.001040387101966-.002076818362184-.002282522273163-.00331895353429-.003318953535199-3.077405713117514-2.112994559513027-5.09416248767684-5.605819326767232-5.09416248767684-9.552644499552116,0-6.43459248421641,5.356522006489286-11.669788739944124,11.94085507249838-11.669788739944124.546294213516376,0,1.081800839087919.043969211598778,1.609012058746885.113865028037253v1.501990641692828c-6.006724387442773.13708979108651-10.931442231881192,4.627511291440896-11.5851653144382,10.362334663141155.654344150143515-5.734198348267455,5.578646630909134-10.223998781038063,11.584955654679106-10.361088572124572v4.97055025879672c-.50937431681632-.155757421274757-1.047784532249352-.24638977457289-1.609217762661501-.24638977457289-3.006884873245326,0-5.4531711992704,2.391114162805025-5.4531711992704,5.329768630148465,0,2.046417696608842,1.187987572956445,3.824459034920437,2.923721154361374,4.717111169324198v.000205703916436c.756800522646699.389290701223217,1.61647673731477.612246052991395,2.52924434099441.612246052991395,2.937614080238745,0,5.333918311026537-2.283685293765302,5.443008634753824-5.12900556601744l.010372224274761-25.409425643459144h6.487478169313363c0,.549609211208008.054131776116265,1.086775313546241.153059535328794,1.609010080825101h-4.74946206563618l-.010577928187558,25.409012257711765Z\"/></svg>\\r\\n                          </span>\\r\\n\\r\\n                  </a>\\r\\n                </li>\\t        \\r\\n        <li>\\r\\n          <a href=\"https://www.youtube.com/user/umassboston\">\\r\\n            <span class=\"screen-reader-text\">YouTube</span>\\r\\n            \\r\\n                  <span class=\"svg svg--social-youtube \">\\r\\n                    <svg xmlns=\"http://www.w3.org/2000/svg\" viewBox=\"0 0 23 17\"><path d=\"M11.573.528h.127c1.17.004 7.1.047 8.699.475a2.857 2.857 0 012.014 2.015c.144.539.245 1.252.314 1.989l.014.147.031.369.012.147c.092 1.297.103 2.512.105 2.777v.106a45.354 45.354 0 01-.117 2.923l-.011.149-.013.147c-.071.812-.177 1.617-.335 2.21a2.852 2.852 0 01-2.014 2.015c-1.652.443-7.929.474-8.799.475h-.202c-.44 0-2.26-.008-4.167-.074l-.242-.008-.124-.006-.243-.01-.244-.01c-1.58-.07-3.085-.181-3.778-.368a2.852 2.852 0 01-2.015-2.014c-.158-.591-.263-1.398-.334-2.21l-.012-.149-.011-.147A44.39 44.39 0 01.11 8.587v-.174c.003-.305.014-1.36.091-2.523l.01-.146.004-.074.012-.147.031-.369.014-.147c.069-.737.17-1.452.314-1.99A2.852 2.852 0 012.6 1.004C3.295.819 4.8.705 6.38.634l.242-.01.245-.008.122-.005.243-.01A142.57 142.57 0 0111.3.53h.274V.528zm-2.35 4.554v6.835L15.14 8.5 9.223 5.08z\"/></svg>\\r\\n                  </span>\\r\\n                \\r\\n          </a>\\r\\n        </li>\\r\\n\\r\\n                \\r\\n                \\r\\n      </ul>\\r\\n    </div>\\r\\n  </div>\\r\\n  <div class=\"wrapper\">\\r\\n    <div class=\"cluster copyright\">\\r\\n     \\r\\n<p class=\"direct-edit\">Copyright <a class=\"t4Edit-page\" href=\"https://umassbostonedu-cms01-production.terminalfour.net/terminalfour/page/directEdit#edit/2/en/16598\">\\xc2\\xa9</a> <span id=\"copyrightYear\"></span> University of Massachusetts Boston</p>\\r\\n<ul class=\"cluster copyright__links\">\\n<li><a href=\"https://www.massachusetts.edu/\">UMass System</a></li>\\n<li><a href=\"/accessibility-statement/\">Accessibility Statement</a></li>\\n<li><a href=\"/privacy-terms/\">Privacy &amp; Terms</a></li>\\n</ul>\\r\\n\\r\\n    </div>\\r\\n  </div>\\r\\n</footer>\\r\\n\\r\\n</div>\\r\\n\\r\\n<script src=\"/media/umassboston/site-assets/javascript/jquery.3.5.1.min.js\"></script><!--jquery-->\\n<!--<script src=\"/media/umassboston/site-assets/javascript/emergency.js\"></script>--><!--emergency.js-->\\n<!--<script src=\"/media/umassboston/site-assets/javascript/main-1.js\"></script>--><!--main.js-->\\n<script src=\"/media/umassboston/site-assets/javascript/t4-extras-js.js\"></script><!--t4-extras.js--> \\r\\n  <script src=\"/media/umassboston/site-assets/javascript/emergency.js\"></script><!--emergency.js-->\\r\\n\\r\\n<script type=\"text/javascript\" src=\"/media/umassboston/staff-directory/removeDuplicateFeaturedProfile.js\"></script> <!-- remove duplicated featured profile -->\\r\\n<!-- t4 type=\"navigation\" name=\"Get jQuery Source Destination Classes\" id=\"521\" / --> \\r\\n<!-- t4 type=\"navigation\" name=\"Get jQuery Sort Code\" id=\"523\" / --> \\r\\n<script src=\"/media/umassboston/site-assets/javascript/automated-faculty-staff-list-jquery-sort.js\"></script><!--automated-faculty-staff-list-jquery-sort.js-->\\r\\n<script src=\"/media/umassboston/site-assets/javascript/character-word-count-footer.js\"></script><!--character-word-count-footer.js-->\\r\\n</body>\\r\\n</html>\\r\\n\\r\\n'\n"
     ]
    }
   ],
   "source": [
    "print(p)"
   ]
  },
  {
   "cell_type": "code",
   "execution_count": 6,
   "id": "dc42fc54-e6a1-40d0-857e-81629ce4bad8",
   "metadata": {},
   "outputs": [
    {
     "data": {
      "text/plain": [
       "-1"
      ]
     },
     "execution_count": 6,
     "metadata": {},
     "output_type": "execute_result"
    }
   ],
   "source": [
    "p.find('<li><a href=\"/directory/', 71000)"
   ]
  },
  {
   "cell_type": "code",
   "execution_count": 7,
   "id": "99b4e6e6-aa3d-4c2a-809f-f8cfa845a369",
   "metadata": {},
   "outputs": [
    {
     "data": {
      "text/plain": [
       "24"
      ]
     },
     "execution_count": 7,
     "metadata": {},
     "output_type": "execute_result"
    }
   ],
   "source": [
    "len('<li><a href=\"/directory/')"
   ]
  },
  {
   "cell_type": "code",
   "execution_count": 8,
   "id": "d5a51895-64cf-4158-9fee-14929ecb428b",
   "metadata": {},
   "outputs": [
    {
     "data": {
      "text/plain": [
       "\u001b[1;31mDocstring:\u001b[0m\n",
       "S.find(sub[, start[, end]]) -> int\n",
       "\n",
       "Return the lowest index in S where substring sub is found,\n",
       "such that sub is contained within S[start:end].  Optional\n",
       "arguments start and end are interpreted as in slice notation.\n",
       "\n",
       "Return -1 on failure.\n",
       "\u001b[1;31mType:\u001b[0m      builtin_function_or_method"
      ]
     },
     "metadata": {},
     "output_type": "display_data"
    }
   ],
   "source": [
    "p.find?"
   ]
  },
  {
   "cell_type": "markdown",
   "id": "162c1fa2-7ea5-4460-85c9-18a43e32e9b7",
   "metadata": {},
   "source": [
    "<h3>We know the pattern for staff names in the code now, how do we use string method to extract names out?"
   ]
  },
  {
   "cell_type": "code",
   "execution_count": 9,
   "id": "1ceb5c29-a877-4288-89e3-2e39cae06a8f",
   "metadata": {
    "scrolled": true
   },
   "outputs": [
    {
     "name": "stdout",
     "output_type": "stream",
     "text": [
      "Venky Venkatachalam\n",
      "\n",
      "\n",
      "Lucia Silva-Gao\n",
      "\n",
      "\n",
      "Mine Ertugrul\n",
      "\n",
      "\n",
      "Stephanie Burns\n",
      "\n",
      "\n",
      "Patrick Nelson\n",
      "\n",
      "\n",
      "Vincent Xie\n",
      "\n",
      "\n",
      "Epiphania Godinho\n",
      "\n",
      "\n",
      "Jeannette Monteiro\n",
      "\n",
      "\n",
      "Barbara Benoit\n",
      "\n",
      "\n",
      "Tara Norton\n",
      "\n",
      "\n",
      "Stephanie Zuehlke\n",
      "\n",
      "\n",
      "Steve Sze\n",
      "\n",
      "\n",
      "Amy Daubney Mei\n",
      "\n",
      "\n",
      "Mara (Sidman) Gould\n",
      "\n",
      "\n",
      "Rebecca Meaney\n",
      "\n",
      "\n",
      "Christyn Carey\n",
      "\n",
      "\n",
      "Karwan Salih\n",
      "\n",
      "\n",
      "Leona Thomas\n",
      "\n",
      "\n",
      "Blerina Mance\n",
      "\n",
      "\n",
      "Trent Watson\n",
      "\n",
      "\n",
      "Tanya Barnett\n",
      "\n",
      "\n",
      "Cathleen Johnson\n",
      "\n",
      "\n",
      "Mehran Azimi\n",
      "\n",
      "\n",
      "Arindam Bandopadhyaya\n",
      "\n",
      "\n",
      "Kristen Callahan\n",
      "\n",
      "\n",
      "Atreya Chakraborty\n",
      "\n",
      "\n",
      "Ting Chen\n",
      "\n",
      "\n",
      "Mine Ertugrul\n",
      "\n",
      "\n",
      "Lucia S. Gao\n",
      "\n",
      "\n",
      "Abraham Habib\n",
      "\n",
      "\n",
      "Thomas J. Hogan\n",
      "\n",
      "\n",
      "Tyler J. Hull\n",
      "\n",
      "\n",
      "Aditya Kashikar\n",
      "\n",
      "\n",
      "Robert Kim\n",
      "\n",
      "\n",
      "Sangwan Kim\n",
      "\n",
      "\n",
      "Martin K. Konan\n",
      "\n",
      "\n",
      "Jay Junghun Lee\n",
      "\n",
      "\n",
      "Rui Li\n",
      "\n",
      "\n",
      "Heminigild Miyanda Mpundu\n",
      "\n",
      "\n",
      "KoEun Park\n",
      "\n",
      "\n",
      "Mark Radding\n",
      "\n",
      "\n",
      "Leili PourRostami\n",
      "\n",
      "\n",
      "Zaur Rzakhanov\n",
      "\n",
      "\n",
      "Musa Sharif\n",
      "\n",
      "\n",
      "Yong-Chul Shin\n",
      "\n",
      "\n",
      "Surjit Tinaikar\n",
      "\n",
      "\n",
      "Hieu Tran\n",
      "\n",
      "\n",
      "Chi Wan\n",
      "\n",
      "\n",
      "Wan-Ting (Alexandra) Wu\n",
      "\n",
      "\n",
      "Xiaolu Xu\n",
      "\n",
      "\n",
      "Kun Yu\n",
      "\n",
      "\n",
      "Yijia (Eddie) Zhao\n",
      "\n",
      "\n",
      "Kate Archard\n",
      "\n",
      "\n",
      "Margaret Cadieux\n",
      "\n",
      "\n",
      "Edward J. Carberry\n",
      "\n",
      "\n",
      "Alessia Contu\n",
      "\n",
      "\n",
      "Janet Margaret D&rsquo;Angelo\n",
      "\n",
      "\n",
      "Silvia Dorado-Banacloche\n",
      "\n",
      "\n",
      "Samantha E. Erskine\n",
      "\n",
      "\n",
      "Pacey C. Foster\n",
      "\n",
      "\n",
      "Michele Giargiari\n",
      "\n",
      "\n",
      "Janice Goldman\n",
      "\n",
      "\n",
      "Mohsin Habib\n",
      "\n",
      "\n",
      "Nardia Haigh\n",
      "\n",
      "\n",
      "Katherine Hatzis\n",
      "\n",
      "\n",
      "Susan A. Jackson\n",
      "\n",
      "\n",
      "Marc Lavine\n",
      "\n",
      "\n",
      "David Levy\n",
      "\n",
      "\n",
      "Benyamin B. Lichtenstein\n",
      "\n",
      "\n",
      "James McCormack\n",
      "\n",
      "\n",
      "J. Keith Motley\n",
      "\n",
      "\n",
      "Matthew Oleyer\n",
      "\n",
      "\n",
      "Jared M. Poole\n",
      "\n",
      "\n",
      "Andrea Reardon\n",
      "\n",
      "\n",
      "Bryan Richardson\n",
      "\n",
      "\n",
      "John Scialoia\n",
      "\n",
      "\n",
      "Maureen A. Scully\n",
      "\n",
      "\n",
      "Margaret Batista Shamatta\n",
      "\n",
      "\n",
      "Katie Almeida Spencer\n",
      "\n",
      "\n",
      "Vesela Veleva\n",
      "\n",
      "\n",
      "Charles Wibiralske\n",
      "\n",
      "\n",
      "Jason Agress\n",
      "\n",
      "\n",
      "Ramakrishna Ayyagari\n",
      "\n",
      "\n",
      "Pratyush Bharati\n",
      "\n",
      "\n",
      "Fahimeh Chomachaei\n",
      "\n",
      "\n",
      "Paul F. Cleary\n",
      "\n",
      "\n",
      "Edward R. Cook\n",
      "\n",
      "\n",
      "Melanie D\\'Alessandro\n",
      "\n",
      "\n",
      "Michael Anthony Dotto\n",
      "\n",
      "\n",
      "Kui Du\n",
      "\n",
      "\n",
      "Ehsan Elahi\n",
      "\n",
      "\n",
      "Skyler Eno\n",
      "\n",
      "\n",
      "Richard Fiorentino\n",
      "\n",
      "\n",
      "Jonathan Frankel\n",
      "\n",
      "\n",
      "Davood Golmohammadi\n",
      "\n",
      "\n",
      "Vivian M. Hatziyannis\n",
      "\n",
      "\n",
      "Shan Jiang\n",
      "\n",
      "\n",
      "Jeffrey M. Keisler\n",
      "\n",
      "\n",
      "George Kelley\n",
      "\n",
      "\n",
      "Jongwoo (Jonathan) Kim\n",
      "\n",
      "\n",
      "One-Ki Daniel Lee\n",
      "\n",
      "\n",
      "Josephine Namayanja\n",
      "\n",
      "\n",
      "Mark H. Stone\n",
      "\n",
      "\n",
      "Romilla Syed\n",
      "\n",
      "\n",
      "Nelson Velez\n",
      "\n",
      "\n",
      "Edwin (Yuchen) Wang\n",
      "\n",
      "\n",
      "Sun-young (Sunny) Whang\n",
      "\n",
      "\n",
      "Tong (Torrie) Wu\n",
      "\n",
      "\n",
      "Peng Xu\n",
      "\n",
      "\n",
      "Wei Zhang\n",
      "\n",
      "\n",
      "Lei (Nico) Zheng\n",
      "\n",
      "\n",
      "G. Ceren (Gerry) Aksu\n",
      "\n",
      "\n",
      "Werner H. Kunz\n",
      "\n",
      "\n",
      "Raymond R. Liu\n",
      "\n",
      "\n",
      "Paul Napolitano\n",
      "\n",
      "\n",
      "Zachary Scola\n",
      "\n",
      "\n",
      "Scott Todaro\n",
      "\n",
      "\n",
      "Guang-Xin Xie\n",
      "\n",
      "\n",
      "Shan Yu\n",
      "\n",
      "\n",
      "Jurui Zhang\n",
      "\n",
      "\n",
      "Leon Zurawicki\n",
      "\n",
      "\n",
      "Directory\n",
      "\n",
      "\n",
      "all found, end loop\n"
     ]
    }
   ],
   "source": [
    "url = 'https://www.umb.edu/business/faculty--staff/'\n",
    "page = requests.get(url)\n",
    "p = str(page.content)\n",
    "\n",
    "j = 0\n",
    "for i in range(500):\n",
    "    j = p.find('<a href=\"/directory/', j + 1) # Make sure it is j + 1, read .find() document to find out why +1\n",
    "\n",
    "    if j != -1:\n",
    "        sliced = p[j+20:j+20+100] # +100 to make sure we capture long names fully, make your judgement call for the value for other tasks\n",
    "        \n",
    "        start_ind = sliced.find('>') + 1 # Index where the actual name begin, + 1 because the original index returned indicates the index of >\n",
    "        end_ind = sliced.find('</a>') # Right hand side exclusive, so no need to - 1\n",
    "        \n",
    "        name = sliced[start_ind:end_ind]\n",
    "        print(name)\n",
    "        print('\\n')\n",
    "    else:\n",
    "        print('all found, end loop')\n",
    "        break\n",
    "    "
   ]
  },
  {
   "cell_type": "code",
   "execution_count": null,
   "id": "a6729e49-2dd6-4799-9fce-032047835db7",
   "metadata": {},
   "outputs": [],
   "source": []
  },
  {
   "cell_type": "markdown",
   "id": "8fbd914b-6a6d-462c-8064-5634050a74d4",
   "metadata": {},
   "source": [
    "<h3>Regular Expression can be easier for finding these patterns"
   ]
  },
  {
   "cell_type": "code",
   "execution_count": 10,
   "id": "e8c3e9bb-5cc2-4dc7-ad55-65a300cf97c2",
   "metadata": {},
   "outputs": [],
   "source": [
    "import re # regular expression package in Python\n",
    "\n",
    "pattern = '<a href=\"/directory.*?\">(.*?)</a>'\n",
    "\n",
    "match = re.compile(pattern, re.S|re.I).findall(p)"
   ]
  },
  {
   "cell_type": "code",
   "execution_count": 11,
   "id": "7f219cc9-d008-4cb2-98e7-d4a4d684b96f",
   "metadata": {
    "scrolled": true
   },
   "outputs": [
    {
     "name": "stdout",
     "output_type": "stream",
     "text": [
      "Venky Venkatachalam\n",
      "Lucia Silva-Gao\n",
      "Mine Ertugrul\n",
      "Stephanie Burns\n",
      "Patrick Nelson\n",
      "Vincent Xie\n",
      "Epiphania Godinho\n",
      "Jeannette Monteiro\n",
      "Barbara Benoit\n",
      "Tara Norton\n",
      "Stephanie Zuehlke\n",
      "Steve Sze\n",
      "Amy Daubney Mei\n",
      "Mara (Sidman) Gould\n",
      "Rebecca Meaney\n",
      "Christyn Carey\n",
      "Karwan Salih\n",
      "Leona Thomas\n",
      "Blerina Mance\n",
      "Trent Watson\n",
      "Tanya Barnett\n",
      "Cathleen Johnson\n",
      "Mehran Azimi\n",
      "Arindam Bandopadhyaya\n",
      "Kristen Callahan\n",
      "Atreya Chakraborty\n",
      "Ting Chen\n",
      "Mine Ertugrul\n",
      "Lucia S. Gao\n",
      "Abraham Habib\n",
      "Thomas J. Hogan\n",
      "Tyler J. Hull\n",
      "Aditya Kashikar\n",
      "Robert Kim\n",
      "Sangwan Kim\n",
      "Martin K. Konan\n",
      "Jay Junghun Lee\n",
      "Rui Li\n",
      "Heminigild Miyanda Mpundu\n",
      "KoEun Park\n",
      "Mark Radding\n",
      "Leili PourRostami\n",
      "Zaur Rzakhanov\n",
      "Musa Sharif\n",
      "Yong-Chul Shin\n",
      "Surjit Tinaikar\n",
      "Hieu Tran\n",
      "Chi Wan\n",
      "Wan-Ting (Alexandra) Wu\n",
      "Xiaolu Xu\n",
      "Kun Yu\n",
      "Yijia (Eddie) Zhao\n",
      "Kate Archard\n",
      "Margaret Cadieux\n",
      "Edward J. Carberry\n",
      "Alessia Contu\n",
      "Janet Margaret D&rsquo;Angelo\n",
      "Silvia Dorado-Banacloche\n",
      "Samantha E. Erskine\n",
      "Pacey C. Foster\n",
      "Michele Giargiari\n",
      "Janice Goldman\n",
      "Mohsin Habib\n",
      "Nardia Haigh\n",
      "Katherine Hatzis\n",
      "Susan A. Jackson\n",
      "Marc Lavine\n",
      "David Levy\n",
      "Benyamin B. Lichtenstein\n",
      "James McCormack\n",
      "J. Keith Motley\n",
      "Matthew Oleyer\n",
      "Jared M. Poole\n",
      "Andrea Reardon\n",
      "Bryan Richardson\n",
      "John Scialoia\n",
      "Maureen A. Scully\n",
      "Margaret Batista Shamatta\n",
      "Katie Almeida Spencer\n",
      "Vesela Veleva\n",
      "Charles Wibiralske\n",
      "Jason Agress\n",
      "Ramakrishna Ayyagari\n",
      "Pratyush Bharati\n",
      "Fahimeh Chomachaei\n",
      "Paul F. Cleary\n",
      "Edward R. Cook\n",
      "Melanie D\\'Alessandro\n",
      "Michael Anthony Dotto\n",
      "Kui Du\n",
      "Ehsan Elahi\n",
      "Skyler Eno\n",
      "Richard Fiorentino\n",
      "Jonathan Frankel\n",
      "Davood Golmohammadi\n",
      "Vivian M. Hatziyannis\n",
      "Shan Jiang\n",
      "Jeffrey M. Keisler\n",
      "George Kelley\n",
      "Jongwoo (Jonathan) Kim\n",
      "One-Ki Daniel Lee\n",
      "Josephine Namayanja\n",
      "Mark H. Stone\n",
      "Romilla Syed\n",
      "Nelson Velez\n",
      "Edwin (Yuchen) Wang\n",
      "Sun-young (Sunny) Whang\n",
      "Tong (Torrie) Wu\n",
      "Peng Xu\n",
      "Wei Zhang\n",
      "Lei (Nico) Zheng\n",
      "G. Ceren (Gerry) Aksu\n",
      "Werner H. Kunz\n",
      "Raymond R. Liu\n",
      "Paul Napolitano\n",
      "Zachary Scola\n",
      "Scott Todaro\n",
      "Guang-Xin Xie\n",
      "Shan Yu\n",
      "Jurui Zhang\n",
      "Leon Zurawicki\n",
      "Directory\n"
     ]
    }
   ],
   "source": [
    "for i in match:\n",
    "    print(i)"
   ]
  },
  {
   "cell_type": "code",
   "execution_count": 12,
   "id": "5e90bce5-7f12-4827-94a0-935167b8c9a5",
   "metadata": {},
   "outputs": [],
   "source": [
    "out_file = open('name_crawled.txt', 'w')\n",
    "for i in match:\n",
    "    out_file.writelines(i+'\\n')\n",
    "\n",
    "out_file.close()"
   ]
  },
  {
   "cell_type": "code",
   "execution_count": 13,
   "id": "0418893f-0b84-42d6-9b10-70cd58217a7e",
   "metadata": {
    "scrolled": true
   },
   "outputs": [
    {
     "name": "stdout",
     "output_type": "stream",
     "text": [
      "Venky Venkatachalam\n",
      "\n",
      "Lucia Silva-Gao\n",
      "\n",
      "Mine Ertugrul\n",
      "\n",
      "Stephanie Burns\n",
      "\n",
      "Patrick Nelson\n",
      "\n",
      "Vincent Xie\n",
      "\n",
      "Epiphania Godinho\n",
      "\n",
      "Jeannette Monteiro\n",
      "\n",
      "Barbara Benoit\n",
      "\n",
      "Tara Norton\n",
      "\n",
      "Stephanie Zuehlke\n",
      "\n",
      "Steve Sze\n",
      "\n",
      "Amy Daubney Mei\n",
      "\n",
      "Mara (Sidman) Gould\n",
      "\n",
      "Rebecca Meaney\n",
      "\n",
      "Christyn Carey\n",
      "\n",
      "Karwan Salih\n",
      "\n",
      "Leona Thomas\n",
      "\n",
      "Blerina Mance\n",
      "\n",
      "Trent Watson\n",
      "\n",
      "Tanya Barnett\n",
      "\n",
      "Cathleen Johnson\n",
      "\n",
      "Mehran Azimi\n",
      "\n",
      "Arindam Bandopadhyaya\n",
      "\n",
      "Kristen Callahan\n",
      "\n",
      "Atreya Chakraborty\n",
      "\n",
      "Ting Chen\n",
      "\n",
      "Mine Ertugrul\n",
      "\n",
      "Lucia S. Gao\n",
      "\n",
      "Abraham Habib\n",
      "\n",
      "Thomas J. Hogan\n",
      "\n",
      "Tyler J. Hull\n",
      "\n",
      "Aditya Kashikar\n",
      "\n",
      "Robert Kim\n",
      "\n",
      "Sangwan Kim\n",
      "\n",
      "Martin K. Konan\n",
      "\n",
      "Jay Junghun Lee\n",
      "\n",
      "Rui Li\n",
      "\n",
      "Heminigild Miyanda Mpundu\n",
      "\n",
      "KoEun Park\n",
      "\n",
      "Mark Radding\n",
      "\n",
      "Leili PourRostami\n",
      "\n",
      "Zaur Rzakhanov\n",
      "\n",
      "Musa Sharif\n",
      "\n",
      "Yong-Chul Shin\n",
      "\n",
      "Surjit Tinaikar\n",
      "\n",
      "Hieu Tran\n",
      "\n",
      "Chi Wan\n",
      "\n",
      "Wan-Ting (Alexandra) Wu\n",
      "\n",
      "Xiaolu Xu\n",
      "\n",
      "Kun Yu\n",
      "\n",
      "Yijia (Eddie) Zhao\n",
      "\n",
      "Kate Archard\n",
      "\n",
      "Margaret Cadieux\n",
      "\n",
      "Edward J. Carberry\n",
      "\n",
      "Alessia Contu\n",
      "\n",
      "Janet Margaret D&rsquo;Angelo\n",
      "\n",
      "Silvia Dorado-Banacloche\n",
      "\n",
      "Samantha E. Erskine\n",
      "\n",
      "Pacey C. Foster\n",
      "\n",
      "Michele Giargiari\n",
      "\n",
      "Janice Goldman\n",
      "\n",
      "Mohsin Habib\n",
      "\n",
      "Nardia Haigh\n",
      "\n",
      "Katherine Hatzis\n",
      "\n",
      "Susan A. Jackson\n",
      "\n",
      "Marc Lavine\n",
      "\n",
      "David Levy\n",
      "\n",
      "Benyamin B. Lichtenstein\n",
      "\n",
      "James McCormack\n",
      "\n",
      "J. Keith Motley\n",
      "\n",
      "Matthew Oleyer\n",
      "\n",
      "Jared M. Poole\n",
      "\n",
      "Andrea Reardon\n",
      "\n",
      "Bryan Richardson\n",
      "\n",
      "John Scialoia\n",
      "\n",
      "Maureen A. Scully\n",
      "\n",
      "Margaret Batista Shamatta\n",
      "\n",
      "Katie Almeida Spencer\n",
      "\n",
      "Vesela Veleva\n",
      "\n",
      "Charles Wibiralske\n",
      "\n",
      "Jason Agress\n",
      "\n",
      "Ramakrishna Ayyagari\n",
      "\n",
      "Pratyush Bharati\n",
      "\n",
      "Fahimeh Chomachaei\n",
      "\n",
      "Paul F. Cleary\n",
      "\n",
      "Edward R. Cook\n",
      "\n",
      "Melanie D\\'Alessandro\n",
      "\n",
      "Michael Anthony Dotto\n",
      "\n",
      "Kui Du\n",
      "\n",
      "Ehsan Elahi\n",
      "\n",
      "Skyler Eno\n",
      "\n",
      "Richard Fiorentino\n",
      "\n",
      "Jonathan Frankel\n",
      "\n",
      "Davood Golmohammadi\n",
      "\n",
      "Vivian M. Hatziyannis\n",
      "\n",
      "Shan Jiang\n",
      "\n",
      "Jeffrey M. Keisler\n",
      "\n",
      "George Kelley\n",
      "\n",
      "Jongwoo (Jonathan) Kim\n",
      "\n",
      "One-Ki Daniel Lee\n",
      "\n",
      "Josephine Namayanja\n",
      "\n",
      "Mark H. Stone\n",
      "\n",
      "Romilla Syed\n",
      "\n",
      "Nelson Velez\n",
      "\n",
      "Edwin (Yuchen) Wang\n",
      "\n",
      "Sun-young (Sunny) Whang\n",
      "\n",
      "Tong (Torrie) Wu\n",
      "\n",
      "Peng Xu\n",
      "\n",
      "Wei Zhang\n",
      "\n",
      "Lei (Nico) Zheng\n",
      "\n",
      "G. Ceren (Gerry) Aksu\n",
      "\n",
      "Werner H. Kunz\n",
      "\n",
      "Raymond R. Liu\n",
      "\n",
      "Paul Napolitano\n",
      "\n",
      "Zachary Scola\n",
      "\n",
      "Scott Todaro\n",
      "\n",
      "Guang-Xin Xie\n",
      "\n",
      "Shan Yu\n",
      "\n",
      "Jurui Zhang\n",
      "\n",
      "Leon Zurawicki\n",
      "\n",
      "Directory\n",
      "\n"
     ]
    }
   ],
   "source": [
    "check_file = open('name_crawled.txt', 'r')\n",
    "for i in check_file:\n",
    "    print(i)"
   ]
  },
  {
   "cell_type": "code",
   "execution_count": null,
   "id": "3d3286b4-1cfe-466c-a059-469b6e8cabfe",
   "metadata": {},
   "outputs": [],
   "source": []
  },
  {
   "cell_type": "code",
   "execution_count": null,
   "id": "726366ac-df27-4fc1-ab7f-af77be62dbf9",
   "metadata": {},
   "outputs": [],
   "source": []
  },
  {
   "cell_type": "code",
   "execution_count": null,
   "id": "e6ca83e3-1806-42e1-98f5-46fc357ccaa5",
   "metadata": {},
   "outputs": [],
   "source": []
  },
  {
   "cell_type": "code",
   "execution_count": null,
   "id": "7783bd50-fa68-4bce-90a3-376ba5c38a7f",
   "metadata": {},
   "outputs": [],
   "source": []
  },
  {
   "cell_type": "code",
   "execution_count": null,
   "id": "7b4f43f9-557a-495a-969f-1c1d6d0a2cc5",
   "metadata": {},
   "outputs": [],
   "source": []
  },
  {
   "cell_type": "code",
   "execution_count": null,
   "id": "a46b4f41-3dfa-4f0b-8171-67e1b00a3cd4",
   "metadata": {},
   "outputs": [],
   "source": []
  },
  {
   "cell_type": "code",
   "execution_count": null,
   "id": "a9cf61e5-73ea-40b9-8c80-fff1faaef800",
   "metadata": {},
   "outputs": [],
   "source": []
  },
  {
   "cell_type": "code",
   "execution_count": null,
   "id": "dc2ee4d2-a2d4-4ae8-82e5-1a1e801c36be",
   "metadata": {},
   "outputs": [],
   "source": []
  },
  {
   "cell_type": "code",
   "execution_count": null,
   "id": "f6d8fd4c-5057-43dc-aad9-096fb7063736",
   "metadata": {},
   "outputs": [],
   "source": []
  },
  {
   "cell_type": "code",
   "execution_count": null,
   "id": "d62edead-0d26-451e-b4d3-979dee0688c5",
   "metadata": {},
   "outputs": [],
   "source": []
  },
  {
   "cell_type": "code",
   "execution_count": null,
   "id": "b1f6376a-33ab-4f2a-81ae-984437745242",
   "metadata": {},
   "outputs": [],
   "source": []
  },
  {
   "cell_type": "code",
   "execution_count": null,
   "id": "0c9fd0c4-c036-437f-af12-27fcbd804c17",
   "metadata": {},
   "outputs": [],
   "source": []
  },
  {
   "cell_type": "code",
   "execution_count": null,
   "id": "9792c831-600c-45d0-af74-2826cc8820af",
   "metadata": {},
   "outputs": [],
   "source": []
  },
  {
   "cell_type": "code",
   "execution_count": null,
   "id": "cf6b5c73-d683-42aa-a827-5a561d778b97",
   "metadata": {},
   "outputs": [],
   "source": []
  },
  {
   "cell_type": "code",
   "execution_count": null,
   "id": "3d3756da-fb09-4d06-83a1-db30d0a2216e",
   "metadata": {},
   "outputs": [],
   "source": []
  },
  {
   "cell_type": "markdown",
   "id": "d15812d0-ee11-4d49-82c5-39759c2b3de3",
   "metadata": {},
   "source": [
    "More crawling using re, find the title of the staff"
   ]
  },
  {
   "cell_type": "code",
   "execution_count": 14,
   "id": "9aaf7f59-b82e-4279-82a2-b977280c402a",
   "metadata": {},
   "outputs": [],
   "source": [
    "pattern = '<a href=\"/directory.*?\">.*?</a>,(.*?)</li>'\n",
    "\n",
    "match = re.compile(pattern, re.S|re.I).findall(p)"
   ]
  },
  {
   "cell_type": "code",
   "execution_count": 15,
   "id": "0c5e8000-d4d3-469f-a392-ac3dd5756c4e",
   "metadata": {
    "scrolled": true
   },
   "outputs": [
    {
     "name": "stdout",
     "output_type": "stream",
     "text": [
      " Dean and Distinguished Professor\n",
      " Associate Dean, Undergraduate Programs, Accreditation, and Faculty, and Professor&nbsp;\n",
      " Associate Dean, Graduate Programs and Research, and Professor&nbsp;\n",
      " Director of Marketing, Communications and Engagement\n",
      " Director of Career Services\n",
      " Director of AACSB Accreditation\n",
      " Director of Scheduling and Program Resource Planning\n",
      " Executive Assistant to the Dean\n",
      " Director, Graduate Enrollment and Strategic Outreach\n",
      " Director, Graduate Program Operations\n",
      " Associate Director, Graduate Program Operations\n",
      " Graduate Programs Assistant\n",
      " Undergraduate Program Director\n",
      " Associate Director, Undergraduate Program Office\n",
      " Assistant Director, Undergraduate Program Office\n",
      " Academic Advisor, Undergraduate Program Office\n",
      " Academic Advisor, Undergraduate Program Office\n",
      " Undergraduate Program Assistant\n",
      " Operations Manager</span>\n",
      " Director, Center for Collaborative Leadership\n",
      " Associate Director, Center for Collaborative Leadership\n",
      " Assistant Professor, Finance\n",
      " Professor of Finance\n",
      " Senior Lecturer II, Finance\n",
      " Professor of Finance, Director, Academic Partnerships and PhD Program\n",
      " Assistant Professor of Accounting\n",
      " Professor of Finance, Associate Dean, Graduate Programs and Research\n",
      " Professor of Finance, Associate Dean, Undergraduate Programs, Accreditation, and Faculty&nbsp;\n",
      " Senior Lecturer, Accounting and Finance\n",
      " Associate Professor of Accounting\n",
      " Associate Professor of Finance\n",
      " Assistant Professor of Finance\n",
      " Associate Professor of Accounting\n",
      " Associate Professor of Accounting, Graduate Program Director, MSA Program\n",
      " Senior Lecturer II, Accounting and Finance\n",
      " Associate Professor of Accounting\n",
      " Associate Professor of Financial Economics\n",
      " Lecturer, Accounting\n",
      " Associate Professor of Accounting\n",
      " Senior Lecturer in Accounting\n",
      " Assistant Professor of Finance\n",
      " Senior Lecturer II in Finance\n",
      " Senior Lecturer, Accounting and Finance\n",
      " Associate Professor of Accounting\n",
      " <span>Department Chair and Associate Professor</span>\n",
      " Assistant Professor of Finance\n",
      " Associate Professor of Finance, Graduate Program Director, Finance PhD Track\n",
      " Associate Professor of Accounting\n",
      " Associate Professor of Accounting, Graduate Program Director, MBA Program\n",
      " Associate Professor of Accounting\n",
      " Associate Professor of Finance, Graduate Program Director, MSF Program\n",
      " Senior Lecturer II, Director, Writing Program\n",
      " Senior Lecturer II, Business Communications\n",
      " Associate Professor of Management\n",
      " Professor of Management\n",
      " Lecturer\n",
      " Professor of Management, Graduate Program Director, Organizations and Social Change PhD Track\n",
      " Assistant Professor of Management\n",
      " Associate Professor of Management\n",
      " Senior Lecturer Business Communication\n",
      " Senior Lecturer II, Management\n",
      " Associate Professor of Management, Department Chair, Management\n",
      " Associate Professor of Management\n",
      " Senior Lecturer III, Business Communications\n",
      " Senior Lecturer II, Management\n",
      " Associate Professor of Management\n",
      " Professor of Management/Graduate Program Director (GPD)\n",
      " Associate Professor of Entrepreneurship and Management\n",
      " Associate Lecturer\n",
      " Professor, Chancellor Emeritus\n",
      " Associate Lecturer\n",
      " Assistant Professor of Management\n",
      " Associate Lecturer</span>\n",
      " Senior Lecturer in Business Communication, Marketing and Management\n",
      " Associate Lecturer\n",
      " Professor of Management/Sharon H. Penney Endowed Professor\n",
      " Lecturer\n",
      " Senior Lecturer\n",
      " Senior Lecturer II in Management\n",
      " Lecturer\n",
      " <span>Associate Lecturer</span>\n",
      " Associate Professor of Management Information Systems\n",
      " Professor of Management Information Systems\n",
      " Assistant Professor of Management Science and Information Systems\n",
      " Lecturer, Management Science and Information Systems\n",
      " Senior Lecturer\n",
      " Lecturer\n",
      " Lecturer, Management Science and Information Systems\n",
      " Associate Professor, Department of Management Science and Information Systems\n",
      " Associate Professor of Management Science/Graduate Program Director (GPD)\n",
      " <span>Associate Lecturer</span>\n",
      " <span>Associate Lecturer</span>\n",
      " Senior Lecturer II, Management Science &amp; Information Systems\n",
      " Associate Professor of Management Science and Information Systems\n",
      " Senior Lecturer of Management Science and Information Systems\n",
      " Assistant Professor of Management Information Systems/Director of AoL\n",
      " Professor of Management Information Systems\n",
      " Senior Lecturer, Management Science and Information Systems\n",
      " Professor of Management Information Systems\n",
      " Associate Professor of Management Science and Information Systems\n",
      " Lecturer\n",
      " Senior Lecturer, Management Science and Information Systems\n",
      " Associate Professor of Management Science and Information Systems/Graduate Program Director (GPD)\n",
      " Senior Lecturer, Management Information Systems\n",
      " Assistant Professor\n",
      " Assistant Professor\n",
      " Assistant Professor of Management Science &amp; Information Systems\n",
      " Associate Professor, Department Chair, Management Science and Information Systems\n",
      " Professor of Management Information Systems\n",
      " Assistant Professor\n",
      " Assistant Professor, Marketing\n",
      " Professor of Marketing\n",
      " Professor of Marketing, Department Chair, Marketing Department\n",
      " <span>Associate Lecturer</span>\n",
      " Assistant Professor\n",
      " Lecturer</span>\n",
      " Associate Professor of Marketing, Director of AACSB Relationships\n",
      " Assistant Professor of Marketing\n",
      " Associate Professor of Marketing\n",
      " Professor of Marketing in Management and Marketing Department\n"
     ]
    }
   ],
   "source": [
    "for i in match:\n",
    "    print(i)"
   ]
  },
  {
   "cell_type": "code",
   "execution_count": null,
   "id": "a641c76c-9e35-4e22-823f-ac14ef68cca6",
   "metadata": {},
   "outputs": [],
   "source": []
  },
  {
   "cell_type": "markdown",
   "id": "00f034e5-4689-4ea6-ad27-5919c55a8533",
   "metadata": {},
   "source": [
    "<h2> Store the extracted data to a csv format file"
   ]
  },
  {
   "cell_type": "code",
   "execution_count": 16,
   "id": "62ba1011-8f4e-4f1a-b6eb-b46b83d0d4e8",
   "metadata": {},
   "outputs": [],
   "source": [
    "name_pattern = '<a href=\"/directory.*?\">(.*?)</a>'\n",
    "name_match = re.compile(name_pattern, re.S|re.I).findall(p)\n",
    "\n",
    "title_pattern = '<a href=\"/directory.*?\">.*?</a>,(.*?)</li>'\n",
    "title_match = re.compile(title_pattern, re.S|re.I).findall(p)"
   ]
  },
  {
   "cell_type": "code",
   "execution_count": 17,
   "id": "9ce376e1-8920-42bb-a3c4-fff0deb91c38",
   "metadata": {},
   "outputs": [
    {
     "name": "stdout",
     "output_type": "stream",
     "text": [
      "120 122\n"
     ]
    }
   ],
   "source": [
    "print(len(title_match), len(name_match))"
   ]
  },
  {
   "cell_type": "code",
   "execution_count": 18,
   "id": "407a1e75-5015-4a2c-9eed-49e080144d67",
   "metadata": {},
   "outputs": [],
   "source": [
    "name_match = name_match[:-2]"
   ]
  },
  {
   "cell_type": "code",
   "execution_count": 19,
   "id": "4fd21191-fa16-40c9-9600-b0579154c1e9",
   "metadata": {},
   "outputs": [],
   "source": [
    "out_file = open('staff_data_csv.txt', 'w')\n",
    "\n",
    "for i in range(120+1):\n",
    "    if i == 0:\n",
    "        print('name, title', file = out_file)\n",
    "    else:\n",
    "        print(f'\"{name_match[i-1]}\",\"{title_match[i-1]}\"', file = out_file)"
   ]
  },
  {
   "cell_type": "code",
   "execution_count": 20,
   "id": "cc0f0cd5-430c-4cdc-8957-4833ee349838",
   "metadata": {},
   "outputs": [],
   "source": [
    "out_file.close()"
   ]
  },
  {
   "cell_type": "code",
   "execution_count": null,
   "id": "3778b9a2-762b-4a6a-8672-aaa012f55a28",
   "metadata": {},
   "outputs": [],
   "source": []
  },
  {
   "cell_type": "code",
   "execution_count": null,
   "id": "e3a1cbc3-e6aa-4937-a73d-a76690f67a9a",
   "metadata": {},
   "outputs": [],
   "source": []
  },
  {
   "cell_type": "code",
   "execution_count": null,
   "id": "148a0ade-bfc7-4d0e-83db-4c1b0aeb0e15",
   "metadata": {},
   "outputs": [],
   "source": []
  },
  {
   "cell_type": "code",
   "execution_count": 21,
   "id": "5d986472-af80-4084-a821-5b9052a20587",
   "metadata": {},
   "outputs": [],
   "source": [
    "s = \"<html><title>Title</title></html>\""
   ]
  },
  {
   "cell_type": "code",
   "execution_count": 22,
   "id": "4591ce2d-8be9-4635-aea2-d12ce4ad1f47",
   "metadata": {},
   "outputs": [
    {
     "data": {
      "text/plain": [
       "['<title>Title</title>']"
      ]
     },
     "execution_count": 22,
     "metadata": {},
     "output_type": "execute_result"
    }
   ],
   "source": [
    "re.compile(\"<title>.*?</title>\").findall(s)"
   ]
  },
  {
   "cell_type": "code",
   "execution_count": null,
   "id": "de7205b6-ab28-44c0-818a-802403d9907c",
   "metadata": {},
   "outputs": [],
   "source": []
  },
  {
   "cell_type": "code",
   "execution_count": null,
   "id": "02fdb341-d102-44e6-a8d7-ea3b1c865ba8",
   "metadata": {},
   "outputs": [],
   "source": []
  },
  {
   "cell_type": "markdown",
   "id": "3bf9c01e-2cd0-42c7-b22b-0ad35e677749",
   "metadata": {},
   "source": [
    "<h3>More on re"
   ]
  },
  {
   "cell_type": "code",
   "execution_count": 23,
   "id": "144e7be7-2d22-4607-a64f-886224f45090",
   "metadata": {},
   "outputs": [
    {
     "data": {
      "text/plain": [
       "['Mike', 'Mike']"
      ]
     },
     "execution_count": 23,
     "metadata": {},
     "output_type": "execute_result"
    }
   ],
   "source": [
    "s = \"Mike had a sub from Jersey Mike's, costed him $15.95 bucks.\"\n",
    "re.compile('Mike').findall(s)"
   ]
  },
  {
   "cell_type": "code",
   "execution_count": 24,
   "id": "c8021260-4598-42ec-a92b-ac09476741c8",
   "metadata": {},
   "outputs": [
    {
     "data": {
      "text/plain": [
       "['M', 'J', 'M']"
      ]
     },
     "execution_count": 24,
     "metadata": {},
     "output_type": "execute_result"
    }
   ],
   "source": [
    "re.compile('[A-Z]').findall(s)"
   ]
  },
  {
   "cell_type": "code",
   "execution_count": 25,
   "id": "db001edd-0c57-4e81-bc88-3db5055d712e",
   "metadata": {
    "scrolled": true
   },
   "outputs": [
    {
     "data": {
      "text/plain": [
       "['i',\n",
       " 'k',\n",
       " 'e',\n",
       " 'h',\n",
       " 'a',\n",
       " 'd',\n",
       " 'a',\n",
       " 's',\n",
       " 'u',\n",
       " 'b',\n",
       " 'f',\n",
       " 'r',\n",
       " 'o',\n",
       " 'm',\n",
       " 'e',\n",
       " 'r',\n",
       " 's',\n",
       " 'e',\n",
       " 'y',\n",
       " 'i',\n",
       " 'k',\n",
       " 'e',\n",
       " 's',\n",
       " 'c',\n",
       " 'o',\n",
       " 's',\n",
       " 't',\n",
       " 'e',\n",
       " 'd',\n",
       " 'h',\n",
       " 'i',\n",
       " 'm',\n",
       " 'b',\n",
       " 'u',\n",
       " 'c',\n",
       " 'k',\n",
       " 's']"
      ]
     },
     "execution_count": 25,
     "metadata": {},
     "output_type": "execute_result"
    }
   ],
   "source": [
    "re.compile('[a-z]').findall(s)"
   ]
  },
  {
   "cell_type": "code",
   "execution_count": 26,
   "id": "12373155-3755-4608-b5dd-b67360e087bb",
   "metadata": {},
   "outputs": [
    {
     "data": {
      "text/plain": [
       "['1', '5', '9', '5']"
      ]
     },
     "execution_count": 26,
     "metadata": {},
     "output_type": "execute_result"
    }
   ],
   "source": [
    "re.compile('[0-9]').findall(s)"
   ]
  },
  {
   "cell_type": "code",
   "execution_count": 27,
   "id": "d4039344-0422-4e51-adb3-75b5ae788fb2",
   "metadata": {},
   "outputs": [
    {
     "data": {
      "text/plain": [
       "['1', '5', '9', '5']"
      ]
     },
     "execution_count": 27,
     "metadata": {},
     "output_type": "execute_result"
    }
   ],
   "source": [
    "re.compile('\\d').findall(s)"
   ]
  },
  {
   "cell_type": "code",
   "execution_count": 28,
   "id": "282c06b9-dabe-4306-8f88-0d24bf69e4bf",
   "metadata": {},
   "outputs": [
    {
     "data": {
      "text/plain": [
       "['15', '95']"
      ]
     },
     "execution_count": 28,
     "metadata": {},
     "output_type": "execute_result"
    }
   ],
   "source": [
    "re.compile('[0-9]+').findall(s)"
   ]
  },
  {
   "cell_type": "code",
   "execution_count": 29,
   "id": "2db15cd0-805b-4183-9675-379fe03e928b",
   "metadata": {},
   "outputs": [
    {
     "data": {
      "text/plain": [
       "['$15']"
      ]
     },
     "execution_count": 29,
     "metadata": {},
     "output_type": "execute_result"
    }
   ],
   "source": [
    "re.compile('[$][0-9]+').findall(s)"
   ]
  },
  {
   "cell_type": "code",
   "execution_count": 30,
   "id": "b53092d0-56a7-4e7c-85a7-2735ded812ee",
   "metadata": {},
   "outputs": [
    {
     "data": {
      "text/plain": [
       "['$15.95']"
      ]
     },
     "execution_count": 30,
     "metadata": {},
     "output_type": "execute_result"
    }
   ],
   "source": [
    "re.compile('[$][0-9]+.[0-9]+').findall(s)"
   ]
  },
  {
   "cell_type": "code",
   "execution_count": 31,
   "id": "c06a623d-4bfa-47b4-9be7-26eab3a42a48",
   "metadata": {},
   "outputs": [
    {
     "data": {
      "text/plain": [
       "['$155.95854531265465132132', '$15.95', '$17.1255']"
      ]
     },
     "execution_count": 31,
     "metadata": {},
     "output_type": "execute_result"
    }
   ],
   "source": [
    "ss = \"Mike had a lot of subs from Jersey Mike's, costed him $155.95854531265465132132 bucks. One sub is about $15.95. After tax, it is $17.1255.\"\n",
    "re.compile('[$][0-9]+.[0-9]+').findall(ss)"
   ]
  },
  {
   "cell_type": "code",
   "execution_count": 32,
   "id": "1c904cc9-8cf0-498f-a2de-bb53a525832a",
   "metadata": {},
   "outputs": [
    {
     "data": {
      "text/plain": [
       "['$15.95', '$17.12']"
      ]
     },
     "execution_count": 32,
     "metadata": {},
     "output_type": "execute_result"
    }
   ],
   "source": [
    "re.compile('[$][0-9]{2}.[0-9]{2}').findall(ss)"
   ]
  },
  {
   "cell_type": "code",
   "execution_count": 33,
   "id": "e229ab36-054a-4d80-9b8f-f83e1387e1ad",
   "metadata": {},
   "outputs": [
    {
     "data": {
      "text/plain": [
       "['$15.95', '$17.1255']"
      ]
     },
     "execution_count": 33,
     "metadata": {},
     "output_type": "execute_result"
    }
   ],
   "source": [
    "re.compile('[$][0-9]{2}.[0-9]{2,}').findall(ss)"
   ]
  },
  {
   "cell_type": "code",
   "execution_count": 34,
   "id": "b3eddf44-91f7-4915-8ede-0909b4ba9275",
   "metadata": {},
   "outputs": [
    {
     "data": {
      "text/plain": [
       "['$15.95']"
      ]
     },
     "execution_count": 34,
     "metadata": {},
     "output_type": "execute_result"
    }
   ],
   "source": [
    "re.compile('[$][0-9]{2}.[0-9]{2}(?=\\s|[^0-9])').findall(ss)"
   ]
  },
  {
   "cell_type": "code",
   "execution_count": 35,
   "id": "faca51ef-8c0c-47c8-b8e3-451855ade006",
   "metadata": {},
   "outputs": [],
   "source": [
    "s = \"My phone number is: 384-214-4994. My email address is Mike.Green@umb.edu. My fiend's phone number is: 877-391-0000. Her email address is Mary.Gray1@umb.com.\""
   ]
  },
  {
   "cell_type": "code",
   "execution_count": 36,
   "id": "685448be-7802-4036-b9bb-aeb64bb780af",
   "metadata": {},
   "outputs": [
    {
     "data": {
      "text/plain": [
       "['384-214-4994', '877-391-0000']"
      ]
     },
     "execution_count": 36,
     "metadata": {},
     "output_type": "execute_result"
    }
   ],
   "source": [
    "re.compile('[0-9]+\\-[0-9]+\\-[0-9]+').findall(s)"
   ]
  },
  {
   "cell_type": "code",
   "execution_count": 37,
   "id": "de68c64c-68ba-4624-baf5-66c8a763d90e",
   "metadata": {},
   "outputs": [
    {
     "data": {
      "text/plain": [
       "['Mike.Green@umb.edu', 'Mary.Gray1@umb.com']"
      ]
     },
     "execution_count": 37,
     "metadata": {},
     "output_type": "execute_result"
    }
   ],
   "source": [
    "re.compile('[^\\s.,?]+\\.[^.,?]+\\@[^.,?]+\\.[^.,?]+').findall(s)"
   ]
  },
  {
   "cell_type": "code",
   "execution_count": 38,
   "id": "5f7fd8cc-bf96-4c18-8113-482d67177e25",
   "metadata": {},
   "outputs": [
    {
     "data": {
      "text/plain": [
       "['Mike.Green@umb.edu', 'Mary.Gray1@umb.com']"
      ]
     },
     "execution_count": 38,
     "metadata": {},
     "output_type": "execute_result"
    }
   ],
   "source": [
    "re.compile('[0-9a-zA-Z]+\\.[0-9a-zA-Z]+\\@[0-9a-zA-Z]+\\.[0-9a-zA-Z]+').findall(s)"
   ]
  }
 ],
 "metadata": {
  "kernelspec": {
   "display_name": "Python [conda env:base] *",
   "language": "python",
   "name": "conda-base-py"
  },
  "language_info": {
   "codemirror_mode": {
    "name": "ipython",
    "version": 3
   },
   "file_extension": ".py",
   "mimetype": "text/x-python",
   "name": "python",
   "nbconvert_exporter": "python",
   "pygments_lexer": "ipython3",
   "version": "3.12.7"
  },
  "widgets": {
   "application/vnd.jupyter.widget-state+json": {
    "state": {},
    "version_major": 2,
    "version_minor": 0
   }
  }
 },
 "nbformat": 4,
 "nbformat_minor": 5
}
