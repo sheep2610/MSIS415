{
 "cells": [
  {
   "cell_type": "code",
   "execution_count": 2,
   "id": "5fef482b",
   "metadata": {},
   "outputs": [
    {
     "name": "stdout",
     "output_type": "stream",
     "text": [
      "{'bill': '353-1234', 'rich': '269-1234', 'jane': '352-1234'}\n"
     ]
    }
   ],
   "source": [
    "contacts= {'bill': '353-1234', 'rich': '269-1234', 'jane': '352-1234'}\n",
    "print(contacts)"
   ]
  },
  {
   "cell_type": "code",
   "execution_count": 3,
   "id": "4647d41f",
   "metadata": {},
   "outputs": [
    {
     "name": "stdout",
     "output_type": "stream",
     "text": [
      "25\n"
     ]
    }
   ],
   "source": [
    "my_dict = {}\n",
    "my_dict['bill']=25\n",
    "print(my_dict['bill'])"
   ]
  },
  {
   "cell_type": "code",
   "execution_count": 4,
   "id": "59578715",
   "metadata": {},
   "outputs": [
    {
     "name": "stdout",
     "output_type": "stream",
     "text": [
      "{'bill': '352-1234', 'rich': '269-1234'}\n"
     ]
    }
   ],
   "source": [
    "contacts= {'bill': '353-1234', 'rich': '269-1234', 'bill': '352-1234'}\n",
    "print(contacts)"
   ]
  },
  {
   "cell_type": "code",
   "execution_count": 7,
   "id": "053a2551",
   "metadata": {},
   "outputs": [
    {
     "name": "stdout",
     "output_type": "stream",
     "text": [
      "{0: 'Monday', 1: 'Tuesday', 2: 'Wednesday', 3: 'Thursday', 4: 'Friday', 5: 'Saturday', 6: 'Sunday', 7: 'Monday', 8: 'Tuesday', 9: 'Wednesday', 10: 'Thursday', 11: 'Friday', 12: 'Saturday', 13: 'Sunday', 14: 'Monday', 15: 'Tuesday', 16: 'Wednesday', 17: 'Thursday', 18: 'Friday', 19: 'Saturday', 20: 'Sunday', 21: 'Monday', 22: 'Tuesday', 23: 'Wednesday', 24: 'Thursday', 25: 'Friday', 26: 'Saturday', 27: 'Sunday', 28: 'Monday', 29: 'Tuesday', 30: 'Wednesday', 31: 'Thursday', 32: 'Friday', 33: 'Saturday', 34: 'Sunday', 35: 'Monday', 36: 'Tuesday', 37: 'Wednesday', 38: 'Thursday', 39: 'Friday', 40: 'Saturday', 41: 'Sunday', 42: 'Monday', 43: 'Tuesday', 44: 'Wednesday', 45: 'Thursday', 46: 'Friday', 47: 'Saturday', 48: 'Sunday', 49: 'Monday', 50: 'Tuesday', 51: 'Wednesday', 52: 'Thursday', 53: 'Friday', 54: 'Saturday', 55: 'Sunday', 56: 'Monday', 57: 'Tuesday', 58: 'Wednesday', 59: 'Thursday', 60: 'Friday', 61: 'Saturday', 62: 'Sunday', 63: 'Monday', 64: 'Tuesday', 65: 'Wednesday', 66: 'Thursday', 67: 'Friday', 68: 'Saturday', 69: 'Sunday', 70: 'Monday', 71: 'Tuesday', 72: 'Wednesday', 73: 'Thursday', 74: 'Friday', 75: 'Saturday', 76: 'Sunday', 77: 'Monday', 78: 'Tuesday', 79: 'Wednesday', 80: 'Thursday', 81: 'Friday', 82: 'Saturday', 83: 'Sunday', 84: 'Monday', 85: 'Tuesday', 86: 'Wednesday', 87: 'Thursday', 88: 'Friday', 89: 'Saturday', 90: 'Sunday', 91: 'Monday', 92: 'Tuesday', 93: 'Wednesday', 94: 'Thursday', 95: 'Friday', 96: 'Saturday', 97: 'Sunday', 98: 'Monday', 99: 'Tuesday', 100: 'Wednesday', 101: 'Thursday', 102: 'Friday', 103: 'Saturday', 104: 'Sunday', 105: 'Monday', 106: 'Tuesday', 107: 'Wednesday', 108: 'Thursday', 109: 'Friday', 110: 'Saturday', 111: 'Sunday', 112: 'Monday', 113: 'Tuesday', 114: 'Wednesday', 115: 'Thursday', 116: 'Friday', 117: 'Saturday', 118: 'Sunday', 119: 'Monday', 120: 'Tuesday', 121: 'Wednesday', 122: 'Thursday', 123: 'Friday', 124: 'Saturday', 125: 'Sunday', 126: 'Monday', 127: 'Tuesday', 128: 'Wednesday', 129: 'Thursday', 130: 'Friday', 131: 'Saturday', 132: 'Sunday', 133: 'Monday', 134: 'Tuesday', 135: 'Wednesday', 136: 'Thursday', 137: 'Friday', 138: 'Saturday', 139: 'Sunday', 140: 'Monday', 141: 'Tuesday', 142: 'Wednesday', 143: 'Thursday', 144: 'Friday', 145: 'Saturday', 146: 'Sunday', 147: 'Monday', 148: 'Tuesday', 149: 'Wednesday', 150: 'Thursday', 151: 'Friday', 152: 'Saturday', 153: 'Sunday', 154: 'Monday', 155: 'Tuesday', 156: 'Wednesday', 157: 'Thursday', 158: 'Friday', 159: 'Saturday', 160: 'Sunday', 161: 'Monday', 162: 'Tuesday', 163: 'Wednesday', 164: 'Thursday', 165: 'Friday', 166: 'Saturday', 167: 'Sunday', 168: 'Monday', 169: 'Tuesday', 170: 'Wednesday', 171: 'Thursday', 172: 'Friday', 173: 'Saturday', 174: 'Sunday', 175: 'Monday', 176: 'Tuesday', 177: 'Wednesday', 178: 'Thursday', 179: 'Friday', 180: 'Saturday', 181: 'Sunday', 182: 'Monday', 183: 'Tuesday', 184: 'Wednesday', 185: 'Thursday', 186: 'Friday', 187: 'Saturday', 188: 'Sunday', 189: 'Monday', 190: 'Tuesday', 191: 'Wednesday', 192: 'Thursday', 193: 'Friday', 194: 'Saturday', 195: 'Sunday', 196: 'Monday', 197: 'Tuesday', 198: 'Wednesday', 199: 'Thursday', 200: 'Friday', 201: 'Saturday', 202: 'Sunday', 203: 'Monday', 204: 'Tuesday', 205: 'Wednesday', 206: 'Thursday', 207: 'Friday', 208: 'Saturday', 209: 'Sunday', 210: 'Monday', 211: 'Tuesday', 212: 'Wednesday', 213: 'Thursday', 214: 'Friday', 215: 'Saturday', 216: 'Sunday', 217: 'Monday', 218: 'Tuesday', 219: 'Wednesday', 220: 'Thursday', 221: 'Friday', 222: 'Saturday', 223: 'Sunday', 224: 'Monday', 225: 'Tuesday', 226: 'Wednesday', 227: 'Thursday', 228: 'Friday', 229: 'Saturday', 230: 'Sunday', 231: 'Monday', 232: 'Tuesday', 233: 'Wednesday', 234: 'Thursday', 235: 'Friday', 236: 'Saturday', 237: 'Sunday', 238: 'Monday', 239: 'Tuesday', 240: 'Wednesday', 241: 'Thursday', 242: 'Friday', 243: 'Saturday', 244: 'Sunday', 245: 'Monday', 246: 'Tuesday', 247: 'Wednesday', 248: 'Thursday', 249: 'Friday', 250: 'Saturday', 251: 'Sunday', 252: 'Monday', 253: 'Tuesday', 254: 'Wednesday', 255: 'Thursday', 256: 'Friday', 257: 'Saturday', 258: 'Sunday', 259: 'Monday', 260: 'Tuesday', 261: 'Wednesday', 262: 'Thursday', 263: 'Friday', 264: 'Saturday', 265: 'Sunday', 266: 'Monday', 267: 'Tuesday', 268: 'Wednesday', 269: 'Thursday', 270: 'Friday', 271: 'Saturday', 272: 'Sunday', 273: 'Monday', 274: 'Tuesday', 275: 'Wednesday', 276: 'Thursday', 277: 'Friday', 278: 'Saturday', 279: 'Sunday', 280: 'Monday', 281: 'Tuesday', 282: 'Wednesday', 283: 'Thursday', 284: 'Friday', 285: 'Saturday', 286: 'Sunday', 287: 'Monday', 288: 'Tuesday', 289: 'Wednesday', 290: 'Thursday', 291: 'Friday', 292: 'Saturday', 293: 'Sunday', 294: 'Monday', 295: 'Tuesday', 296: 'Wednesday', 297: 'Thursday', 298: 'Friday', 299: 'Saturday', 300: 'Sunday', 301: 'Monday', 302: 'Tuesday', 303: 'Wednesday', 304: 'Thursday', 305: 'Friday', 306: 'Saturday', 307: 'Sunday', 308: 'Monday', 309: 'Tuesday', 310: 'Wednesday', 311: 'Thursday', 312: 'Friday', 313: 'Saturday', 314: 'Sunday', 315: 'Monday', 316: 'Tuesday', 317: 'Wednesday', 318: 'Thursday', 319: 'Friday', 320: 'Saturday', 321: 'Sunday', 322: 'Monday', 323: 'Tuesday', 324: 'Wednesday', 325: 'Thursday', 326: 'Friday', 327: 'Saturday', 328: 'Sunday', 329: 'Monday', 330: 'Tuesday', 331: 'Wednesday', 332: 'Thursday', 333: 'Friday', 334: 'Saturday', 335: 'Sunday', 336: 'Monday', 337: 'Tuesday', 338: 'Wednesday', 339: 'Thursday', 340: 'Friday', 341: 'Saturday', 342: 'Sunday', 343: 'Monday', 344: 'Tuesday', 345: 'Wednesday', 346: 'Thursday', 347: 'Friday', 348: 'Saturday', 349: 'Sunday', 350: 'Monday', 351: 'Tuesday', 352: 'Wednesday', 353: 'Thursday', 354: 'Friday', 355: 'Saturday', 356: 'Sunday', 357: 'Monday', 358: 'Tuesday', 359: 'Wednesday', 360: 'Thursday', 361: 'Friday', 362: 'Saturday', 363: 'Sunday', 364: 'Monday', 365: 'Tuesday'}\n"
     ]
    }
   ],
   "source": [
    "day_names = {}\n",
    "days = ['Monday', 'Tuesday', 'Wednesday', 'Thursday', 'Friday', 'Saturday', 'Sunday']\n",
    "for i in range(0, 366):\n",
    "    day_names[i] = days[i % 7]\n",
    "print(day_names)"
   ]
  },
  {
   "cell_type": "code",
   "execution_count": 9,
   "id": "409b79c6",
   "metadata": {},
   "outputs": [
    {
     "name": "stdout",
     "output_type": "stream",
     "text": [
      "3\n",
      "100\n"
     ]
    }
   ],
   "source": [
    "my_dict = {'bill':3, 'rich':10}\n",
    "print(my_dict['bill'])  #prints 3\n",
    "my_dict['bill'] = 100\n",
    "print(my_dict['bill'])  #prints 100"
   ]
  },
  {
   "cell_type": "code",
   "execution_count": 13,
   "id": "9358dec0",
   "metadata": {},
   "outputs": [
    {
     "name": "stdout",
     "output_type": "stream",
     "text": [
      "2\n",
      "bill 100\n",
      "rich 10\n"
     ]
    }
   ],
   "source": [
    "print(len(my_dict))\n",
    "for e in my_dict:\n",
    "    print(e, my_dict[e])"
   ]
  },
  {
   "cell_type": "code",
   "execution_count": 16,
   "id": "03b94e54",
   "metadata": {},
   "outputs": [
    {
     "name": "stdout",
     "output_type": "stream",
     "text": [
      "10\n"
     ]
    },
    {
     "data": {
      "text/plain": [
       "{'bill': 3}"
      ]
     },
     "execution_count": 16,
     "metadata": {},
     "output_type": "execute_result"
    }
   ],
   "source": [
    "my_dict = {'bill':3, 'rich':10}\n",
    "print(my_dict.pop('rich'))\n",
    "my_dict"
   ]
  },
  {
   "cell_type": "code",
   "execution_count": 3,
   "id": "ae55ebe9",
   "metadata": {},
   "outputs": [
    {
     "data": {
      "text/plain": [
       "True"
      ]
     },
     "execution_count": 3,
     "metadata": {},
     "output_type": "execute_result"
    }
   ],
   "source": [
    "d = {1:'a', 3:'c', 4:'d'}\n",
    "f = {3:'c', 4:'d', 1:'a'}\n",
    "d==f"
   ]
  },
  {
   "cell_type": "code",
   "execution_count": 18,
   "id": "d0df5e9b",
   "metadata": {},
   "outputs": [
    {
     "ename": "AttributeError",
     "evalue": "'dict' object has no attribute 'sort'",
     "output_type": "error",
     "traceback": [
      "\u001b[1;31m---------------------------------------------------------------------------\u001b[0m",
      "\u001b[1;31mAttributeError\u001b[0m                            Traceback (most recent call last)",
      "Input \u001b[1;32mIn [18]\u001b[0m, in \u001b[0;36m<cell line: 1>\u001b[1;34m()\u001b[0m\n\u001b[1;32m----> 1\u001b[0m \u001b[43md\u001b[49m\u001b[38;5;241;43m.\u001b[39;49m\u001b[43msort\u001b[49m()\n",
      "\u001b[1;31mAttributeError\u001b[0m: 'dict' object has no attribute 'sort'"
     ]
    }
   ],
   "source": [
    "d.sort()"
   ]
  },
  {
   "cell_type": "code",
   "execution_count": 19,
   "id": "58b257dc",
   "metadata": {},
   "outputs": [
    {
     "data": {
      "text/plain": [
       "dict_items([(1, 'a'), (3, 'c'), (4, 'd')])"
      ]
     },
     "execution_count": 19,
     "metadata": {},
     "output_type": "execute_result"
    }
   ],
   "source": [
    "d.items()"
   ]
  },
  {
   "cell_type": "code",
   "execution_count": 20,
   "id": "5b12afa0",
   "metadata": {},
   "outputs": [
    {
     "data": {
      "text/plain": [
       "dict_keys([1, 3, 4])"
      ]
     },
     "execution_count": 20,
     "metadata": {},
     "output_type": "execute_result"
    }
   ],
   "source": [
    "d.keys()"
   ]
  },
  {
   "cell_type": "code",
   "execution_count": 21,
   "id": "520b517f",
   "metadata": {},
   "outputs": [
    {
     "data": {
      "text/plain": [
       "dict_values(['a', 'c', 'd'])"
      ]
     },
     "execution_count": 21,
     "metadata": {},
     "output_type": "execute_result"
    }
   ],
   "source": [
    "d.values()"
   ]
  },
  {
   "cell_type": "code",
   "execution_count": 4,
   "id": "44077214",
   "metadata": {},
   "outputs": [
    {
     "name": "stdout",
     "output_type": "stream",
     "text": [
      "1\n",
      "3\n",
      "4\n"
     ]
    }
   ],
   "source": [
    "for key in d:\n",
    "    print(key)"
   ]
  },
  {
   "cell_type": "code",
   "execution_count": 10,
   "id": "98016a4d",
   "metadata": {},
   "outputs": [
    {
     "name": "stdout",
     "output_type": "stream",
     "text": [
      "a\n",
      "c\n",
      "d\n"
     ]
    }
   ],
   "source": [
    "for value in d.values():\n",
    "    print(value)"
   ]
  },
  {
   "cell_type": "code",
   "execution_count": 7,
   "id": "6f40e174",
   "metadata": {},
   "outputs": [
    {
     "name": "stdout",
     "output_type": "stream",
     "text": [
      "1 a\n",
      "3 c\n",
      "4 d\n"
     ]
    }
   ],
   "source": [
    "for key,value in d.items():\n",
    "    print(key, value)"
   ]
  },
  {
   "cell_type": "code",
   "execution_count": 7,
   "id": "316f36e5",
   "metadata": {},
   "outputs": [
    {
     "name": "stdout",
     "output_type": "stream",
     "text": [
      "1 a\n",
      "3 c\n",
      "4 d\n"
     ]
    }
   ],
   "source": [
    "for key,value in d.items():\n",
    "    print(key, value)"
   ]
  },
  {
   "cell_type": "code",
   "execution_count": 14,
   "id": "f212b782",
   "metadata": {},
   "outputs": [
    {
     "name": "stdout",
     "output_type": "stream",
     "text": [
      "{'a': 5, 'b': 4, 'c': 1, 'abc': 2}\n"
     ]
    }
   ],
   "source": [
    "word_list=['a', 'b', 'a', 'c', 'a', 'abc', 'a', 'b', 'abc', 'b', 'b', 'a' ]\n",
    "count_dict={}   #initialization\n",
    "for word in word_list:\n",
    "    if word in count_dict:\n",
    "        count_dict[word]+=1\n",
    "    else:\n",
    "        count_dict[word] = 1\n",
    "print(count_dict)"
   ]
  },
  {
   "cell_type": "code",
   "execution_count": 1,
   "id": "ace7e085",
   "metadata": {},
   "outputs": [
    {
     "name": "stdout",
     "output_type": "stream",
     "text": [
      "{'S': 1, 'i': 87, 'n': 68, 'c': 34, 'e': 127, ' ': 252, 't': 113, 's': 79, 'd': 34, 'b': 16, 'u': 41, 'a': 100, 'f': 40, 'w': 30, 'k': 14, 'g': 17, 'o': 87, 'h': 58, 'V': 1, 'F': 2, 'l': 41, 'm': 29, 'v': 14, ',': 17, 'r': 47, 'p': 21, 'z': 2, 'T': 2, 'P': 2, '’': 3, '“': 4, 'J': 2, '”': 4, 'q': 3, '.': 7, 'H': 1, '-': 8, 'y': 16, 'M': 1, 'W': 1, 'A': 2, 'I': 1, ':': 2, '?': 1, 'x': 1, 'B': 1, '—': 2}\n",
      "[(1, '?'), (1, 'B'), (1, 'H'), (1, 'I'), (1, 'M'), (1, 'S'), (1, 'V'), (1, 'W'), (1, 'x'), (2, ':'), (2, 'A'), (2, 'F'), (2, 'J'), (2, 'P'), (2, 'T'), (2, 'z'), (2, '—'), (3, 'q'), (3, '’'), (4, '“'), (4, '”'), (7, '.'), (8, '-'), (14, 'k'), (14, 'v'), (16, 'b'), (16, 'y'), (17, ','), (17, 'g'), (21, 'p'), (29, 'm'), (30, 'w'), (34, 'c'), (34, 'd'), (40, 'f'), (41, 'l'), (41, 'u'), (47, 'r'), (58, 'h'), (68, 'n'), (79, 's'), (87, 'i'), (87, 'o'), (100, 'a'), (113, 't'), (127, 'e'), (252, ' ')]\n"
     ]
    }
   ],
   "source": [
    "str = \"Since its debut a few weeks ago at the Venice Film Festival, where it won the top prize, Todd Phillips’s “Joker” has stirred up quite a tempest. Hands have been wrung about the movie’s supposed potential to inspire acts of real-life violence, and criticism of its brutal nihilism has been met with a counter-backlash, including from Phillips himself, who has been sounding off about the “far left” and “woke culture” and other threats to the ability of a murderous clown to make money unmolested. Meanwhile, the usual armies of skeptics and fans have squared off with ready-made accusations of bad faith, hypersensitivity and quasi-fascist groupthink. We are now at the phase of the argument cycle when actual ticket buyers have a chance to see what all the fuss is about, which means that it’s also time for me to say my piece. And what I have to say is: Are you kidding me? To be worth arguing about, a movie must first of all be interesting: it must have, if not a coherent point of view, at least a worked-out, thought-provoking set of themes, some kind of imaginative contact with the world as we know it. “Joker,” an empty, foggy exercise in second-hand style and second-rate philosophizing, has none of that. Besotted with the notion of its own audacity — as if willful unpleasantness were a form of artistic courage — the film turns out to be afraid of its own shadow, or at least of the faintest shadow of any actual relevance.\"\n",
    "count_dict={}  #initialization\n",
    "for ch in str:\n",
    "    if ch in count_dict:\n",
    "        count_dict[ch] += 1\n",
    "    else:\n",
    "        count_dict[ch] = 1\n",
    "print(count_dict)\n",
    "\n",
    "count_list = []\n",
    "for item in count_dict:\n",
    "    count_list.append((count_dict[item], item))\n",
    "count_list.sort()\n",
    "print(count_list)"
   ]
  },
  {
   "cell_type": "code",
   "execution_count": null,
   "id": "3bf075ad-560b-4cb3-bd85-09920cbccd44",
   "metadata": {},
   "outputs": [],
   "source": []
  }
 ],
 "metadata": {
  "kernelspec": {
   "display_name": "Python [conda env:base] *",
   "language": "python",
   "name": "conda-base-py"
  },
  "language_info": {
   "codemirror_mode": {
    "name": "ipython",
    "version": 3
   },
   "file_extension": ".py",
   "mimetype": "text/x-python",
   "name": "python",
   "nbconvert_exporter": "python",
   "pygments_lexer": "ipython3",
   "version": "3.12.7"
  },
  "widgets": {
   "application/vnd.jupyter.widget-state+json": {
    "state": {},
    "version_major": 2,
    "version_minor": 0
   }
  }
 },
 "nbformat": 4,
 "nbformat_minor": 5
}
