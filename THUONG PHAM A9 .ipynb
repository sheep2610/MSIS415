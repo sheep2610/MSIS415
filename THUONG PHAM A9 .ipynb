{
 "cells": [
  {
   "cell_type": "code",
   "execution_count": 4,
   "id": "62736cea-570d-4a85-8576-886e4ae78af4",
   "metadata": {},
   "outputs": [],
   "source": [
    "import pandas as pd"
   ]
  },
  {
   "cell_type": "markdown",
   "id": "6d77ba5a-2d75-442a-bd18-d7165b529b8a",
   "metadata": {},
   "source": [
    "#### Preparing data by dropping the rows that have any missing values from the data frame"
   ]
  },
  {
   "cell_type": "code",
   "execution_count": 15,
   "id": "a52b0fa9-e29e-43de-8885-29c2ea065584",
   "metadata": {},
   "outputs": [],
   "source": [
    "df = pd.read_csv('poverty_new.csv', sep='\\t')"
   ]
  },
  {
   "cell_type": "code",
   "execution_count": 19,
   "id": "3e42a344-8a1a-4f07-8ff9-8d72d9e649f5",
   "metadata": {},
   "outputs": [],
   "source": [
    "df_clean = df.dropna()"
   ]
  },
  {
   "cell_type": "code",
   "execution_count": 21,
   "id": "30fc7e46-cf21-4c52-bf56-bf5eed6b5bc9",
   "metadata": {},
   "outputs": [
    {
     "data": {
      "text/html": [
       "<div>\n",
       "<style scoped>\n",
       "    .dataframe tbody tr th:only-of-type {\n",
       "        vertical-align: middle;\n",
       "    }\n",
       "\n",
       "    .dataframe tbody tr th {\n",
       "        vertical-align: top;\n",
       "    }\n",
       "\n",
       "    .dataframe thead th {\n",
       "        text-align: right;\n",
       "    }\n",
       "</style>\n",
       "<table border=\"1\" class=\"dataframe\">\n",
       "  <thead>\n",
       "    <tr style=\"text-align: right;\">\n",
       "      <th></th>\n",
       "      <th>Index</th>\n",
       "      <th>Inhabitants</th>\n",
       "      <th>%incomes&lt;5k</th>\n",
       "      <th>%jobless</th>\n",
       "      <th>Murders_M</th>\n",
       "    </tr>\n",
       "  </thead>\n",
       "  <tbody>\n",
       "    <tr>\n",
       "      <th>0</th>\n",
       "      <td>1</td>\n",
       "      <td>587000</td>\n",
       "      <td>15.5</td>\n",
       "      <td>6.2</td>\n",
       "      <td>11.2</td>\n",
       "    </tr>\n",
       "    <tr>\n",
       "      <th>1</th>\n",
       "      <td>2</td>\n",
       "      <td>643000</td>\n",
       "      <td>19.5</td>\n",
       "      <td>6.4</td>\n",
       "      <td>13.4</td>\n",
       "    </tr>\n",
       "    <tr>\n",
       "      <th>3</th>\n",
       "      <td>4</td>\n",
       "      <td>692000</td>\n",
       "      <td>17.5</td>\n",
       "      <td>5.3</td>\n",
       "      <td>5.3</td>\n",
       "    </tr>\n",
       "    <tr>\n",
       "      <th>4</th>\n",
       "      <td>5</td>\n",
       "      <td>1248000</td>\n",
       "      <td>18.2</td>\n",
       "      <td>7.3</td>\n",
       "      <td>24.8</td>\n",
       "    </tr>\n",
       "    <tr>\n",
       "      <th>5</th>\n",
       "      <td>6</td>\n",
       "      <td>643000</td>\n",
       "      <td>15.5</td>\n",
       "      <td>5.9</td>\n",
       "      <td>12.7</td>\n",
       "    </tr>\n",
       "    <tr>\n",
       "      <th>6</th>\n",
       "      <td>7</td>\n",
       "      <td>1964000</td>\n",
       "      <td>20.2</td>\n",
       "      <td>6.4</td>\n",
       "      <td>20.9</td>\n",
       "    </tr>\n",
       "    <tr>\n",
       "      <th>7</th>\n",
       "      <td>8</td>\n",
       "      <td>1531000</td>\n",
       "      <td>21.3</td>\n",
       "      <td>7.6</td>\n",
       "      <td>35.7</td>\n",
       "    </tr>\n",
       "    <tr>\n",
       "      <th>8</th>\n",
       "      <td>9</td>\n",
       "      <td>713000</td>\n",
       "      <td>17.2</td>\n",
       "      <td>4.9</td>\n",
       "      <td>8.7</td>\n",
       "    </tr>\n",
       "    <tr>\n",
       "      <th>9</th>\n",
       "      <td>10</td>\n",
       "      <td>749000</td>\n",
       "      <td>14.3</td>\n",
       "      <td>6.4</td>\n",
       "      <td>9.6</td>\n",
       "    </tr>\n",
       "    <tr>\n",
       "      <th>10</th>\n",
       "      <td>11</td>\n",
       "      <td>7895000</td>\n",
       "      <td>18.1</td>\n",
       "      <td>6.0</td>\n",
       "      <td>14.5</td>\n",
       "    </tr>\n",
       "    <tr>\n",
       "      <th>11</th>\n",
       "      <td>12</td>\n",
       "      <td>762000</td>\n",
       "      <td>23.1</td>\n",
       "      <td>7.4</td>\n",
       "      <td>26.9</td>\n",
       "    </tr>\n",
       "    <tr>\n",
       "      <th>12</th>\n",
       "      <td>13</td>\n",
       "      <td>2793000</td>\n",
       "      <td>19.1</td>\n",
       "      <td>5.8</td>\n",
       "      <td>15.7</td>\n",
       "    </tr>\n",
       "    <tr>\n",
       "      <th>13</th>\n",
       "      <td>14</td>\n",
       "      <td>741000</td>\n",
       "      <td>24.7</td>\n",
       "      <td>8.6</td>\n",
       "      <td>36.2</td>\n",
       "    </tr>\n",
       "    <tr>\n",
       "      <th>14</th>\n",
       "      <td>15</td>\n",
       "      <td>625000</td>\n",
       "      <td>18.6</td>\n",
       "      <td>6.5</td>\n",
       "      <td>18.1</td>\n",
       "    </tr>\n",
       "    <tr>\n",
       "      <th>15</th>\n",
       "      <td>16</td>\n",
       "      <td>854000</td>\n",
       "      <td>24.9</td>\n",
       "      <td>8.3</td>\n",
       "      <td>28.9</td>\n",
       "    </tr>\n",
       "    <tr>\n",
       "      <th>16</th>\n",
       "      <td>17</td>\n",
       "      <td>716000</td>\n",
       "      <td>17.9</td>\n",
       "      <td>6.7</td>\n",
       "      <td>14.9</td>\n",
       "    </tr>\n",
       "    <tr>\n",
       "      <th>17</th>\n",
       "      <td>18</td>\n",
       "      <td>921000</td>\n",
       "      <td>22.4</td>\n",
       "      <td>8.6</td>\n",
       "      <td>25.8</td>\n",
       "    </tr>\n",
       "    <tr>\n",
       "      <th>18</th>\n",
       "      <td>19</td>\n",
       "      <td>595000</td>\n",
       "      <td>20.2</td>\n",
       "      <td>8.4</td>\n",
       "      <td>21.7</td>\n",
       "    </tr>\n",
       "    <tr>\n",
       "      <th>19</th>\n",
       "      <td>20</td>\n",
       "      <td>3353000</td>\n",
       "      <td>16.9</td>\n",
       "      <td>6.7</td>\n",
       "      <td>25.7</td>\n",
       "    </tr>\n",
       "  </tbody>\n",
       "</table>\n",
       "</div>"
      ],
      "text/plain": [
       "    Index  Inhabitants  %incomes<5k  %jobless  Murders_M\n",
       "0       1       587000         15.5       6.2       11.2\n",
       "1       2       643000         19.5       6.4       13.4\n",
       "3       4       692000         17.5       5.3        5.3\n",
       "4       5      1248000         18.2       7.3       24.8\n",
       "5       6       643000         15.5       5.9       12.7\n",
       "6       7      1964000         20.2       6.4       20.9\n",
       "7       8      1531000         21.3       7.6       35.7\n",
       "8       9       713000         17.2       4.9        8.7\n",
       "9      10       749000         14.3       6.4        9.6\n",
       "10     11      7895000         18.1       6.0       14.5\n",
       "11     12       762000         23.1       7.4       26.9\n",
       "12     13      2793000         19.1       5.8       15.7\n",
       "13     14       741000         24.7       8.6       36.2\n",
       "14     15       625000         18.6       6.5       18.1\n",
       "15     16       854000         24.9       8.3       28.9\n",
       "16     17       716000         17.9       6.7       14.9\n",
       "17     18       921000         22.4       8.6       25.8\n",
       "18     19       595000         20.2       8.4       21.7\n",
       "19     20      3353000         16.9       6.7       25.7"
      ]
     },
     "execution_count": 21,
     "metadata": {},
     "output_type": "execute_result"
    }
   ],
   "source": [
    "df_clean"
   ]
  },
  {
   "cell_type": "markdown",
   "id": "9c0b80de-e05d-48ae-b1ca-4a3335604b3c",
   "metadata": {},
   "source": [
    "#### Plot Murders_M against %jobless in the resulted dataframe"
   ]
  },
  {
   "cell_type": "code",
   "execution_count": 27,
   "id": "e26abe62-1ef0-4ef6-92e1-9e1dd564ab6a",
   "metadata": {},
   "outputs": [
    {
     "name": "stderr",
     "output_type": "stream",
     "text": [
      "Matplotlib is building the font cache; this may take a moment.\n"
     ]
    }
   ],
   "source": [
    "import matplotlib.pyplot as plt"
   ]
  },
  {
   "cell_type": "code",
   "execution_count": 29,
   "id": "bfccc37f-f30d-4f1f-9bbb-40cf8f2167e5",
   "metadata": {},
   "outputs": [
    {
     "data": {
      "image/png": "[encoded data removed]",
      "text/plain": [
       "<Figure size 640x480 with 1 Axes>"
      ]
     },
     "metadata": {},
     "output_type": "display_data"
    }
   ],
   "source": [
    "plt.figure()\n",
    "ax = plt.axes()\n",
    "ax.set_xlabel('%jobless')\n",
    "ax.set_ylabel('Murders_M')\n",
    "ax.scatter(df_clean['%jobless'], df_clean['Murders_M'])\n",
    "plt.show()"
   ]
  },
  {
   "cell_type": "markdown",
   "id": "5f5b5880-416b-4379-98c6-d619cef812ae",
   "metadata": {},
   "source": [
    "#### Run a OLS linear regression of Murders_M (the Y) on %jobless (the X) and find out the coefficient for %jobless and the R‐squared  (R2) value. Add both values to your codes with a comment"
   ]
  },
  {
   "cell_type": "code",
   "execution_count": 32,
   "id": "aa37c9c2-1f98-484f-97a0-9db5abce0c5a",
   "metadata": {},
   "outputs": [],
   "source": [
    "import statsmodels.api as sm"
   ]
  },
  {
   "cell_type": "code",
   "execution_count": 34,
   "id": "406285c3-6509-4fdd-90f1-adc32043aaba",
   "metadata": {},
   "outputs": [
    {
     "name": "stdout",
     "output_type": "stream",
     "text": [
      "                            OLS Regression Results                            \n",
      "==============================================================================\n",
      "Dep. Variable:                      y   R-squared:                       0.683\n",
      "Model:                            OLS   Adj. R-squared:                  0.665\n",
      "Method:                 Least Squares   F-statistic:                     36.70\n",
      "Date:                Mon, 07 Apr 2025   Prob (F-statistic):           1.28e-05\n",
      "Time:                        17:48:41   Log-Likelihood:                -57.073\n",
      "No. Observations:                  19   AIC:                             118.1\n",
      "Df Residuals:                      17   BIC:                             120.0\n",
      "Df Model:                           1                                         \n",
      "Covariance Type:            nonrobust                                         \n",
      "==============================================================================\n",
      "                 coef    std err          t      P>|t|      [0.025      0.975]\n",
      "------------------------------------------------------------------------------\n",
      "const        -26.0706      7.616     -3.423      0.003     -42.140     -10.001\n",
      "x1             6.6928      1.105      6.058      0.000       4.362       9.024\n",
      "==============================================================================\n",
      "Omnibus:                        0.241   Durbin-Watson:                   1.382\n",
      "Prob(Omnibus):                  0.886   Jarque-Bera (JB):                0.334\n",
      "Skew:                           0.223   Prob(JB):                        0.846\n",
      "Kurtosis:                       2.528   Cond. No.                         45.3\n",
      "==============================================================================\n",
      "\n",
      "Notes:\n",
      "[1] Standard Errors assume that the covariance matrix of the errors is correctly specified.\n"
     ]
    },
    {
     "name": "stderr",
     "output_type": "stream",
     "text": [
      "/opt/anaconda3/lib/python3.12/site-packages/scipy/stats/_axis_nan_policy.py:531: UserWarning: kurtosistest only valid for n>=20 ... continuing anyway, n=19\n",
      "  res = hypotest_fun_out(*samples, **kwds)\n"
     ]
    }
   ],
   "source": [
    "#Data were load before\n",
    "X = df_clean[['%jobless']].to_numpy()\n",
    "Y = df_clean[['Murders_M']].to_numpy()\n",
    "X = sm.add_constant(X)\n",
    "model = sm.OLS(Y, X)\n",
    "results = model.fit()\n",
    "print(results.summary())"
   ]
  },
  {
   "cell_type": "code",
   "execution_count": 36,
   "id": "a8244e37-f3c0-4574-a9fb-565995667366",
   "metadata": {},
   "outputs": [],
   "source": [
    "# The coefficient is 6.6928 and the R-square is 0.683"
   ]
  },
  {
   "cell_type": "markdown",
   "id": "05831247-4e44-42e0-bc19-6e4dbf35b6f0",
   "metadata": {},
   "source": [
    "#### Add the line with the estimated Murders rate using your linear regression model in Requirement 3 to the figure you drew in Step 2"
   ]
  },
  {
   "cell_type": "code",
   "execution_count": 41,
   "id": "f9def86d-a914-477a-aab1-f0df15617c70",
   "metadata": {},
   "outputs": [
    {
     "data": {
      "image/png": "[encoded data removed]",
      "text/plain": [
       "<Figure size 640x480 with 1 Axes>"
      ]
     },
     "metadata": {},
     "output_type": "display_data"
    }
   ],
   "source": [
    "y_est = results.predict(X)\n",
    "\n",
    "#Plot the estimated line aloing with scattered raw data on figure \n",
    "ax = plt.axes()\n",
    "ax.set_xlabel('%jobless')\n",
    "ax.set_ylabel('Murders_M')\n",
    "ax.scatter(df_clean['%jobless'], df_clean['Murders_M'])\n",
    "# Plot the regression line using estimated values (from model.predict)\n",
    "ax.plot(df_clean['%jobless'], y_est)\n",
    "plt.show()"
   ]
  },
  {
   "cell_type": "code",
   "execution_count": null,
   "id": "bd30c9f6-4854-40f4-8a88-89e1ce88603e",
   "metadata": {},
   "outputs": [],
   "source": []
  }
 ],
 "metadata": {
  "kernelspec": {
   "display_name": "Python [conda env:base] *",
   "language": "python",
   "name": "conda-base-py"
  },
  "language_info": {
   "codemirror_mode": {
    "name": "ipython",
    "version": 3
   },
   "file_extension": ".py",
   "mimetype": "text/x-python",
   "name": "python",
   "nbconvert_exporter": "python",
   "pygments_lexer": "ipython3",
   "version": "3.12.7"
  }
 },
 "nbformat": 4,
 "nbformat_minor": 5
}
