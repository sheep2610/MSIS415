{
 "cells": [
  {
   "cell_type": "code",
   "execution_count": 6,
   "id": "9338dc55-5266-45e5-bca9-aba437067a36",
   "metadata": {},
   "outputs": [
    {
     "name": "stdin",
     "output_type": "stream",
     "text": [
      "Please enter the first integer: 5\n",
      "Please enter the second integer: 7\n"
     ]
    },
    {
     "name": "stdout",
     "output_type": "stream",
     "text": [
      "The sum is 12\n",
      "The average is 6.0\n",
      "The product is 35\n"
     ]
    }
   ],
   "source": [
    "import math\n",
    "\n",
    "int_1_str=input(\"Please enter the first integer:\")\n",
    "int_2_str=input(\"Please enter the second integer:\")\n",
    "x=int(int_1_str)\n",
    "y=int(int_2_str)\n",
    "\n",
    "sum = x + y\n",
    "average = sum /2\n",
    "product = x * y \n",
    "print(\"The sum is\", sum)\n",
    "print(\"The average is\", average)\n",
    "print(\"The product is\", product)"
   ]
  },
  {
   "cell_type": "code",
   "execution_count": null,
   "id": "b49a8e00-9d03-4fde-82f3-c14eec584dee",
   "metadata": {},
   "outputs": [],
   "source": []
  }
 ],
 "metadata": {
  "kernelspec": {
   "display_name": "Python [conda env:base] *",
   "language": "python",
   "name": "conda-base-py"
  },
  "language_info": {
   "codemirror_mode": {
    "name": "ipython",
    "version": 3
   },
   "file_extension": ".py",
   "mimetype": "text/x-python",
   "name": "python",
   "nbconvert_exporter": "python",
   "pygments_lexer": "ipython3",
   "version": "3.12.7"
  }
 },
 "nbformat": 4,
 "nbformat_minor": 5
}
